{
 "cells": [
  {
   "cell_type": "markdown",
   "id": "defensive-catering",
   "metadata": {},
   "source": [
    "# Feature Engineering -Binning\n",
    "\n",
    "* Binning can be applied on both categorical and numerical data.\n",
    "\n",
    "* The main motivation of binning is to make the model more robust and prevent overfitting. However, it has a cost on the performance. Every time you bin something, you sacrifice information and make your data more regularized."
   ]
  },
  {
   "cell_type": "markdown",
   "id": "limited-layer",
   "metadata": {},
   "source": [
    "## Numerical Binning Example\n",
    "\n",
    "Value      Bin       \n",
    "0-30   ->  Low       \n",
    "31-70  ->  Mid       \n",
    "71-100 ->  High"
   ]
  },
  {
   "cell_type": "markdown",
   "id": "following-beast",
   "metadata": {},
   "source": [
    "## Categorical Binning Example\n",
    "\n",
    "Value      Bin       \n",
    "Spain  ->  Europe      \n",
    "Italy  ->  Europe       \n",
    "Chile  ->  South America\n",
    "Brazil ->  South America"
   ]
  },
  {
   "cell_type": "markdown",
   "id": "tamil-construction",
   "metadata": {},
   "source": [
    "<img src=\"binning image.png\" />"
   ]
  },
  {
   "cell_type": "code",
   "execution_count": 10,
   "id": "detailed-humanitarian",
   "metadata": {},
   "outputs": [
    {
     "data": {
      "text/html": [
       "<img src=\"binning image.png\">"
      ],
      "text/plain": [
       "<IPython.core.display.HTML object>"
      ]
     },
     "metadata": {},
     "output_type": "display_data"
    }
   ],
   "source": [
    "from IPython.display import display, HTML\n",
    "display(HTML('''<img src=\"binning image.png\">'''))"
   ]
  },
  {
   "cell_type": "code",
   "execution_count": null,
   "id": "suspected-fetish",
   "metadata": {},
   "outputs": [],
   "source": []
  }
 ],
 "metadata": {
  "kernelspec": {
   "display_name": "Python 3",
   "language": "python",
   "name": "python3"
  },
  "language_info": {
   "codemirror_mode": {
    "name": "ipython",
    "version": 3
   },
   "file_extension": ".py",
   "mimetype": "text/x-python",
   "name": "python",
   "nbconvert_exporter": "python",
   "pygments_lexer": "ipython3",
   "version": "3.8.6"
  }
 },
 "nbformat": 4,
 "nbformat_minor": 5
}
