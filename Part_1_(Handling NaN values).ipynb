{
 "cells": [
  {
   "cell_type": "markdown",
   "id": "contained-batman",
   "metadata": {},
   "source": [
    "# Feature Engineering - Handling NaN values"
   ]
  },
  {
   "cell_type": "markdown",
   "id": "voluntary-assist",
   "metadata": {},
   "source": [
    "Why are their Missing values??\n",
    "\n",
    "* They hesitate to put down the information\n",
    "\n",
    "* Survey informations are not that valid\n",
    "      eg: \n",
    "        1. Men--salary\n",
    "        2. Women---age\n",
    "\n",
    "\n",
    "* People may have died----NAN"
   ]
  },
  {
   "cell_type": "markdown",
   "id": "flush-swift",
   "metadata": {},
   "source": [
    "## There are 2 types of missing data\n",
    "\n",
    "### 1) Missing data not at Random (MNAR)\n",
    "\n",
    "There is some relationship that exists between the dataset that is missing within the dataset\n",
    "\n",
    "in detail : \n",
    "Systematic missing Values There is absolutely some relationship between the data missing and any other values, observed or missing, within the dataset.\n",
    "\n",
    "\n",
    "### 1) Missing at Random (MAR)\n",
    "\n",
    "    eg :\n",
    "1. Men --- hide their salary &\n",
    "2. Women -- hide their age"
   ]
  },
  {
   "cell_type": "markdown",
   "id": "regional-latin",
   "metadata": {},
   "source": [
    "# All techniques to handel missing values\n",
    "\n",
    "1. Dropping the NaN values\n",
    "2. Mean/ Median/Mode replacement\n",
    "3. Random Sample Imputation\n",
    "4. Capturing NAN values with 0 and other values with 1\n",
    "5. End of Distribution imputation\n",
    "6. Arbitrary imputation\n",
    "7. Frequent categories imputation\n",
    "8. CategoricalImputer"
   ]
  },
  {
   "cell_type": "markdown",
   "id": "invalid-elder",
   "metadata": {},
   "source": [
    "To get more info read this : https://feature-engine.readthedocs.io/en/latest/imputation/index.html"
   ]
  },
  {
   "cell_type": "code",
   "execution_count": 1,
   "id": "elder-running",
   "metadata": {},
   "outputs": [],
   "source": [
    "import pandas as pd\n",
    "import numpy as np\n",
    "import seaborn as sns\n",
    "import matplotlib.pyplot as plt\n",
    "%matplotlib inline"
   ]
  },
  {
   "cell_type": "code",
   "execution_count": 2,
   "id": "northern-james",
   "metadata": {},
   "outputs": [],
   "source": [
    "df = pd.read_csv('titanic.csv')"
   ]
  },
  {
   "cell_type": "code",
   "execution_count": 3,
   "id": "stretch-michigan",
   "metadata": {},
   "outputs": [
    {
     "data": {
      "text/html": [
       "<div>\n",
       "<style scoped>\n",
       "    .dataframe tbody tr th:only-of-type {\n",
       "        vertical-align: middle;\n",
       "    }\n",
       "\n",
       "    .dataframe tbody tr th {\n",
       "        vertical-align: top;\n",
       "    }\n",
       "\n",
       "    .dataframe thead th {\n",
       "        text-align: right;\n",
       "    }\n",
       "</style>\n",
       "<table border=\"1\" class=\"dataframe\">\n",
       "  <thead>\n",
       "    <tr style=\"text-align: right;\">\n",
       "      <th></th>\n",
       "      <th>PassengerId</th>\n",
       "      <th>Survived</th>\n",
       "      <th>Pclass</th>\n",
       "      <th>Name</th>\n",
       "      <th>Sex</th>\n",
       "      <th>Age</th>\n",
       "      <th>SibSp</th>\n",
       "      <th>Parch</th>\n",
       "      <th>Ticket</th>\n",
       "      <th>Fare</th>\n",
       "      <th>Cabin</th>\n",
       "      <th>Embarked</th>\n",
       "    </tr>\n",
       "  </thead>\n",
       "  <tbody>\n",
       "    <tr>\n",
       "      <th>0</th>\n",
       "      <td>1</td>\n",
       "      <td>0</td>\n",
       "      <td>3</td>\n",
       "      <td>Braund, Mr. Owen Harris</td>\n",
       "      <td>male</td>\n",
       "      <td>22.0</td>\n",
       "      <td>1</td>\n",
       "      <td>0</td>\n",
       "      <td>A/5 21171</td>\n",
       "      <td>7.2500</td>\n",
       "      <td>NaN</td>\n",
       "      <td>S</td>\n",
       "    </tr>\n",
       "    <tr>\n",
       "      <th>1</th>\n",
       "      <td>2</td>\n",
       "      <td>1</td>\n",
       "      <td>1</td>\n",
       "      <td>Cumings, Mrs. John Bradley (Florence Briggs Th...</td>\n",
       "      <td>female</td>\n",
       "      <td>38.0</td>\n",
       "      <td>1</td>\n",
       "      <td>0</td>\n",
       "      <td>PC 17599</td>\n",
       "      <td>71.2833</td>\n",
       "      <td>C85</td>\n",
       "      <td>C</td>\n",
       "    </tr>\n",
       "    <tr>\n",
       "      <th>2</th>\n",
       "      <td>3</td>\n",
       "      <td>1</td>\n",
       "      <td>3</td>\n",
       "      <td>Heikkinen, Miss. Laina</td>\n",
       "      <td>female</td>\n",
       "      <td>26.0</td>\n",
       "      <td>0</td>\n",
       "      <td>0</td>\n",
       "      <td>STON/O2. 3101282</td>\n",
       "      <td>7.9250</td>\n",
       "      <td>NaN</td>\n",
       "      <td>S</td>\n",
       "    </tr>\n",
       "    <tr>\n",
       "      <th>3</th>\n",
       "      <td>4</td>\n",
       "      <td>1</td>\n",
       "      <td>1</td>\n",
       "      <td>Futrelle, Mrs. Jacques Heath (Lily May Peel)</td>\n",
       "      <td>female</td>\n",
       "      <td>35.0</td>\n",
       "      <td>1</td>\n",
       "      <td>0</td>\n",
       "      <td>113803</td>\n",
       "      <td>53.1000</td>\n",
       "      <td>C123</td>\n",
       "      <td>S</td>\n",
       "    </tr>\n",
       "    <tr>\n",
       "      <th>4</th>\n",
       "      <td>5</td>\n",
       "      <td>0</td>\n",
       "      <td>3</td>\n",
       "      <td>Allen, Mr. William Henry</td>\n",
       "      <td>male</td>\n",
       "      <td>35.0</td>\n",
       "      <td>0</td>\n",
       "      <td>0</td>\n",
       "      <td>373450</td>\n",
       "      <td>8.0500</td>\n",
       "      <td>NaN</td>\n",
       "      <td>S</td>\n",
       "    </tr>\n",
       "  </tbody>\n",
       "</table>\n",
       "</div>"
      ],
      "text/plain": [
       "   PassengerId  Survived  Pclass  \\\n",
       "0            1         0       3   \n",
       "1            2         1       1   \n",
       "2            3         1       3   \n",
       "3            4         1       1   \n",
       "4            5         0       3   \n",
       "\n",
       "                                                Name     Sex   Age  SibSp  \\\n",
       "0                            Braund, Mr. Owen Harris    male  22.0      1   \n",
       "1  Cumings, Mrs. John Bradley (Florence Briggs Th...  female  38.0      1   \n",
       "2                             Heikkinen, Miss. Laina  female  26.0      0   \n",
       "3       Futrelle, Mrs. Jacques Heath (Lily May Peel)  female  35.0      1   \n",
       "4                           Allen, Mr. William Henry    male  35.0      0   \n",
       "\n",
       "   Parch            Ticket     Fare Cabin Embarked  \n",
       "0      0         A/5 21171   7.2500   NaN        S  \n",
       "1      0          PC 17599  71.2833   C85        C  \n",
       "2      0  STON/O2. 3101282   7.9250   NaN        S  \n",
       "3      0            113803  53.1000  C123        S  \n",
       "4      0            373450   8.0500   NaN        S  "
      ]
     },
     "execution_count": 3,
     "metadata": {},
     "output_type": "execute_result"
    }
   ],
   "source": [
    "df.head()"
   ]
  },
  {
   "cell_type": "code",
   "execution_count": null,
   "id": "beautiful-router",
   "metadata": {},
   "outputs": [],
   "source": []
  },
  {
   "cell_type": "markdown",
   "id": "increasing-aurora",
   "metadata": {},
   "source": [
    "## 1) Dropping the NaN values\n",
    "\n",
    "Dropping the nan values is a bad approach because here we will loose the information so ......avoid this as much as possible"
   ]
  },
  {
   "cell_type": "code",
   "execution_count": 4,
   "id": "exclusive-juice",
   "metadata": {},
   "outputs": [
    {
     "data": {
      "text/plain": [
       "PassengerId      0\n",
       "Survived         0\n",
       "Pclass           0\n",
       "Name             0\n",
       "Sex              0\n",
       "Age            177\n",
       "SibSp            0\n",
       "Parch            0\n",
       "Ticket           0\n",
       "Fare             0\n",
       "Cabin          687\n",
       "Embarked         2\n",
       "dtype: int64"
      ]
     },
     "execution_count": 4,
     "metadata": {},
     "output_type": "execute_result"
    }
   ],
   "source": [
    "df.isnull().sum()"
   ]
  },
  {
   "cell_type": "code",
   "execution_count": 5,
   "id": "brief-gothic",
   "metadata": {},
   "outputs": [],
   "source": [
    "# Below is the code \n",
    "df1 = df.dropna(axis=0, how='any', thresh=None, subset=None, inplace=False)\n",
    "\n",
    "# axis means rows or columns --> 0 for rows and 1 for columns\n",
    "# how: 'any' means Drop the rows where any elements are missing.\n",
    "# thresh = 2 means Keep only the rows with at least 2 non-NA values. (more than 2 remove)\n",
    "# subset means we acn specify the particular columns to look for missing values. eg: subset=['col_name_1', 'col_name_2']"
   ]
  },
  {
   "cell_type": "markdown",
   "id": "amber-formation",
   "metadata": {},
   "source": [
    "#doing all this from feature engine module\n",
    "\n",
    "from feature_engine.imputation import DropMissingData\n",
    "\n",
    "missingdata_imputer = DropMissingData(variables=['col_name', 'col_name'])\n",
    "\n",
    "#if you wanto to directly fit to the data\n",
    "\n",
    "DropMissingData.fit(df)\n",
    "\n",
    "\n",
    "#if you want to fit the data to both tainning and testing\n",
    "\n",
    "#DropMissingData.fit(X_train)\n",
    "\n",
    "transform the data\n",
    "\n",
    "train_t = DropMissingData.transform(X_train)\n",
    "\n",
    "test_t = DropMissingData.transform(X_test)"
   ]
  },
  {
   "cell_type": "code",
   "execution_count": null,
   "id": "tender-medication",
   "metadata": {},
   "outputs": [],
   "source": []
  },
  {
   "cell_type": "markdown",
   "id": "electric-obligation",
   "metadata": {},
   "source": [
    "## 2)  Mean/Median/Mode replacement"
   ]
  },
  {
   "cell_type": "code",
   "execution_count": 6,
   "id": "friendly-compiler",
   "metadata": {},
   "outputs": [
    {
     "data": {
      "text/plain": [
       "['Age', 'Cabin', 'Embarked']"
      ]
     },
     "execution_count": 6,
     "metadata": {},
     "output_type": "execute_result"
    }
   ],
   "source": [
    "# to take the columns which has nan values \n",
    "\n",
    "columns_with_nan = [feature for feature in df.columns if df[feature].isnull().sum() > 1]\n",
    "columns_with_nan"
   ]
  },
  {
   "cell_type": "code",
   "execution_count": 7,
   "id": "central-payday",
   "metadata": {},
   "outputs": [
    {
     "data": {
      "text/html": [
       "<div>\n",
       "<style scoped>\n",
       "    .dataframe tbody tr th:only-of-type {\n",
       "        vertical-align: middle;\n",
       "    }\n",
       "\n",
       "    .dataframe tbody tr th {\n",
       "        vertical-align: top;\n",
       "    }\n",
       "\n",
       "    .dataframe thead th {\n",
       "        text-align: right;\n",
       "    }\n",
       "</style>\n",
       "<table border=\"1\" class=\"dataframe\">\n",
       "  <thead>\n",
       "    <tr style=\"text-align: right;\">\n",
       "      <th></th>\n",
       "      <th>Age</th>\n",
       "      <th>Cabin</th>\n",
       "      <th>Embarked</th>\n",
       "    </tr>\n",
       "  </thead>\n",
       "  <tbody>\n",
       "    <tr>\n",
       "      <th>0</th>\n",
       "      <td>22.0</td>\n",
       "      <td>NaN</td>\n",
       "      <td>S</td>\n",
       "    </tr>\n",
       "    <tr>\n",
       "      <th>1</th>\n",
       "      <td>38.0</td>\n",
       "      <td>C85</td>\n",
       "      <td>C</td>\n",
       "    </tr>\n",
       "    <tr>\n",
       "      <th>2</th>\n",
       "      <td>26.0</td>\n",
       "      <td>NaN</td>\n",
       "      <td>S</td>\n",
       "    </tr>\n",
       "    <tr>\n",
       "      <th>3</th>\n",
       "      <td>35.0</td>\n",
       "      <td>C123</td>\n",
       "      <td>S</td>\n",
       "    </tr>\n",
       "    <tr>\n",
       "      <th>4</th>\n",
       "      <td>35.0</td>\n",
       "      <td>NaN</td>\n",
       "      <td>S</td>\n",
       "    </tr>\n",
       "  </tbody>\n",
       "</table>\n",
       "</div>"
      ],
      "text/plain": [
       "    Age Cabin Embarked\n",
       "0  22.0   NaN        S\n",
       "1  38.0   C85        C\n",
       "2  26.0   NaN        S\n",
       "3  35.0  C123        S\n",
       "4  35.0   NaN        S"
      ]
     },
     "execution_count": 7,
     "metadata": {},
     "output_type": "execute_result"
    }
   ],
   "source": [
    "# taking only the columns which has nan values manually\n",
    "df2 = pd.read_csv('titanic.csv', usecols = ['Age', 'Cabin', 'Embarked'])\n",
    "df2.head()"
   ]
  },
  {
   "cell_type": "code",
   "execution_count": 8,
   "id": "usual-cargo",
   "metadata": {},
   "outputs": [
    {
     "data": {
      "text/plain": [
       "Age         177\n",
       "Cabin       687\n",
       "Embarked      2\n",
       "dtype: int64"
      ]
     },
     "execution_count": 8,
     "metadata": {},
     "output_type": "execute_result"
    }
   ],
   "source": [
    "df2.isnull().sum()"
   ]
  },
  {
   "cell_type": "code",
   "execution_count": 9,
   "id": "loving-anatomy",
   "metadata": {},
   "outputs": [
    {
     "data": {
      "text/plain": [
       "Age         0.198653\n",
       "Cabin       0.771044\n",
       "Embarked    0.002245\n",
       "dtype: float64"
      ]
     },
     "execution_count": 9,
     "metadata": {},
     "output_type": "execute_result"
    }
   ],
   "source": [
    "df2.isnull().mean()"
   ]
  },
  {
   "cell_type": "code",
   "execution_count": 10,
   "id": "loving-month",
   "metadata": {},
   "outputs": [],
   "source": [
    "## filling NaN values for some columns (i.e variable)\n",
    "\n",
    "def impute_nan(df, variable, median):\n",
    "    df[variable + \"_median\"] = df[variable].fillna(median)"
   ]
  },
  {
   "cell_type": "code",
   "execution_count": 11,
   "id": "popular-boston",
   "metadata": {},
   "outputs": [
    {
     "data": {
      "text/plain": [
       "28.0"
      ]
     },
     "execution_count": 11,
     "metadata": {},
     "output_type": "execute_result"
    }
   ],
   "source": [
    "median = df2.Age.median()\n",
    "median"
   ]
  },
  {
   "cell_type": "code",
   "execution_count": 12,
   "id": "exclusive-beatles",
   "metadata": {},
   "outputs": [],
   "source": [
    "# here I am doing for single column same likw this we can so for all columns\n",
    "impute_nan(df2, 'Age', median)\n",
    "\n",
    "#if you want to do for all columns use the below code:\n",
    "\n",
    "# for feature in ['Age', 'Cabin', 'Embarked']:\n",
    "#     impute_nan(df2, feature)\n",
    "\n",
    "\n",
    "# doing for all columns in much more simple way\n",
    "\n",
    "# columns_with_nan = [feature for feature in df2.columns if df2[feature].isnull().sum() > 1]\n",
    "\n",
    "# for feature in columns_with_nan:\n",
    "#     impute_nan(df2, feature)"
   ]
  },
  {
   "cell_type": "code",
   "execution_count": 13,
   "id": "humanitarian-pharmacy",
   "metadata": {
    "tags": []
   },
   "outputs": [
    {
     "data": {
      "text/html": [
       "<div>\n",
       "<style scoped>\n",
       "    .dataframe tbody tr th:only-of-type {\n",
       "        vertical-align: middle;\n",
       "    }\n",
       "\n",
       "    .dataframe tbody tr th {\n",
       "        vertical-align: top;\n",
       "    }\n",
       "\n",
       "    .dataframe thead th {\n",
       "        text-align: right;\n",
       "    }\n",
       "</style>\n",
       "<table border=\"1\" class=\"dataframe\">\n",
       "  <thead>\n",
       "    <tr style=\"text-align: right;\">\n",
       "      <th></th>\n",
       "      <th>Age</th>\n",
       "      <th>Cabin</th>\n",
       "      <th>Embarked</th>\n",
       "      <th>Age_median</th>\n",
       "    </tr>\n",
       "  </thead>\n",
       "  <tbody>\n",
       "    <tr>\n",
       "      <th>0</th>\n",
       "      <td>22.0</td>\n",
       "      <td>NaN</td>\n",
       "      <td>S</td>\n",
       "      <td>22.0</td>\n",
       "    </tr>\n",
       "    <tr>\n",
       "      <th>1</th>\n",
       "      <td>38.0</td>\n",
       "      <td>C85</td>\n",
       "      <td>C</td>\n",
       "      <td>38.0</td>\n",
       "    </tr>\n",
       "    <tr>\n",
       "      <th>2</th>\n",
       "      <td>26.0</td>\n",
       "      <td>NaN</td>\n",
       "      <td>S</td>\n",
       "      <td>26.0</td>\n",
       "    </tr>\n",
       "    <tr>\n",
       "      <th>3</th>\n",
       "      <td>35.0</td>\n",
       "      <td>C123</td>\n",
       "      <td>S</td>\n",
       "      <td>35.0</td>\n",
       "    </tr>\n",
       "    <tr>\n",
       "      <th>4</th>\n",
       "      <td>35.0</td>\n",
       "      <td>NaN</td>\n",
       "      <td>S</td>\n",
       "      <td>35.0</td>\n",
       "    </tr>\n",
       "  </tbody>\n",
       "</table>\n",
       "</div>"
      ],
      "text/plain": [
       "    Age Cabin Embarked  Age_median\n",
       "0  22.0   NaN        S        22.0\n",
       "1  38.0   C85        C        38.0\n",
       "2  26.0   NaN        S        26.0\n",
       "3  35.0  C123        S        35.0\n",
       "4  35.0   NaN        S        35.0"
      ]
     },
     "execution_count": 13,
     "metadata": {},
     "output_type": "execute_result"
    }
   ],
   "source": [
    "df2.head()"
   ]
  },
  {
   "cell_type": "code",
   "execution_count": 14,
   "id": "wired-variable",
   "metadata": {},
   "outputs": [
    {
     "data": {
      "text/plain": [
       "<matplotlib.legend.Legend at 0x225af2d8160>"
      ]
     },
     "execution_count": 14,
     "metadata": {},
     "output_type": "execute_result"
    },
    {
     "data": {
      "image/png": "[encoded data removed]",
      "text/plain": [
       "<Figure size 432x288 with 1 Axes>"
      ]
     },
     "metadata": {
      "needs_background": "light"
     },
     "output_type": "display_data"
    }
   ],
   "source": [
    "fig = plt.figure()\n",
    "ax = fig.add_subplot(111)\n",
    "df2['Age'].plot(kind='kde', ax=ax)\n",
    "df2['Age_median'].plot(kind='kde', ax=ax, color='red')\n",
    "lines, labels = ax.get_legend_handles_labels()\n",
    "ax.legend(lines, labels, loc='best')"
   ]
  },
  {
   "cell_type": "raw",
   "id": "inappropriate-vegetation",
   "metadata": {},
   "source": [
    "## doing all this from feature engine module \n",
    "\n",
    "from feature_engine.imputation import MeanMedianImputer\n",
    "median_imputer = MeanMedianImputer(imputation_method='median', variables=['col_name', 'col_name'])\n",
    "\n",
    "# if you wanto to directly fit to the data\n",
    "\n",
    "median_imputer.fit(df)\n",
    "\n",
    "\n",
    "# if you want to fit the data to both tainning and testing\n",
    "\n",
    "median_imputer.fit(X_train)\n",
    "\n",
    "# transform the data\n",
    "train_t = median_imputer.transform(X_train)\n",
    "test_t = median_imputer.transform(X_test)"
   ]
  },
  {
   "cell_type": "markdown",
   "id": "communist-strip",
   "metadata": {},
   "source": [
    "### Advantages And Disadvantages of Mean/Median Imputation¶\n",
    "#### Advantages\n",
    "1. Easy to implement(Robust to outliers)\n",
    "2. Faster way to obtain the complete dataset \n",
    "\n",
    "### Disadvantages\n",
    "1. Change or Distortion in the original variance\n",
    "2. Impacts Correlation"
   ]
  },
  {
   "cell_type": "code",
   "execution_count": null,
   "id": "animal-creator",
   "metadata": {},
   "outputs": [],
   "source": []
  },
  {
   "cell_type": "markdown",
   "id": "enclosed-hartford",
   "metadata": {},
   "source": [
    "## 3) Random Sample Imputation\n",
    "\n",
    "* Aim: Random sample imputation consists of taking random observation from the dataset and we use this observation to replace the nan values\n",
    "* When should it be used? It assumes that the data are missing completely at random(MCAR)"
   ]
  },
  {
   "cell_type": "code",
   "execution_count": 15,
   "id": "baking-confidence",
   "metadata": {},
   "outputs": [],
   "source": [
    "df3 = pd.read_csv('titanic.csv',usecols=['Age','Fare','Survived'])"
   ]
  },
  {
   "cell_type": "code",
   "execution_count": 16,
   "id": "hawaiian-living",
   "metadata": {},
   "outputs": [
    {
     "data": {
      "text/html": [
       "<div>\n",
       "<style scoped>\n",
       "    .dataframe tbody tr th:only-of-type {\n",
       "        vertical-align: middle;\n",
       "    }\n",
       "\n",
       "    .dataframe tbody tr th {\n",
       "        vertical-align: top;\n",
       "    }\n",
       "\n",
       "    .dataframe thead th {\n",
       "        text-align: right;\n",
       "    }\n",
       "</style>\n",
       "<table border=\"1\" class=\"dataframe\">\n",
       "  <thead>\n",
       "    <tr style=\"text-align: right;\">\n",
       "      <th></th>\n",
       "      <th>Survived</th>\n",
       "      <th>Age</th>\n",
       "      <th>Fare</th>\n",
       "    </tr>\n",
       "  </thead>\n",
       "  <tbody>\n",
       "    <tr>\n",
       "      <th>0</th>\n",
       "      <td>0</td>\n",
       "      <td>22.0</td>\n",
       "      <td>7.2500</td>\n",
       "    </tr>\n",
       "    <tr>\n",
       "      <th>1</th>\n",
       "      <td>1</td>\n",
       "      <td>38.0</td>\n",
       "      <td>71.2833</td>\n",
       "    </tr>\n",
       "    <tr>\n",
       "      <th>2</th>\n",
       "      <td>1</td>\n",
       "      <td>26.0</td>\n",
       "      <td>7.9250</td>\n",
       "    </tr>\n",
       "    <tr>\n",
       "      <th>3</th>\n",
       "      <td>1</td>\n",
       "      <td>35.0</td>\n",
       "      <td>53.1000</td>\n",
       "    </tr>\n",
       "    <tr>\n",
       "      <th>4</th>\n",
       "      <td>0</td>\n",
       "      <td>35.0</td>\n",
       "      <td>8.0500</td>\n",
       "    </tr>\n",
       "  </tbody>\n",
       "</table>\n",
       "</div>"
      ],
      "text/plain": [
       "   Survived   Age     Fare\n",
       "0         0  22.0   7.2500\n",
       "1         1  38.0  71.2833\n",
       "2         1  26.0   7.9250\n",
       "3         1  35.0  53.1000\n",
       "4         0  35.0   8.0500"
      ]
     },
     "execution_count": 16,
     "metadata": {},
     "output_type": "execute_result"
    }
   ],
   "source": [
    "df3.head()"
   ]
  },
  {
   "cell_type": "code",
   "execution_count": 17,
   "id": "lasting-wayne",
   "metadata": {},
   "outputs": [
    {
     "data": {
      "text/plain": [
       "Survived      0\n",
       "Age         177\n",
       "Fare          0\n",
       "dtype: int64"
      ]
     },
     "execution_count": 17,
     "metadata": {},
     "output_type": "execute_result"
    }
   ],
   "source": [
    "df3.isnull().sum()"
   ]
  },
  {
   "cell_type": "code",
   "execution_count": 18,
   "id": "stopped-graham",
   "metadata": {},
   "outputs": [
    {
     "data": {
      "text/plain": [
       "27    19.0\n",
       "Name: Age, dtype: float64"
      ]
     },
     "execution_count": 18,
     "metadata": {},
     "output_type": "execute_result"
    }
   ],
   "source": [
    "# just picking one sample randomly (here I have used drop na because I don't need the na row)\n",
    "df3['Age'].dropna().sample()"
   ]
  },
  {
   "cell_type": "code",
   "execution_count": 19,
   "id": "connected-credit",
   "metadata": {},
   "outputs": [
    {
     "data": {
      "text/plain": [
       "177    50.0\n",
       "877    19.0\n",
       "44     19.0\n",
       "20     35.0\n",
       "316    24.0\n",
       "       ... \n",
       "599    49.0\n",
       "361    29.0\n",
       "49     18.0\n",
       "642     2.0\n",
       "706    45.0\n",
       "Name: Age, Length: 177, dtype: float64"
      ]
     },
     "execution_count": 19,
     "metadata": {},
     "output_type": "execute_result"
    }
   ],
   "source": [
    "# the below code check where is null values are present and replace Nan with random sample\n",
    "df3['Age'].dropna().sample(df3['Age'].isnull().sum())"
   ]
  },
  {
   "cell_type": "code",
   "execution_count": 20,
   "id": "clear-table",
   "metadata": {},
   "outputs": [
    {
     "data": {
      "text/plain": [
       "423    28.00\n",
       "177    50.00\n",
       "305     0.92\n",
       "292    36.00\n",
       "889    26.00\n",
       "       ...  \n",
       "539    22.00\n",
       "267    25.00\n",
       "352    15.00\n",
       "99     34.00\n",
       "689    15.00\n",
       "Name: Age, Length: 177, dtype: float64"
      ]
     },
     "execution_count": 20,
     "metadata": {},
     "output_type": "execute_result"
    }
   ],
   "source": [
    "# Here I have used random_state because it replace NaN with specific value only ( if we not use random_state then values change evrytime when we run .)\n",
    "\n",
    "df3['Age'].dropna().sample(df3['Age'].isnull().sum(),random_state=0)"
   ]
  },
  {
   "cell_type": "code",
   "execution_count": 21,
   "id": "following-nepal",
   "metadata": {},
   "outputs": [
    {
     "data": {
      "text/plain": [
       "Int64Index([  5,  17,  19,  26,  28,  29,  31,  32,  36,  42,\n",
       "            ...\n",
       "            832, 837, 839, 846, 849, 859, 863, 868, 878, 888],\n",
       "           dtype='int64', length=177)"
      ]
     },
     "execution_count": 21,
     "metadata": {},
     "output_type": "execute_result"
    }
   ],
   "source": [
    "# to get the null values index column \n",
    "df3[df3['Age'].isnull()].index"
   ]
  },
  {
   "cell_type": "code",
   "execution_count": 22,
   "id": "southern-skirt",
   "metadata": {},
   "outputs": [],
   "source": [
    "def RSI(df, variable, median):\n",
    "    df[variable+'_median'] = df[variable].fillna(median) # replace Nan with median\n",
    "    df[variable+'_random'] = df[variable] # Copy feature into new feature\n",
    "    #calculate random sample and store into random_sample_values\n",
    "    random_sample_value = df[variable].dropna().sample(df[variable].isnull().sum(),random_state=0)\n",
    "    \n",
    "    #in random_sample_value all filled nan values are present now we want to put/merge this all filled values in our dataset\n",
    "    # for this we want to match all nan values index in random_sample_values with df[variable_'random] \n",
    "    #Pandas need to have same index in order to merge dataset\n",
    "    random_sample_value.index = df[df[variable].isnull()].index#find index of NaN values in feature\n",
    "    #now put a condition where ever it is null with loc function then replace with random_sample_values\n",
    "    df.loc[df[variable].isnull(),variable+'_random'] = random_sample_value"
   ]
  },
  {
   "cell_type": "code",
   "execution_count": 23,
   "id": "secure-valuable",
   "metadata": {},
   "outputs": [
    {
     "data": {
      "text/plain": [
       "28.0"
      ]
     },
     "execution_count": 23,
     "metadata": {},
     "output_type": "execute_result"
    }
   ],
   "source": [
    "median = df3['Age'].median()\n",
    "median"
   ]
  },
  {
   "cell_type": "code",
   "execution_count": 24,
   "id": "romantic-patrick",
   "metadata": {},
   "outputs": [],
   "source": [
    "RSI(df3,'Age',median)"
   ]
  },
  {
   "cell_type": "code",
   "execution_count": 25,
   "id": "noted-pearl",
   "metadata": {},
   "outputs": [
    {
     "data": {
      "text/html": [
       "<div>\n",
       "<style scoped>\n",
       "    .dataframe tbody tr th:only-of-type {\n",
       "        vertical-align: middle;\n",
       "    }\n",
       "\n",
       "    .dataframe tbody tr th {\n",
       "        vertical-align: top;\n",
       "    }\n",
       "\n",
       "    .dataframe thead th {\n",
       "        text-align: right;\n",
       "    }\n",
       "</style>\n",
       "<table border=\"1\" class=\"dataframe\">\n",
       "  <thead>\n",
       "    <tr style=\"text-align: right;\">\n",
       "      <th></th>\n",
       "      <th>Survived</th>\n",
       "      <th>Age</th>\n",
       "      <th>Fare</th>\n",
       "      <th>Age_median</th>\n",
       "      <th>Age_random</th>\n",
       "    </tr>\n",
       "  </thead>\n",
       "  <tbody>\n",
       "    <tr>\n",
       "      <th>0</th>\n",
       "      <td>0</td>\n",
       "      <td>22.0</td>\n",
       "      <td>7.2500</td>\n",
       "      <td>22.0</td>\n",
       "      <td>22.0</td>\n",
       "    </tr>\n",
       "    <tr>\n",
       "      <th>1</th>\n",
       "      <td>1</td>\n",
       "      <td>38.0</td>\n",
       "      <td>71.2833</td>\n",
       "      <td>38.0</td>\n",
       "      <td>38.0</td>\n",
       "    </tr>\n",
       "    <tr>\n",
       "      <th>2</th>\n",
       "      <td>1</td>\n",
       "      <td>26.0</td>\n",
       "      <td>7.9250</td>\n",
       "      <td>26.0</td>\n",
       "      <td>26.0</td>\n",
       "    </tr>\n",
       "    <tr>\n",
       "      <th>3</th>\n",
       "      <td>1</td>\n",
       "      <td>35.0</td>\n",
       "      <td>53.1000</td>\n",
       "      <td>35.0</td>\n",
       "      <td>35.0</td>\n",
       "    </tr>\n",
       "    <tr>\n",
       "      <th>4</th>\n",
       "      <td>0</td>\n",
       "      <td>35.0</td>\n",
       "      <td>8.0500</td>\n",
       "      <td>35.0</td>\n",
       "      <td>35.0</td>\n",
       "    </tr>\n",
       "  </tbody>\n",
       "</table>\n",
       "</div>"
      ],
      "text/plain": [
       "   Survived   Age     Fare  Age_median  Age_random\n",
       "0         0  22.0   7.2500        22.0        22.0\n",
       "1         1  38.0  71.2833        38.0        38.0\n",
       "2         1  26.0   7.9250        26.0        26.0\n",
       "3         1  35.0  53.1000        35.0        35.0\n",
       "4         0  35.0   8.0500        35.0        35.0"
      ]
     },
     "execution_count": 25,
     "metadata": {},
     "output_type": "execute_result"
    }
   ],
   "source": [
    "df3.head()"
   ]
  },
  {
   "cell_type": "code",
   "execution_count": 26,
   "id": "combined-assignment",
   "metadata": {},
   "outputs": [
    {
     "data": {
      "text/plain": [
       "<matplotlib.legend.Legend at 0x225b4507e80>"
      ]
     },
     "execution_count": 26,
     "metadata": {},
     "output_type": "execute_result"
    },
    {
     "data": {
      "image/png": "[encoded data removed]",
      "text/plain": [
       "<Figure size 432x288 with 1 Axes>"
      ]
     },
     "metadata": {
      "needs_background": "light"
     },
     "output_type": "display_data"
    }
   ],
   "source": [
    "fig = plt.figure()\n",
    "ax = fig.add_subplot(111)\n",
    "df3['Age'].plot(kind='kde', ax=ax, color = 'blue')\n",
    "df3['Age_median'].plot(kind='kde', ax=ax, color='green')\n",
    "df3['Age_random'].plot(kind='kde', ax=ax, color='red')\n",
    "lines, labels = ax.get_legend_handles_labels()\n",
    "ax.legend(lines, labels, loc='best')"
   ]
  },
  {
   "cell_type": "raw",
   "id": "together-brother",
   "metadata": {},
   "source": [
    "## doing all this from feature engine module \n",
    "\n",
    "from feature_engine.imputation import RandomSampleImputer\n",
    "imputer = RandomSampleImputer(\n",
    "        random_state=['MSSubClass', 'YrSold'],\n",
    "        seed='observation',\n",
    "        seeding_method='add'\n",
    "        )\n",
    "# if you wanto to directly fit to the data\n",
    "\n",
    "imputer.fit(df)\n",
    "\n",
    "\n",
    "# if you want to fit the data to both tainning and testing\n",
    "\n",
    "imputer.fit(X_train)\n",
    "\n",
    "# transform the data\n",
    "train_t = imputer.transform(X_train)\n",
    "test_t = imputer.transform(X_test)"
   ]
  },
  {
   "cell_type": "markdown",
   "id": "spiritual-fluid",
   "metadata": {},
   "source": [
    "### Info: \n",
    "\n",
    "* random_state (default=None): There are 2 ways in which the seed can be set in the RandomSampleImputer()\n",
    "\n",
    "      * If seed = ‘general’ then the random_state can be either None or an integer. The seed will be used as the random_state and all observations will be imputed in one go. This is equivalent to pandas.sample(n, random_state=seed) where n is the number of observations with missing data.\n",
    "\n",
    "      * If seed = ‘observation’, then the random_state should be a variable name or a list of variable names. The seed will be calculated observation per observation, either by adding or multiplying the seeding variable values, and passed to the random_state. Then, a value will be extracted from the train set using that seed and used to replace the NAN in particular observation. This is the equivalent of pandas.sample(1, random_state=var1+var2) if the ‘seeding_method’ is set to ‘add’ or pandas.sample(1, random_state=var1*var2) if the ‘seeding_method’ is set to ‘multiply’.\n",
    "      \n",
    "* For more details on why this functionality is important refer to the course Feature Engineering for Machine Learning in Udemy: https://www.udemy.com/feature-engineering-for-machine-learning/  "
   ]
  },
  {
   "cell_type": "markdown",
   "id": "alike-strike",
   "metadata": {},
   "source": [
    "### Advantages\n",
    "\n",
    "1. from plot we can say that Random Sample Imputation work better than Mean Median Mode imputation is some cases.\n",
    "2. Easy To implement\n",
    "3. There is less distortion in variance\n",
    "\n",
    "### Disadvantage\n",
    "\n",
    "1. Every situation randomness wont work"
   ]
  },
  {
   "cell_type": "code",
   "execution_count": null,
   "id": "crude-advance",
   "metadata": {},
   "outputs": [],
   "source": []
  },
  {
   "cell_type": "markdown",
   "id": "mysterious-question",
   "metadata": {},
   "source": [
    "## 4) Capturing NAN values with 0 and other values with 1\n",
    "\n",
    "It works well if the data are not missing completely at random"
   ]
  },
  {
   "cell_type": "code",
   "execution_count": 27,
   "id": "mental-capability",
   "metadata": {},
   "outputs": [],
   "source": [
    "df4 = pd.read_csv('titanic.csv', usecols = ['Age', 'Fare', 'Survived'])"
   ]
  },
  {
   "cell_type": "code",
   "execution_count": 28,
   "id": "sonic-cursor",
   "metadata": {},
   "outputs": [
    {
     "data": {
      "text/html": [
       "<div>\n",
       "<style scoped>\n",
       "    .dataframe tbody tr th:only-of-type {\n",
       "        vertical-align: middle;\n",
       "    }\n",
       "\n",
       "    .dataframe tbody tr th {\n",
       "        vertical-align: top;\n",
       "    }\n",
       "\n",
       "    .dataframe thead th {\n",
       "        text-align: right;\n",
       "    }\n",
       "</style>\n",
       "<table border=\"1\" class=\"dataframe\">\n",
       "  <thead>\n",
       "    <tr style=\"text-align: right;\">\n",
       "      <th></th>\n",
       "      <th>Survived</th>\n",
       "      <th>Age</th>\n",
       "      <th>Fare</th>\n",
       "      <th>Age_NaN</th>\n",
       "    </tr>\n",
       "  </thead>\n",
       "  <tbody>\n",
       "    <tr>\n",
       "      <th>0</th>\n",
       "      <td>0</td>\n",
       "      <td>22.0</td>\n",
       "      <td>7.2500</td>\n",
       "      <td>0</td>\n",
       "    </tr>\n",
       "    <tr>\n",
       "      <th>1</th>\n",
       "      <td>1</td>\n",
       "      <td>38.0</td>\n",
       "      <td>71.2833</td>\n",
       "      <td>0</td>\n",
       "    </tr>\n",
       "    <tr>\n",
       "      <th>2</th>\n",
       "      <td>1</td>\n",
       "      <td>26.0</td>\n",
       "      <td>7.9250</td>\n",
       "      <td>0</td>\n",
       "    </tr>\n",
       "    <tr>\n",
       "      <th>3</th>\n",
       "      <td>1</td>\n",
       "      <td>35.0</td>\n",
       "      <td>53.1000</td>\n",
       "      <td>0</td>\n",
       "    </tr>\n",
       "    <tr>\n",
       "      <th>4</th>\n",
       "      <td>0</td>\n",
       "      <td>35.0</td>\n",
       "      <td>8.0500</td>\n",
       "      <td>0</td>\n",
       "    </tr>\n",
       "    <tr>\n",
       "      <th>5</th>\n",
       "      <td>0</td>\n",
       "      <td>NaN</td>\n",
       "      <td>8.4583</td>\n",
       "      <td>1</td>\n",
       "    </tr>\n",
       "    <tr>\n",
       "      <th>6</th>\n",
       "      <td>0</td>\n",
       "      <td>54.0</td>\n",
       "      <td>51.8625</td>\n",
       "      <td>0</td>\n",
       "    </tr>\n",
       "    <tr>\n",
       "      <th>7</th>\n",
       "      <td>0</td>\n",
       "      <td>2.0</td>\n",
       "      <td>21.0750</td>\n",
       "      <td>0</td>\n",
       "    </tr>\n",
       "    <tr>\n",
       "      <th>8</th>\n",
       "      <td>1</td>\n",
       "      <td>27.0</td>\n",
       "      <td>11.1333</td>\n",
       "      <td>0</td>\n",
       "    </tr>\n",
       "    <tr>\n",
       "      <th>9</th>\n",
       "      <td>1</td>\n",
       "      <td>14.0</td>\n",
       "      <td>30.0708</td>\n",
       "      <td>0</td>\n",
       "    </tr>\n",
       "  </tbody>\n",
       "</table>\n",
       "</div>"
      ],
      "text/plain": [
       "   Survived   Age     Fare  Age_NaN\n",
       "0         0  22.0   7.2500        0\n",
       "1         1  38.0  71.2833        0\n",
       "2         1  26.0   7.9250        0\n",
       "3         1  35.0  53.1000        0\n",
       "4         0  35.0   8.0500        0\n",
       "5         0   NaN   8.4583        1\n",
       "6         0  54.0  51.8625        0\n",
       "7         0   2.0  21.0750        0\n",
       "8         1  27.0  11.1333        0\n",
       "9         1  14.0  30.0708        0"
      ]
     },
     "execution_count": 28,
     "metadata": {},
     "output_type": "execute_result"
    }
   ],
   "source": [
    "# creating new column name and in that we have 1 --> for nan value and 0 --> for other values\n",
    "df4['Age_NaN'] = np.where(df4['Age'].isnull(),1,0)\n",
    "df4.head(10)"
   ]
  },
  {
   "cell_type": "raw",
   "id": "australian-netscape",
   "metadata": {},
   "source": [
    "## doing all this from feature engine module\n",
    "\n",
    "from feature_engine.imputation import AddMissingIndicator\n",
    "addBinary_imputer = AddMissingIndicator( variables=['col_name', 'col_name', 'col_name', 'col_name'])\n",
    "\n",
    "# if you wanto to directly fit to the data\n",
    "\n",
    "addBinary_imputer.fit(df)\n",
    "\n",
    "\n",
    "# if you want to fit the data to both tainning and testing\n",
    "\n",
    "addBinary_imputer.fit(X_train)\n",
    "\n",
    "# transform the data\n",
    "train_t = addBinary_imputer.transform(X_train)\n",
    "test_t = addBinary_imputer.transform(X_test)"
   ]
  },
  {
   "cell_type": "markdown",
   "id": "unlike-three",
   "metadata": {},
   "source": [
    "### Advantages\n",
    "\n",
    "1. Easy to implement\n",
    "2. Captures the importance of missing values\n",
    "\n",
    "### Disadvantages\n",
    "\n",
    "1. Creating Additional Features(Curse of Dimensionality)"
   ]
  },
  {
   "cell_type": "code",
   "execution_count": null,
   "id": "baking-delta",
   "metadata": {},
   "outputs": [],
   "source": []
  },
  {
   "cell_type": "markdown",
   "id": "antique-approval",
   "metadata": {},
   "source": [
    "## 5) End of Distribution imputation"
   ]
  },
  {
   "cell_type": "code",
   "execution_count": 29,
   "id": "cubic-samoa",
   "metadata": {},
   "outputs": [
    {
     "data": {
      "text/html": [
       "<div>\n",
       "<style scoped>\n",
       "    .dataframe tbody tr th:only-of-type {\n",
       "        vertical-align: middle;\n",
       "    }\n",
       "\n",
       "    .dataframe tbody tr th {\n",
       "        vertical-align: top;\n",
       "    }\n",
       "\n",
       "    .dataframe thead th {\n",
       "        text-align: right;\n",
       "    }\n",
       "</style>\n",
       "<table border=\"1\" class=\"dataframe\">\n",
       "  <thead>\n",
       "    <tr style=\"text-align: right;\">\n",
       "      <th></th>\n",
       "      <th>Survived</th>\n",
       "      <th>Age</th>\n",
       "      <th>Fare</th>\n",
       "    </tr>\n",
       "  </thead>\n",
       "  <tbody>\n",
       "    <tr>\n",
       "      <th>0</th>\n",
       "      <td>0</td>\n",
       "      <td>22.0</td>\n",
       "      <td>7.2500</td>\n",
       "    </tr>\n",
       "    <tr>\n",
       "      <th>1</th>\n",
       "      <td>1</td>\n",
       "      <td>38.0</td>\n",
       "      <td>71.2833</td>\n",
       "    </tr>\n",
       "    <tr>\n",
       "      <th>2</th>\n",
       "      <td>1</td>\n",
       "      <td>26.0</td>\n",
       "      <td>7.9250</td>\n",
       "    </tr>\n",
       "    <tr>\n",
       "      <th>3</th>\n",
       "      <td>1</td>\n",
       "      <td>35.0</td>\n",
       "      <td>53.1000</td>\n",
       "    </tr>\n",
       "    <tr>\n",
       "      <th>4</th>\n",
       "      <td>0</td>\n",
       "      <td>35.0</td>\n",
       "      <td>8.0500</td>\n",
       "    </tr>\n",
       "  </tbody>\n",
       "</table>\n",
       "</div>"
      ],
      "text/plain": [
       "   Survived   Age     Fare\n",
       "0         0  22.0   7.2500\n",
       "1         1  38.0  71.2833\n",
       "2         1  26.0   7.9250\n",
       "3         1  35.0  53.1000\n",
       "4         0  35.0   8.0500"
      ]
     },
     "execution_count": 29,
     "metadata": {},
     "output_type": "execute_result"
    }
   ],
   "source": [
    "df5 = pd.read_csv('titanic.csv', usecols = ['Age', 'Fare', 'Survived'])\n",
    "df5.head()"
   ]
  },
  {
   "cell_type": "code",
   "execution_count": 30,
   "id": "insured-slave",
   "metadata": {},
   "outputs": [
    {
     "data": {
      "text/plain": [
       "<AxesSubplot:>"
      ]
     },
     "execution_count": 30,
     "metadata": {},
     "output_type": "execute_result"
    },
    {
     "data": {
      "image/png": "[encoded data removed]",
      "text/plain": [
       "<Figure size 432x288 with 1 Axes>"
      ]
     },
     "metadata": {
      "needs_background": "light"
     },
     "output_type": "display_data"
    }
   ],
   "source": [
    "df5.Age.hist(bins = 50)"
   ]
  },
  {
   "cell_type": "code",
   "execution_count": 31,
   "id": "checked-wellington",
   "metadata": {},
   "outputs": [
    {
     "data": {
      "text/plain": [
       "73.27860964406094"
      ]
     },
     "execution_count": 31,
     "metadata": {},
     "output_type": "execute_result"
    }
   ],
   "source": [
    "extreme = df5.Age.mean() + 3*df5.Age.std()\n",
    "extreme"
   ]
  },
  {
   "cell_type": "code",
   "execution_count": 32,
   "id": "productive-lover",
   "metadata": {},
   "outputs": [],
   "source": [
    "def impute_nan(df,variable,extreme):\n",
    "    df[variable + \"_end_distribution\"] = df[variable].fillna(extreme)"
   ]
  },
  {
   "cell_type": "code",
   "execution_count": 33,
   "id": "aging-stream",
   "metadata": {},
   "outputs": [
    {
     "data": {
      "text/html": [
       "<div>\n",
       "<style scoped>\n",
       "    .dataframe tbody tr th:only-of-type {\n",
       "        vertical-align: middle;\n",
       "    }\n",
       "\n",
       "    .dataframe tbody tr th {\n",
       "        vertical-align: top;\n",
       "    }\n",
       "\n",
       "    .dataframe thead th {\n",
       "        text-align: right;\n",
       "    }\n",
       "</style>\n",
       "<table border=\"1\" class=\"dataframe\">\n",
       "  <thead>\n",
       "    <tr style=\"text-align: right;\">\n",
       "      <th></th>\n",
       "      <th>Survived</th>\n",
       "      <th>Age</th>\n",
       "      <th>Fare</th>\n",
       "      <th>Age_end_distribution</th>\n",
       "    </tr>\n",
       "  </thead>\n",
       "  <tbody>\n",
       "    <tr>\n",
       "      <th>0</th>\n",
       "      <td>0</td>\n",
       "      <td>22.0</td>\n",
       "      <td>7.2500</td>\n",
       "      <td>22.0</td>\n",
       "    </tr>\n",
       "    <tr>\n",
       "      <th>1</th>\n",
       "      <td>1</td>\n",
       "      <td>38.0</td>\n",
       "      <td>71.2833</td>\n",
       "      <td>38.0</td>\n",
       "    </tr>\n",
       "    <tr>\n",
       "      <th>2</th>\n",
       "      <td>1</td>\n",
       "      <td>26.0</td>\n",
       "      <td>7.9250</td>\n",
       "      <td>26.0</td>\n",
       "    </tr>\n",
       "    <tr>\n",
       "      <th>3</th>\n",
       "      <td>1</td>\n",
       "      <td>35.0</td>\n",
       "      <td>53.1000</td>\n",
       "      <td>35.0</td>\n",
       "    </tr>\n",
       "    <tr>\n",
       "      <th>4</th>\n",
       "      <td>0</td>\n",
       "      <td>35.0</td>\n",
       "      <td>8.0500</td>\n",
       "      <td>35.0</td>\n",
       "    </tr>\n",
       "  </tbody>\n",
       "</table>\n",
       "</div>"
      ],
      "text/plain": [
       "   Survived   Age     Fare  Age_end_distribution\n",
       "0         0  22.0   7.2500                  22.0\n",
       "1         1  38.0  71.2833                  38.0\n",
       "2         1  26.0   7.9250                  26.0\n",
       "3         1  35.0  53.1000                  35.0\n",
       "4         0  35.0   8.0500                  35.0"
      ]
     },
     "execution_count": 33,
     "metadata": {},
     "output_type": "execute_result"
    }
   ],
   "source": [
    "impute_nan(df5,'Age',extreme)\n",
    "df5.head()"
   ]
  },
  {
   "cell_type": "code",
   "execution_count": 34,
   "id": "incident-dealing",
   "metadata": {},
   "outputs": [
    {
     "data": {
      "text/plain": [
       "<AxesSubplot:>"
      ]
     },
     "execution_count": 34,
     "metadata": {},
     "output_type": "execute_result"
    },
    {
     "data": {
      "image/png": "[encoded data removed]",
      "text/plain": [
       "<Figure size 432x288 with 1 Axes>"
      ]
     },
     "metadata": {
      "needs_background": "light"
     },
     "output_type": "display_data"
    }
   ],
   "source": [
    "df5['Age_end_distribution'].hist(bins = 50)"
   ]
  },
  {
   "cell_type": "code",
   "execution_count": 35,
   "id": "center-belgium",
   "metadata": {},
   "outputs": [
    {
     "data": {
      "text/plain": [
       "<matplotlib.legend.Legend at 0x225b4691460>"
      ]
     },
     "execution_count": 35,
     "metadata": {},
     "output_type": "execute_result"
    },
    {
     "data": {
      "image/png": "[encoded data removed]",
      "text/plain": [
       "<Figure size 432x288 with 1 Axes>"
      ]
     },
     "metadata": {
      "needs_background": "light"
     },
     "output_type": "display_data"
    }
   ],
   "source": [
    "fig = plt.figure()\n",
    "ax = fig.add_subplot(111)\n",
    "df5['Age'].plot(kind='kde', ax=ax)\n",
    "df5['Age_end_distribution'].plot(kind='kde', ax=ax, color='red')\n",
    "lines, labels = ax.get_legend_handles_labels()\n",
    "ax.legend(lines, labels, loc='best')"
   ]
  },
  {
   "cell_type": "raw",
   "id": "floppy-marble",
   "metadata": {},
   "source": [
    "## doing all this from feature engine module\n",
    "\n",
    "from feature_engine.imputation import EndTailImputer\n",
    "tail_imputer = EndTailImputer(imputation_method = 'gaussian',\n",
    "                          tail = 'right',\n",
    "                          fold = 3,\n",
    "                          variables=['col_name', 'col_name'])\n",
    "\n",
    "# if you wanto to directly fit to the data\n",
    "\n",
    "tail_imputer.fit(df)\n",
    "\n",
    "\n",
    "# if you want to fit the data to both tainning and testing\n",
    "\n",
    "tail_imputer.fit(X_train)\n",
    "\n",
    "# transform the data\n",
    "train_t = tail_imputer.transform(X_train)\n",
    "test_t = tail_imputer.transform(X_test)"
   ]
  },
  {
   "cell_type": "markdown",
   "id": "discrete-shoulder",
   "metadata": {},
   "source": [
    "#### more info about that\n",
    "\n",
    "* imputation_method = 'gaussian' means uses gaussian type(other types are: ‘gaussian’, ‘iqr’ or ‘max’)\n",
    "\n",
    "1) Gaussian limits\n",
    "    a) right tail: mean + 3*std\n",
    "    b) left tail: mean - 3*std\n",
    "        \n",
    "2) IQR limits:\n",
    "    a) right tail: 75th quantile + 3*IQR\n",
    "    b) left tail: 25th quantile - 3*IQR\n",
    "    \n",
    "3) Maximum value:\n",
    "    a) right tail: max * 3\n",
    "    b) left tail: not applicable\n",
    "    \n",
    "    \n",
    "* tail : right tail or left tail\n",
    "\n",
    "* fold: Factor to multiply the std, the IQR or the Max values (normally used : 2 or 3 for Gaussian, or 1.5 or 3 for IQR )\n",
    "\n",
    "* variables : column names"
   ]
  },
  {
   "cell_type": "code",
   "execution_count": null,
   "id": "difficult-muscle",
   "metadata": {},
   "outputs": [],
   "source": []
  },
  {
   "cell_type": "markdown",
   "id": "coated-salad",
   "metadata": {},
   "source": [
    "## 6) Arbitrary imputation\n",
    "\n",
    "* impute_nan function Works both for categorical columns and numeric columns\n",
    "* but sklearn package won't work for categorical feature "
   ]
  },
  {
   "cell_type": "code",
   "execution_count": 36,
   "id": "expired-italic",
   "metadata": {},
   "outputs": [
    {
     "data": {
      "text/html": [
       "<div>\n",
       "<style scoped>\n",
       "    .dataframe tbody tr th:only-of-type {\n",
       "        vertical-align: middle;\n",
       "    }\n",
       "\n",
       "    .dataframe tbody tr th {\n",
       "        vertical-align: top;\n",
       "    }\n",
       "\n",
       "    .dataframe thead th {\n",
       "        text-align: right;\n",
       "    }\n",
       "</style>\n",
       "<table border=\"1\" class=\"dataframe\">\n",
       "  <thead>\n",
       "    <tr style=\"text-align: right;\">\n",
       "      <th></th>\n",
       "      <th>Survived</th>\n",
       "      <th>Age</th>\n",
       "      <th>Fare</th>\n",
       "      <th>Cabin</th>\n",
       "    </tr>\n",
       "  </thead>\n",
       "  <tbody>\n",
       "    <tr>\n",
       "      <th>0</th>\n",
       "      <td>0</td>\n",
       "      <td>22.0</td>\n",
       "      <td>7.2500</td>\n",
       "      <td>NaN</td>\n",
       "    </tr>\n",
       "    <tr>\n",
       "      <th>1</th>\n",
       "      <td>1</td>\n",
       "      <td>38.0</td>\n",
       "      <td>71.2833</td>\n",
       "      <td>C85</td>\n",
       "    </tr>\n",
       "    <tr>\n",
       "      <th>2</th>\n",
       "      <td>1</td>\n",
       "      <td>26.0</td>\n",
       "      <td>7.9250</td>\n",
       "      <td>NaN</td>\n",
       "    </tr>\n",
       "    <tr>\n",
       "      <th>3</th>\n",
       "      <td>1</td>\n",
       "      <td>35.0</td>\n",
       "      <td>53.1000</td>\n",
       "      <td>C123</td>\n",
       "    </tr>\n",
       "    <tr>\n",
       "      <th>4</th>\n",
       "      <td>0</td>\n",
       "      <td>35.0</td>\n",
       "      <td>8.0500</td>\n",
       "      <td>NaN</td>\n",
       "    </tr>\n",
       "  </tbody>\n",
       "</table>\n",
       "</div>"
      ],
      "text/plain": [
       "   Survived   Age     Fare Cabin\n",
       "0         0  22.0   7.2500   NaN\n",
       "1         1  38.0  71.2833   C85\n",
       "2         1  26.0   7.9250   NaN\n",
       "3         1  35.0  53.1000  C123\n",
       "4         0  35.0   8.0500   NaN"
      ]
     },
     "execution_count": 36,
     "metadata": {},
     "output_type": "execute_result"
    }
   ],
   "source": [
    "df6 = pd.read_csv('titanic.csv', usecols = ['Age', 'Fare', 'Survived','Cabin'])\n",
    "df6.head()"
   ]
  },
  {
   "cell_type": "code",
   "execution_count": 37,
   "id": "heard-observer",
   "metadata": {},
   "outputs": [],
   "source": [
    "def impute_nan(df, variable):\n",
    "    df[variable + \"_zeros\"] = df[variable].fillna(-999)\n",
    "    df[variable + \"_hundreds\"] = df[variable].fillna(100)"
   ]
  },
  {
   "cell_type": "code",
   "execution_count": 38,
   "id": "efficient-knowing",
   "metadata": {},
   "outputs": [
    {
     "data": {
      "text/html": [
       "<div>\n",
       "<style scoped>\n",
       "    .dataframe tbody tr th:only-of-type {\n",
       "        vertical-align: middle;\n",
       "    }\n",
       "\n",
       "    .dataframe tbody tr th {\n",
       "        vertical-align: top;\n",
       "    }\n",
       "\n",
       "    .dataframe thead th {\n",
       "        text-align: right;\n",
       "    }\n",
       "</style>\n",
       "<table border=\"1\" class=\"dataframe\">\n",
       "  <thead>\n",
       "    <tr style=\"text-align: right;\">\n",
       "      <th></th>\n",
       "      <th>Survived</th>\n",
       "      <th>Age</th>\n",
       "      <th>Fare</th>\n",
       "      <th>Cabin</th>\n",
       "      <th>Age_zeros</th>\n",
       "      <th>Age_hundreds</th>\n",
       "    </tr>\n",
       "  </thead>\n",
       "  <tbody>\n",
       "    <tr>\n",
       "      <th>0</th>\n",
       "      <td>0</td>\n",
       "      <td>22.0</td>\n",
       "      <td>7.2500</td>\n",
       "      <td>NaN</td>\n",
       "      <td>22.0</td>\n",
       "      <td>22.0</td>\n",
       "    </tr>\n",
       "    <tr>\n",
       "      <th>1</th>\n",
       "      <td>1</td>\n",
       "      <td>38.0</td>\n",
       "      <td>71.2833</td>\n",
       "      <td>C85</td>\n",
       "      <td>38.0</td>\n",
       "      <td>38.0</td>\n",
       "    </tr>\n",
       "    <tr>\n",
       "      <th>2</th>\n",
       "      <td>1</td>\n",
       "      <td>26.0</td>\n",
       "      <td>7.9250</td>\n",
       "      <td>NaN</td>\n",
       "      <td>26.0</td>\n",
       "      <td>26.0</td>\n",
       "    </tr>\n",
       "    <tr>\n",
       "      <th>3</th>\n",
       "      <td>1</td>\n",
       "      <td>35.0</td>\n",
       "      <td>53.1000</td>\n",
       "      <td>C123</td>\n",
       "      <td>35.0</td>\n",
       "      <td>35.0</td>\n",
       "    </tr>\n",
       "    <tr>\n",
       "      <th>4</th>\n",
       "      <td>0</td>\n",
       "      <td>35.0</td>\n",
       "      <td>8.0500</td>\n",
       "      <td>NaN</td>\n",
       "      <td>35.0</td>\n",
       "      <td>35.0</td>\n",
       "    </tr>\n",
       "  </tbody>\n",
       "</table>\n",
       "</div>"
      ],
      "text/plain": [
       "   Survived   Age     Fare Cabin  Age_zeros  Age_hundreds\n",
       "0         0  22.0   7.2500   NaN       22.0          22.0\n",
       "1         1  38.0  71.2833   C85       38.0          38.0\n",
       "2         1  26.0   7.9250   NaN       26.0          26.0\n",
       "3         1  35.0  53.1000  C123       35.0          35.0\n",
       "4         0  35.0   8.0500   NaN       35.0          35.0"
      ]
     },
     "execution_count": 38,
     "metadata": {},
     "output_type": "execute_result"
    }
   ],
   "source": [
    "impute_nan(df6, 'Age')\n",
    "df6.head()"
   ]
  },
  {
   "cell_type": "code",
   "execution_count": 39,
   "id": "incredible-revision",
   "metadata": {},
   "outputs": [
    {
     "data": {
      "text/html": [
       "<div>\n",
       "<style scoped>\n",
       "    .dataframe tbody tr th:only-of-type {\n",
       "        vertical-align: middle;\n",
       "    }\n",
       "\n",
       "    .dataframe tbody tr th {\n",
       "        vertical-align: top;\n",
       "    }\n",
       "\n",
       "    .dataframe thead th {\n",
       "        text-align: right;\n",
       "    }\n",
       "</style>\n",
       "<table border=\"1\" class=\"dataframe\">\n",
       "  <thead>\n",
       "    <tr style=\"text-align: right;\">\n",
       "      <th></th>\n",
       "      <th>Survived</th>\n",
       "      <th>Age</th>\n",
       "      <th>Fare</th>\n",
       "      <th>Cabin</th>\n",
       "      <th>Age_zeros</th>\n",
       "      <th>Age_hundreds</th>\n",
       "      <th>Cabin_zeros</th>\n",
       "      <th>Cabin_hundreds</th>\n",
       "    </tr>\n",
       "  </thead>\n",
       "  <tbody>\n",
       "    <tr>\n",
       "      <th>0</th>\n",
       "      <td>0</td>\n",
       "      <td>22.0</td>\n",
       "      <td>7.2500</td>\n",
       "      <td>NaN</td>\n",
       "      <td>22.0</td>\n",
       "      <td>22.0</td>\n",
       "      <td>-999</td>\n",
       "      <td>100</td>\n",
       "    </tr>\n",
       "    <tr>\n",
       "      <th>1</th>\n",
       "      <td>1</td>\n",
       "      <td>38.0</td>\n",
       "      <td>71.2833</td>\n",
       "      <td>C85</td>\n",
       "      <td>38.0</td>\n",
       "      <td>38.0</td>\n",
       "      <td>C85</td>\n",
       "      <td>C85</td>\n",
       "    </tr>\n",
       "    <tr>\n",
       "      <th>2</th>\n",
       "      <td>1</td>\n",
       "      <td>26.0</td>\n",
       "      <td>7.9250</td>\n",
       "      <td>NaN</td>\n",
       "      <td>26.0</td>\n",
       "      <td>26.0</td>\n",
       "      <td>-999</td>\n",
       "      <td>100</td>\n",
       "    </tr>\n",
       "    <tr>\n",
       "      <th>3</th>\n",
       "      <td>1</td>\n",
       "      <td>35.0</td>\n",
       "      <td>53.1000</td>\n",
       "      <td>C123</td>\n",
       "      <td>35.0</td>\n",
       "      <td>35.0</td>\n",
       "      <td>C123</td>\n",
       "      <td>C123</td>\n",
       "    </tr>\n",
       "    <tr>\n",
       "      <th>4</th>\n",
       "      <td>0</td>\n",
       "      <td>35.0</td>\n",
       "      <td>8.0500</td>\n",
       "      <td>NaN</td>\n",
       "      <td>35.0</td>\n",
       "      <td>35.0</td>\n",
       "      <td>-999</td>\n",
       "      <td>100</td>\n",
       "    </tr>\n",
       "  </tbody>\n",
       "</table>\n",
       "</div>"
      ],
      "text/plain": [
       "   Survived   Age     Fare Cabin  Age_zeros  Age_hundreds Cabin_zeros  \\\n",
       "0         0  22.0   7.2500   NaN       22.0          22.0        -999   \n",
       "1         1  38.0  71.2833   C85       38.0          38.0         C85   \n",
       "2         1  26.0   7.9250   NaN       26.0          26.0        -999   \n",
       "3         1  35.0  53.1000  C123       35.0          35.0        C123   \n",
       "4         0  35.0   8.0500   NaN       35.0          35.0        -999   \n",
       "\n",
       "  Cabin_hundreds  \n",
       "0            100  \n",
       "1            C85  \n",
       "2            100  \n",
       "3           C123  \n",
       "4            100  "
      ]
     },
     "execution_count": 39,
     "metadata": {},
     "output_type": "execute_result"
    }
   ],
   "source": [
    "impute_nan(df6, 'Cabin')\n",
    "df6.head()"
   ]
  },
  {
   "cell_type": "raw",
   "id": "preliminary-grocery",
   "metadata": {},
   "source": [
    "## doing all this from feature engine module \n",
    "\n",
    "from feature_engine.imputation import ArbitraryNumberImputer\n",
    "arbitrary_imputer = ArbitraryNumberImputer(arbitrary_number = -999, variables=['col_name', 'col_name'])\n",
    "or\n",
    "arbitrary_imputer = ArbitraryNumberImputer(imputer_dict = {'col_name_1' : 1, 'col_name_2': 99])\n",
    "\n",
    "# if you wanto to directly fit to the data\n",
    "\n",
    "arbitrary_imputer.fit(df)\n",
    "\n",
    "\n",
    "# if you want to fit the data to both tainning and testing\n",
    "\n",
    "arbitrary_imputer.fit(X_train)\n",
    "\n",
    "# transform the data\n",
    "train_t = arbitrary_imputer.transform(X_train)\n",
    "test_t = arbitrary_imputer.transform(X_test)"
   ]
  },
  {
   "cell_type": "code",
   "execution_count": null,
   "id": "medium-opera",
   "metadata": {},
   "outputs": [],
   "source": []
  },
  {
   "cell_type": "markdown",
   "id": "retired-butler",
   "metadata": {},
   "source": [
    "## 7) Frequent categories imputation"
   ]
  },
  {
   "cell_type": "code",
   "execution_count": 40,
   "id": "sized-therapist",
   "metadata": {},
   "outputs": [
    {
     "data": {
      "text/html": [
       "<div>\n",
       "<style scoped>\n",
       "    .dataframe tbody tr th:only-of-type {\n",
       "        vertical-align: middle;\n",
       "    }\n",
       "\n",
       "    .dataframe tbody tr th {\n",
       "        vertical-align: top;\n",
       "    }\n",
       "\n",
       "    .dataframe thead th {\n",
       "        text-align: right;\n",
       "    }\n",
       "</style>\n",
       "<table border=\"1\" class=\"dataframe\">\n",
       "  <thead>\n",
       "    <tr style=\"text-align: right;\">\n",
       "      <th></th>\n",
       "      <th>BsmtQual</th>\n",
       "      <th>FireplaceQu</th>\n",
       "      <th>GarageType</th>\n",
       "      <th>SalePrice</th>\n",
       "    </tr>\n",
       "  </thead>\n",
       "  <tbody>\n",
       "    <tr>\n",
       "      <th>0</th>\n",
       "      <td>Gd</td>\n",
       "      <td>NaN</td>\n",
       "      <td>Attchd</td>\n",
       "      <td>208500</td>\n",
       "    </tr>\n",
       "    <tr>\n",
       "      <th>1</th>\n",
       "      <td>Gd</td>\n",
       "      <td>TA</td>\n",
       "      <td>Attchd</td>\n",
       "      <td>181500</td>\n",
       "    </tr>\n",
       "    <tr>\n",
       "      <th>2</th>\n",
       "      <td>Gd</td>\n",
       "      <td>TA</td>\n",
       "      <td>Attchd</td>\n",
       "      <td>223500</td>\n",
       "    </tr>\n",
       "    <tr>\n",
       "      <th>3</th>\n",
       "      <td>TA</td>\n",
       "      <td>Gd</td>\n",
       "      <td>Detchd</td>\n",
       "      <td>140000</td>\n",
       "    </tr>\n",
       "    <tr>\n",
       "      <th>4</th>\n",
       "      <td>Gd</td>\n",
       "      <td>TA</td>\n",
       "      <td>Attchd</td>\n",
       "      <td>250000</td>\n",
       "    </tr>\n",
       "  </tbody>\n",
       "</table>\n",
       "</div>"
      ],
      "text/plain": [
       "  BsmtQual FireplaceQu GarageType  SalePrice\n",
       "0       Gd         NaN     Attchd     208500\n",
       "1       Gd          TA     Attchd     181500\n",
       "2       Gd          TA     Attchd     223500\n",
       "3       TA          Gd     Detchd     140000\n",
       "4       Gd          TA     Attchd     250000"
      ]
     },
     "execution_count": 40,
     "metadata": {},
     "output_type": "execute_result"
    }
   ],
   "source": [
    "df7 = pd.read_csv('loan.csv', usecols = ['BsmtQual', 'FireplaceQu', 'GarageType', 'SalePrice'])\n",
    "df7.head()"
   ]
  },
  {
   "cell_type": "code",
   "execution_count": 41,
   "id": "bulgarian-presentation",
   "metadata": {},
   "outputs": [
    {
     "data": {
      "text/plain": [
       "BsmtQual        37\n",
       "FireplaceQu    690\n",
       "GarageType      81\n",
       "SalePrice        0\n",
       "dtype: int64"
      ]
     },
     "execution_count": 41,
     "metadata": {},
     "output_type": "execute_result"
    }
   ],
   "source": [
    "df7.isnull().sum()"
   ]
  },
  {
   "cell_type": "code",
   "execution_count": 42,
   "id": "dimensional-clark",
   "metadata": {},
   "outputs": [
    {
     "data": {
      "text/plain": [
       "TA    649\n",
       "Gd    618\n",
       "Ex    121\n",
       "Fa     35\n",
       "Name: BsmtQual, dtype: int64"
      ]
     },
     "execution_count": 42,
     "metadata": {},
     "output_type": "execute_result"
    }
   ],
   "source": [
    "df7['BsmtQual'].value_counts()"
   ]
  },
  {
   "cell_type": "code",
   "execution_count": 43,
   "id": "hungry-premises",
   "metadata": {},
   "outputs": [
    {
     "data": {
      "text/plain": [
       "TA    649\n",
       "Gd    618\n",
       "Ex    121\n",
       "Fa     35\n",
       "Name: BsmtQual, dtype: int64"
      ]
     },
     "execution_count": 43,
     "metadata": {},
     "output_type": "execute_result"
    }
   ],
   "source": [
    "# sorting in decending order\n",
    "df7['BsmtQual'].value_counts().sort_values(ascending = False)"
   ]
  },
  {
   "cell_type": "code",
   "execution_count": 44,
   "id": "unusual-fetish",
   "metadata": {},
   "outputs": [
    {
     "data": {
      "text/plain": [
       "'TA'"
      ]
     },
     "execution_count": 44,
     "metadata": {},
     "output_type": "execute_result"
    }
   ],
   "source": [
    "# taking the mose repeated value\n",
    "df7['BsmtQual'].value_counts().sort_values(ascending = False).index[0]"
   ]
  },
  {
   "cell_type": "code",
   "execution_count": 45,
   "id": "collective-liabilities",
   "metadata": {},
   "outputs": [
    {
     "data": {
      "text/plain": [
       "<AxesSubplot:>"
      ]
     },
     "execution_count": 45,
     "metadata": {},
     "output_type": "execute_result"
    },
    {
     "data": {
      "image/png": "[encoded data removed]",
      "text/plain": [
       "<Figure size 432x288 with 1 Axes>"
      ]
     },
     "metadata": {
      "needs_background": "light"
     },
     "output_type": "display_data"
    }
   ],
   "source": [
    "# plotting bar graph\n",
    "df7['BsmtQual'].value_counts().sort_values(ascending = False).plot.bar()"
   ]
  },
  {
   "cell_type": "code",
   "execution_count": 46,
   "id": "infrared-excerpt",
   "metadata": {},
   "outputs": [],
   "source": [
    "def impute_nan(df, variable):\n",
    "    most_frequent_category = df[variable].value_counts().sort_values(ascending = False).index[0]\n",
    "    df[variable + \"_after_replacing\"] = df[variable].fillna(most_frequent_category)"
   ]
  },
  {
   "cell_type": "code",
   "execution_count": 47,
   "id": "included-animation",
   "metadata": {},
   "outputs": [],
   "source": [
    "for feature in ['BsmtQual', 'FireplaceQu', 'GarageType']:\n",
    "    impute_nan(df7, feature)"
   ]
  },
  {
   "cell_type": "code",
   "execution_count": 48,
   "id": "anticipated-biodiversity",
   "metadata": {},
   "outputs": [
    {
     "data": {
      "text/html": [
       "<div>\n",
       "<style scoped>\n",
       "    .dataframe tbody tr th:only-of-type {\n",
       "        vertical-align: middle;\n",
       "    }\n",
       "\n",
       "    .dataframe tbody tr th {\n",
       "        vertical-align: top;\n",
       "    }\n",
       "\n",
       "    .dataframe thead th {\n",
       "        text-align: right;\n",
       "    }\n",
       "</style>\n",
       "<table border=\"1\" class=\"dataframe\">\n",
       "  <thead>\n",
       "    <tr style=\"text-align: right;\">\n",
       "      <th></th>\n",
       "      <th>BsmtQual</th>\n",
       "      <th>FireplaceQu</th>\n",
       "      <th>GarageType</th>\n",
       "      <th>SalePrice</th>\n",
       "      <th>BsmtQual_after_replacing</th>\n",
       "      <th>FireplaceQu_after_replacing</th>\n",
       "      <th>GarageType_after_replacing</th>\n",
       "    </tr>\n",
       "  </thead>\n",
       "  <tbody>\n",
       "    <tr>\n",
       "      <th>0</th>\n",
       "      <td>Gd</td>\n",
       "      <td>NaN</td>\n",
       "      <td>Attchd</td>\n",
       "      <td>208500</td>\n",
       "      <td>Gd</td>\n",
       "      <td>Gd</td>\n",
       "      <td>Attchd</td>\n",
       "    </tr>\n",
       "    <tr>\n",
       "      <th>1</th>\n",
       "      <td>Gd</td>\n",
       "      <td>TA</td>\n",
       "      <td>Attchd</td>\n",
       "      <td>181500</td>\n",
       "      <td>Gd</td>\n",
       "      <td>TA</td>\n",
       "      <td>Attchd</td>\n",
       "    </tr>\n",
       "    <tr>\n",
       "      <th>2</th>\n",
       "      <td>Gd</td>\n",
       "      <td>TA</td>\n",
       "      <td>Attchd</td>\n",
       "      <td>223500</td>\n",
       "      <td>Gd</td>\n",
       "      <td>TA</td>\n",
       "      <td>Attchd</td>\n",
       "    </tr>\n",
       "    <tr>\n",
       "      <th>3</th>\n",
       "      <td>TA</td>\n",
       "      <td>Gd</td>\n",
       "      <td>Detchd</td>\n",
       "      <td>140000</td>\n",
       "      <td>TA</td>\n",
       "      <td>Gd</td>\n",
       "      <td>Detchd</td>\n",
       "    </tr>\n",
       "    <tr>\n",
       "      <th>4</th>\n",
       "      <td>Gd</td>\n",
       "      <td>TA</td>\n",
       "      <td>Attchd</td>\n",
       "      <td>250000</td>\n",
       "      <td>Gd</td>\n",
       "      <td>TA</td>\n",
       "      <td>Attchd</td>\n",
       "    </tr>\n",
       "  </tbody>\n",
       "</table>\n",
       "</div>"
      ],
      "text/plain": [
       "  BsmtQual FireplaceQu GarageType  SalePrice BsmtQual_after_replacing  \\\n",
       "0       Gd         NaN     Attchd     208500                       Gd   \n",
       "1       Gd          TA     Attchd     181500                       Gd   \n",
       "2       Gd          TA     Attchd     223500                       Gd   \n",
       "3       TA          Gd     Detchd     140000                       TA   \n",
       "4       Gd          TA     Attchd     250000                       Gd   \n",
       "\n",
       "  FireplaceQu_after_replacing GarageType_after_replacing  \n",
       "0                          Gd                     Attchd  \n",
       "1                          TA                     Attchd  \n",
       "2                          TA                     Attchd  \n",
       "3                          Gd                     Detchd  \n",
       "4                          TA                     Attchd  "
      ]
     },
     "execution_count": 48,
     "metadata": {},
     "output_type": "execute_result"
    }
   ],
   "source": [
    "df7.head(5)"
   ]
  },
  {
   "cell_type": "raw",
   "id": "intelligent-georgia",
   "metadata": {},
   "source": [
    "## doing all this from feature engine module\n",
    "\n",
    "from feature_engine.imputation import CategoricalImputer\n",
    "imputer = CategoricalImputer(imputation_method = ‘frequent’, variables=['col_name_1', 'col_name_1'])\n",
    "\n",
    "# if you wanto to directly fit to the data\n",
    "\n",
    "imputer.fit(df)\n",
    "\n",
    "\n",
    "# if you want to fit the data to both tainning and testing\n",
    "\n",
    "imputer.fit(X_train)\n",
    "\n",
    "# transform the data\n",
    "train_t = imputer.transform(X_train)\n",
    "test_t = imputer.transform(X_test)"
   ]
  },
  {
   "cell_type": "code",
   "execution_count": null,
   "id": "cardiac-retreat",
   "metadata": {},
   "outputs": [],
   "source": []
  },
  {
   "cell_type": "markdown",
   "id": "protected-prototype",
   "metadata": {},
   "source": [
    "## 8) CategoricalImputer\n",
    "\n",
    "* The CategoricalImputer() replaces missing data in categorical variables by a string like ‘Missing’ or any other entered by the user. Alternatively, it replaces missing data by the most frequent category.\n",
    "\n",
    "* impute_nan function Works both for categorical columns and numeric columns\n",
    "\n",
    "* but sklearn package won't work for numeric feature"
   ]
  },
  {
   "cell_type": "code",
   "execution_count": 49,
   "id": "annoying-forum",
   "metadata": {},
   "outputs": [
    {
     "data": {
      "text/html": [
       "<div>\n",
       "<style scoped>\n",
       "    .dataframe tbody tr th:only-of-type {\n",
       "        vertical-align: middle;\n",
       "    }\n",
       "\n",
       "    .dataframe tbody tr th {\n",
       "        vertical-align: top;\n",
       "    }\n",
       "\n",
       "    .dataframe thead th {\n",
       "        text-align: right;\n",
       "    }\n",
       "</style>\n",
       "<table border=\"1\" class=\"dataframe\">\n",
       "  <thead>\n",
       "    <tr style=\"text-align: right;\">\n",
       "      <th></th>\n",
       "      <th>BsmtQual</th>\n",
       "      <th>FireplaceQu</th>\n",
       "      <th>GarageType</th>\n",
       "      <th>SalePrice</th>\n",
       "    </tr>\n",
       "  </thead>\n",
       "  <tbody>\n",
       "    <tr>\n",
       "      <th>0</th>\n",
       "      <td>Gd</td>\n",
       "      <td>NaN</td>\n",
       "      <td>Attchd</td>\n",
       "      <td>208500</td>\n",
       "    </tr>\n",
       "    <tr>\n",
       "      <th>1</th>\n",
       "      <td>Gd</td>\n",
       "      <td>TA</td>\n",
       "      <td>Attchd</td>\n",
       "      <td>181500</td>\n",
       "    </tr>\n",
       "    <tr>\n",
       "      <th>2</th>\n",
       "      <td>Gd</td>\n",
       "      <td>TA</td>\n",
       "      <td>Attchd</td>\n",
       "      <td>223500</td>\n",
       "    </tr>\n",
       "    <tr>\n",
       "      <th>3</th>\n",
       "      <td>TA</td>\n",
       "      <td>Gd</td>\n",
       "      <td>Detchd</td>\n",
       "      <td>140000</td>\n",
       "    </tr>\n",
       "    <tr>\n",
       "      <th>4</th>\n",
       "      <td>Gd</td>\n",
       "      <td>TA</td>\n",
       "      <td>Attchd</td>\n",
       "      <td>250000</td>\n",
       "    </tr>\n",
       "  </tbody>\n",
       "</table>\n",
       "</div>"
      ],
      "text/plain": [
       "  BsmtQual FireplaceQu GarageType  SalePrice\n",
       "0       Gd         NaN     Attchd     208500\n",
       "1       Gd          TA     Attchd     181500\n",
       "2       Gd          TA     Attchd     223500\n",
       "3       TA          Gd     Detchd     140000\n",
       "4       Gd          TA     Attchd     250000"
      ]
     },
     "execution_count": 49,
     "metadata": {},
     "output_type": "execute_result"
    }
   ],
   "source": [
    "df8 = pd.read_csv('loan.csv', usecols = ['BsmtQual', 'FireplaceQu', 'GarageType', 'SalePrice'])\n",
    "df8.head()"
   ]
  },
  {
   "cell_type": "code",
   "execution_count": 50,
   "id": "typical-constitution",
   "metadata": {},
   "outputs": [],
   "source": [
    "def impute_nan(df, variable):\n",
    "    df[variable + \"_after_replacing\"] = df[variable].fillna('Missing')"
   ]
  },
  {
   "cell_type": "code",
   "execution_count": 51,
   "id": "floral-minneapolis",
   "metadata": {},
   "outputs": [
    {
     "data": {
      "text/html": [
       "<div>\n",
       "<style scoped>\n",
       "    .dataframe tbody tr th:only-of-type {\n",
       "        vertical-align: middle;\n",
       "    }\n",
       "\n",
       "    .dataframe tbody tr th {\n",
       "        vertical-align: top;\n",
       "    }\n",
       "\n",
       "    .dataframe thead th {\n",
       "        text-align: right;\n",
       "    }\n",
       "</style>\n",
       "<table border=\"1\" class=\"dataframe\">\n",
       "  <thead>\n",
       "    <tr style=\"text-align: right;\">\n",
       "      <th></th>\n",
       "      <th>BsmtQual</th>\n",
       "      <th>FireplaceQu</th>\n",
       "      <th>GarageType</th>\n",
       "      <th>SalePrice</th>\n",
       "      <th>BsmtQual_after_replacing</th>\n",
       "    </tr>\n",
       "  </thead>\n",
       "  <tbody>\n",
       "    <tr>\n",
       "      <th>0</th>\n",
       "      <td>Gd</td>\n",
       "      <td>NaN</td>\n",
       "      <td>Attchd</td>\n",
       "      <td>208500</td>\n",
       "      <td>Gd</td>\n",
       "    </tr>\n",
       "    <tr>\n",
       "      <th>1</th>\n",
       "      <td>Gd</td>\n",
       "      <td>TA</td>\n",
       "      <td>Attchd</td>\n",
       "      <td>181500</td>\n",
       "      <td>Gd</td>\n",
       "    </tr>\n",
       "    <tr>\n",
       "      <th>2</th>\n",
       "      <td>Gd</td>\n",
       "      <td>TA</td>\n",
       "      <td>Attchd</td>\n",
       "      <td>223500</td>\n",
       "      <td>Gd</td>\n",
       "    </tr>\n",
       "    <tr>\n",
       "      <th>3</th>\n",
       "      <td>TA</td>\n",
       "      <td>Gd</td>\n",
       "      <td>Detchd</td>\n",
       "      <td>140000</td>\n",
       "      <td>TA</td>\n",
       "    </tr>\n",
       "    <tr>\n",
       "      <th>4</th>\n",
       "      <td>Gd</td>\n",
       "      <td>TA</td>\n",
       "      <td>Attchd</td>\n",
       "      <td>250000</td>\n",
       "      <td>Gd</td>\n",
       "    </tr>\n",
       "  </tbody>\n",
       "</table>\n",
       "</div>"
      ],
      "text/plain": [
       "  BsmtQual FireplaceQu GarageType  SalePrice BsmtQual_after_replacing\n",
       "0       Gd         NaN     Attchd     208500                       Gd\n",
       "1       Gd          TA     Attchd     181500                       Gd\n",
       "2       Gd          TA     Attchd     223500                       Gd\n",
       "3       TA          Gd     Detchd     140000                       TA\n",
       "4       Gd          TA     Attchd     250000                       Gd"
      ]
     },
     "execution_count": 51,
     "metadata": {},
     "output_type": "execute_result"
    }
   ],
   "source": [
    "impute_nan(df8, 'BsmtQual')\n",
    "df8.head()"
   ]
  },
  {
   "cell_type": "code",
   "execution_count": 52,
   "id": "suburban-crack",
   "metadata": {},
   "outputs": [
    {
     "data": {
      "text/plain": [
       "TA         649\n",
       "Gd         618\n",
       "Ex         121\n",
       "Missing     37\n",
       "Fa          35\n",
       "Name: BsmtQual_after_replacing, dtype: int64"
      ]
     },
     "execution_count": 52,
     "metadata": {},
     "output_type": "execute_result"
    }
   ],
   "source": [
    "df8['BsmtQual_after_replacing'].value_counts()"
   ]
  },
  {
   "cell_type": "raw",
   "id": "weird-length",
   "metadata": {},
   "source": [
    "## doing all this from feature engine module \n",
    "\n",
    "from feature_engine.imputation import CategoricalImputer\n",
    "imputer = CategoricalImputer(imputation_method = 'missing', fill_value = 'any_name', variables=['col_name_1', 'col_name_1'])\n",
    "\n",
    "# if you wanto to directly fit to the data\n",
    "\n",
    "imputer.fit(df)\n",
    "\n",
    "\n",
    "# if you want to fit the data to both tainning and testing\n",
    "\n",
    "imputer.fit(X_train)\n",
    "\n",
    "# transform the data\n",
    "train_t = imputer.transform(X_train)\n",
    "test_t = imputer.transform(X_test)"
   ]
  },
  {
   "cell_type": "markdown",
   "id": "selected-peeing",
   "metadata": {},
   "source": [
    "#### more info on this \n",
    "\n",
    "* The CategoricalVariableImputer() works only with categorical variables.\n",
    "\n",
    "* The user can pass all the columns. Alternatively, the CategoricalImputer() will automatically find and select all variables of type object.\n",
    "\n",
    "* imputation_method (default=missing) : Desired method of imputation. Can be ‘frequent’ or ‘missing’.\n",
    "\n",
    "    Note: if we use imputation_method = ‘frequent’ then most frequently accured category is replaced\n",
    "\n",
    "* fill_value (default=’Missing’) Only used when imputation_method='missing'. Instead of missing we can use any value or any name"
   ]
  },
  {
   "cell_type": "code",
   "execution_count": null,
   "id": "immune-plymouth",
   "metadata": {},
   "outputs": [],
   "source": []
  },
  {
   "cell_type": "markdown",
   "id": "expanded-product",
   "metadata": {},
   "source": [
    "# Note 1:\n",
    "\n",
    "* If you want to run this impute_nan fuction to all columns don't do manually, use the below code\n",
    "* If you want to apply the impute_nan then you need to cast or separate the numeric and categorical features for only some function\n",
    "* Below are the list of which feature takes what"
   ]
  },
  {
   "cell_type": "markdown",
   "id": "annual-oracle",
   "metadata": {},
   "source": [
    "1. Dropping the NaN values  -->  Takes both numeric and categorical columns\n",
    "2. Mean/ Median/Mode replacement --> Takes only numeric columns\n",
    "3. Random Sample Imputation --> Takes only numeric columns\n",
    "4. Capturing NAN values with 0 and other values with 1 --> Takes both numeric and categorical columns\n",
    "5. End of Distribution imputation --> Takes only numeric columns\n",
    "6. Arbitrary imputation --> Takes both numeric and categorical columns\n",
    "7. Frequent categories imputation --> Takes both numeric and categorical columns (but we never replace nan value with most repeated value for numeric columns)\n",
    "8. CategoricalImputer --> Takes both numeric and categorical columns"
   ]
  },
  {
   "cell_type": "code",
   "execution_count": 53,
   "id": "julian-accident",
   "metadata": {},
   "outputs": [
    {
     "data": {
      "text/plain": [
       "['Age', 'Cabin', 'Embarked']"
      ]
     },
     "execution_count": 53,
     "metadata": {},
     "output_type": "execute_result"
    }
   ],
   "source": [
    "# we will get all the columns having nan values\n",
    "columns_with_nan = [feature for feature in df.columns if df[feature].isnull().sum() > 1]\n",
    "columns_with_nan"
   ]
  },
  {
   "cell_type": "markdown",
   "id": "infrared-strategy",
   "metadata": {},
   "source": [
    "### just to take as an eg, I am running the below code (which will replaces the NaN value with 'Missing' term)"
   ]
  },
  {
   "cell_type": "code",
   "execution_count": 54,
   "id": "traditional-disabled",
   "metadata": {},
   "outputs": [],
   "source": [
    "def impute_nan(df, variable):\n",
    "    df[variable + \"_after_replacing\"] = df[variable].fillna('Missing')"
   ]
  },
  {
   "cell_type": "code",
   "execution_count": 55,
   "id": "steady-texture",
   "metadata": {},
   "outputs": [],
   "source": [
    "# to run the function \n",
    "for feature in columns_with_nan:\n",
    "    impute_nan(df, feature)"
   ]
  },
  {
   "cell_type": "code",
   "execution_count": 56,
   "id": "yellow-copyright",
   "metadata": {},
   "outputs": [
    {
     "data": {
      "text/html": [
       "<div>\n",
       "<style scoped>\n",
       "    .dataframe tbody tr th:only-of-type {\n",
       "        vertical-align: middle;\n",
       "    }\n",
       "\n",
       "    .dataframe tbody tr th {\n",
       "        vertical-align: top;\n",
       "    }\n",
       "\n",
       "    .dataframe thead th {\n",
       "        text-align: right;\n",
       "    }\n",
       "</style>\n",
       "<table border=\"1\" class=\"dataframe\">\n",
       "  <thead>\n",
       "    <tr style=\"text-align: right;\">\n",
       "      <th></th>\n",
       "      <th>PassengerId</th>\n",
       "      <th>Survived</th>\n",
       "      <th>Pclass</th>\n",
       "      <th>Name</th>\n",
       "      <th>Sex</th>\n",
       "      <th>Age</th>\n",
       "      <th>SibSp</th>\n",
       "      <th>Parch</th>\n",
       "      <th>Ticket</th>\n",
       "      <th>Fare</th>\n",
       "      <th>Cabin</th>\n",
       "      <th>Embarked</th>\n",
       "      <th>Age_after_replacing</th>\n",
       "      <th>Cabin_after_replacing</th>\n",
       "      <th>Embarked_after_replacing</th>\n",
       "    </tr>\n",
       "  </thead>\n",
       "  <tbody>\n",
       "    <tr>\n",
       "      <th>0</th>\n",
       "      <td>1</td>\n",
       "      <td>0</td>\n",
       "      <td>3</td>\n",
       "      <td>Braund, Mr. Owen Harris</td>\n",
       "      <td>male</td>\n",
       "      <td>22.0</td>\n",
       "      <td>1</td>\n",
       "      <td>0</td>\n",
       "      <td>A/5 21171</td>\n",
       "      <td>7.2500</td>\n",
       "      <td>NaN</td>\n",
       "      <td>S</td>\n",
       "      <td>22.0</td>\n",
       "      <td>Missing</td>\n",
       "      <td>S</td>\n",
       "    </tr>\n",
       "    <tr>\n",
       "      <th>1</th>\n",
       "      <td>2</td>\n",
       "      <td>1</td>\n",
       "      <td>1</td>\n",
       "      <td>Cumings, Mrs. John Bradley (Florence Briggs Th...</td>\n",
       "      <td>female</td>\n",
       "      <td>38.0</td>\n",
       "      <td>1</td>\n",
       "      <td>0</td>\n",
       "      <td>PC 17599</td>\n",
       "      <td>71.2833</td>\n",
       "      <td>C85</td>\n",
       "      <td>C</td>\n",
       "      <td>38.0</td>\n",
       "      <td>C85</td>\n",
       "      <td>C</td>\n",
       "    </tr>\n",
       "    <tr>\n",
       "      <th>2</th>\n",
       "      <td>3</td>\n",
       "      <td>1</td>\n",
       "      <td>3</td>\n",
       "      <td>Heikkinen, Miss. Laina</td>\n",
       "      <td>female</td>\n",
       "      <td>26.0</td>\n",
       "      <td>0</td>\n",
       "      <td>0</td>\n",
       "      <td>STON/O2. 3101282</td>\n",
       "      <td>7.9250</td>\n",
       "      <td>NaN</td>\n",
       "      <td>S</td>\n",
       "      <td>26.0</td>\n",
       "      <td>Missing</td>\n",
       "      <td>S</td>\n",
       "    </tr>\n",
       "  </tbody>\n",
       "</table>\n",
       "</div>"
      ],
      "text/plain": [
       "   PassengerId  Survived  Pclass  \\\n",
       "0            1         0       3   \n",
       "1            2         1       1   \n",
       "2            3         1       3   \n",
       "\n",
       "                                                Name     Sex   Age  SibSp  \\\n",
       "0                            Braund, Mr. Owen Harris    male  22.0      1   \n",
       "1  Cumings, Mrs. John Bradley (Florence Briggs Th...  female  38.0      1   \n",
       "2                             Heikkinen, Miss. Laina  female  26.0      0   \n",
       "\n",
       "   Parch            Ticket     Fare Cabin Embarked Age_after_replacing  \\\n",
       "0      0         A/5 21171   7.2500   NaN        S                22.0   \n",
       "1      0          PC 17599  71.2833   C85        C                38.0   \n",
       "2      0  STON/O2. 3101282   7.9250   NaN        S                26.0   \n",
       "\n",
       "  Cabin_after_replacing Embarked_after_replacing  \n",
       "0               Missing                        S  \n",
       "1                   C85                        C  \n",
       "2               Missing                        S  "
      ]
     },
     "execution_count": 56,
     "metadata": {},
     "output_type": "execute_result"
    }
   ],
   "source": [
    "df.head(3)"
   ]
  },
  {
   "cell_type": "markdown",
   "id": "plastic-group",
   "metadata": {},
   "source": [
    "# Note 2:\n",
    "\n",
    "* If you are applying feature engine packages then you need to cast or separate the numeric and categorical features \n",
    "* because some packages takes only numeric columns other packes will take only categorical columns\n",
    "* If you don't do thn you will get error\n",
    "* Below are the list of which feature takes what"
   ]
  },
  {
   "cell_type": "markdown",
   "id": "meaning-breed",
   "metadata": {},
   "source": [
    "1. Dropping the NaN values  -->  Takes both numeric and categorical columns\n",
    "2. Mean/ Median/Mode replacement --> Takes only numeric columns\n",
    "3. Random Sample Imputation --> Takes only numeric columns\n",
    "4. Capturing NAN values with 0 and other values with 1 --> Takes both numeric and categorical columns\n",
    "5. End of Distribution imputation --> Takes only numeric columns\n",
    "6. Arbitrary imputation --> Takes only numeric columns\n",
    "7. Frequent categories imputation --> Takes only categorical columns\n",
    "8. CategoricalImputer --> Takes only categorical columns"
   ]
  },
  {
   "cell_type": "code",
   "execution_count": 57,
   "id": "practical-reasoning",
   "metadata": {},
   "outputs": [
    {
     "data": {
      "text/plain": [
       "['Age', 'Cabin', 'Embarked']"
      ]
     },
     "execution_count": 57,
     "metadata": {},
     "output_type": "execute_result"
    }
   ],
   "source": [
    "columns_with_nan = [feature for feature in df.columns if df[feature].isnull().sum() > 1]\n",
    "columns_with_nan"
   ]
  },
  {
   "cell_type": "code",
   "execution_count": 58,
   "id": "advance-powder",
   "metadata": {},
   "outputs": [
    {
     "data": {
      "text/plain": [
       "['Cabin', 'Embarked']"
      ]
     },
     "execution_count": 58,
     "metadata": {},
     "output_type": "execute_result"
    }
   ],
   "source": [
    "categorical_columns_with_nan = [feature for feature in df.columns if df[feature].isnull().sum() > 1 and df[feature].dtypes=='O']\n",
    "categorical_columns_with_nan"
   ]
  },
  {
   "cell_type": "code",
   "execution_count": 59,
   "id": "entitled-linux",
   "metadata": {},
   "outputs": [
    {
     "data": {
      "text/plain": [
       "['Age']"
      ]
     },
     "execution_count": 59,
     "metadata": {},
     "output_type": "execute_result"
    }
   ],
   "source": [
    "numerical_columns_with_nan = [feature for feature in df.columns if df[feature].isnull().sum()>1 and df[feature].dtypes!='O']\n",
    "numerical_columns_with_nan"
   ]
  },
  {
   "cell_type": "markdown",
   "id": "excited-terror",
   "metadata": {},
   "source": [
    "### just to take as an eg, I am running the below code (which will replaces the NaN value with 'Missing' term)"
   ]
  },
  {
   "cell_type": "code",
   "execution_count": 60,
   "id": "reduced-animal",
   "metadata": {},
   "outputs": [],
   "source": [
    "from feature_engine.imputation import CategoricalImputer\n",
    "imputer = CategoricalImputer(imputation_method = 'missing', fill_value = 'manoj', variables=categorical_columns_with_nan)\n",
    "\n",
    "imputer.fit(df)\n",
    "new_df = imputer.transform(df)"
   ]
  },
  {
   "cell_type": "code",
   "execution_count": 61,
   "id": "computational-blogger",
   "metadata": {},
   "outputs": [
    {
     "data": {
      "text/html": [
       "<div>\n",
       "<style scoped>\n",
       "    .dataframe tbody tr th:only-of-type {\n",
       "        vertical-align: middle;\n",
       "    }\n",
       "\n",
       "    .dataframe tbody tr th {\n",
       "        vertical-align: top;\n",
       "    }\n",
       "\n",
       "    .dataframe thead th {\n",
       "        text-align: right;\n",
       "    }\n",
       "</style>\n",
       "<table border=\"1\" class=\"dataframe\">\n",
       "  <thead>\n",
       "    <tr style=\"text-align: right;\">\n",
       "      <th></th>\n",
       "      <th>PassengerId</th>\n",
       "      <th>Survived</th>\n",
       "      <th>Pclass</th>\n",
       "      <th>Name</th>\n",
       "      <th>Sex</th>\n",
       "      <th>Age</th>\n",
       "      <th>SibSp</th>\n",
       "      <th>Parch</th>\n",
       "      <th>Ticket</th>\n",
       "      <th>Fare</th>\n",
       "      <th>Cabin</th>\n",
       "      <th>Embarked</th>\n",
       "      <th>Age_after_replacing</th>\n",
       "      <th>Cabin_after_replacing</th>\n",
       "      <th>Embarked_after_replacing</th>\n",
       "    </tr>\n",
       "  </thead>\n",
       "  <tbody>\n",
       "    <tr>\n",
       "      <th>0</th>\n",
       "      <td>1</td>\n",
       "      <td>0</td>\n",
       "      <td>3</td>\n",
       "      <td>Braund, Mr. Owen Harris</td>\n",
       "      <td>male</td>\n",
       "      <td>22.0</td>\n",
       "      <td>1</td>\n",
       "      <td>0</td>\n",
       "      <td>A/5 21171</td>\n",
       "      <td>7.2500</td>\n",
       "      <td>manoj</td>\n",
       "      <td>S</td>\n",
       "      <td>22.0</td>\n",
       "      <td>Missing</td>\n",
       "      <td>S</td>\n",
       "    </tr>\n",
       "    <tr>\n",
       "      <th>1</th>\n",
       "      <td>2</td>\n",
       "      <td>1</td>\n",
       "      <td>1</td>\n",
       "      <td>Cumings, Mrs. John Bradley (Florence Briggs Th...</td>\n",
       "      <td>female</td>\n",
       "      <td>38.0</td>\n",
       "      <td>1</td>\n",
       "      <td>0</td>\n",
       "      <td>PC 17599</td>\n",
       "      <td>71.2833</td>\n",
       "      <td>C85</td>\n",
       "      <td>C</td>\n",
       "      <td>38.0</td>\n",
       "      <td>C85</td>\n",
       "      <td>C</td>\n",
       "    </tr>\n",
       "    <tr>\n",
       "      <th>2</th>\n",
       "      <td>3</td>\n",
       "      <td>1</td>\n",
       "      <td>3</td>\n",
       "      <td>Heikkinen, Miss. Laina</td>\n",
       "      <td>female</td>\n",
       "      <td>26.0</td>\n",
       "      <td>0</td>\n",
       "      <td>0</td>\n",
       "      <td>STON/O2. 3101282</td>\n",
       "      <td>7.9250</td>\n",
       "      <td>manoj</td>\n",
       "      <td>S</td>\n",
       "      <td>26.0</td>\n",
       "      <td>Missing</td>\n",
       "      <td>S</td>\n",
       "    </tr>\n",
       "    <tr>\n",
       "      <th>3</th>\n",
       "      <td>4</td>\n",
       "      <td>1</td>\n",
       "      <td>1</td>\n",
       "      <td>Futrelle, Mrs. Jacques Heath (Lily May Peel)</td>\n",
       "      <td>female</td>\n",
       "      <td>35.0</td>\n",
       "      <td>1</td>\n",
       "      <td>0</td>\n",
       "      <td>113803</td>\n",
       "      <td>53.1000</td>\n",
       "      <td>C123</td>\n",
       "      <td>S</td>\n",
       "      <td>35.0</td>\n",
       "      <td>C123</td>\n",
       "      <td>S</td>\n",
       "    </tr>\n",
       "    <tr>\n",
       "      <th>4</th>\n",
       "      <td>5</td>\n",
       "      <td>0</td>\n",
       "      <td>3</td>\n",
       "      <td>Allen, Mr. William Henry</td>\n",
       "      <td>male</td>\n",
       "      <td>35.0</td>\n",
       "      <td>0</td>\n",
       "      <td>0</td>\n",
       "      <td>373450</td>\n",
       "      <td>8.0500</td>\n",
       "      <td>manoj</td>\n",
       "      <td>S</td>\n",
       "      <td>35.0</td>\n",
       "      <td>Missing</td>\n",
       "      <td>S</td>\n",
       "    </tr>\n",
       "  </tbody>\n",
       "</table>\n",
       "</div>"
      ],
      "text/plain": [
       "   PassengerId  Survived  Pclass  \\\n",
       "0            1         0       3   \n",
       "1            2         1       1   \n",
       "2            3         1       3   \n",
       "3            4         1       1   \n",
       "4            5         0       3   \n",
       "\n",
       "                                                Name     Sex   Age  SibSp  \\\n",
       "0                            Braund, Mr. Owen Harris    male  22.0      1   \n",
       "1  Cumings, Mrs. John Bradley (Florence Briggs Th...  female  38.0      1   \n",
       "2                             Heikkinen, Miss. Laina  female  26.0      0   \n",
       "3       Futrelle, Mrs. Jacques Heath (Lily May Peel)  female  35.0      1   \n",
       "4                           Allen, Mr. William Henry    male  35.0      0   \n",
       "\n",
       "   Parch            Ticket     Fare  Cabin Embarked Age_after_replacing  \\\n",
       "0      0         A/5 21171   7.2500  manoj        S                22.0   \n",
       "1      0          PC 17599  71.2833    C85        C                38.0   \n",
       "2      0  STON/O2. 3101282   7.9250  manoj        S                26.0   \n",
       "3      0            113803  53.1000   C123        S                35.0   \n",
       "4      0            373450   8.0500  manoj        S                35.0   \n",
       "\n",
       "  Cabin_after_replacing Embarked_after_replacing  \n",
       "0               Missing                        S  \n",
       "1                   C85                        C  \n",
       "2               Missing                        S  \n",
       "3                  C123                        S  \n",
       "4               Missing                        S  "
      ]
     },
     "execution_count": 61,
     "metadata": {},
     "output_type": "execute_result"
    }
   ],
   "source": [
    "new_df.head()"
   ]
  },
  {
   "cell_type": "markdown",
   "id": "earlier-recording",
   "metadata": {},
   "source": [
    "# Note 3:\n",
    "\n",
    "In some cases we can't identify the NaN values using df.isnull().sum in that we use the below code:"
   ]
  },
  {
   "cell_type": "raw",
   "id": "terminal-denial",
   "metadata": {},
   "source": [
    "for i in df.columns:\n",
    "    count = 0\n",
    "    for val in df[i].values:\n",
    "        if val in ['/n', 'NaN', 'nan', 'null', 'Null']: # here we can add any values\n",
    "            count = count+1\n",
    "    print(f'No of null values in {i},is {count}')"
   ]
  }
 ],
 "metadata": {
  "kernelspec": {
   "display_name": "Python 3",
   "language": "python",
   "name": "python3"
  },
  "language_info": {
   "codemirror_mode": {
    "name": "ipython",
    "version": 3
   },
   "file_extension": ".py",
   "mimetype": "text/x-python",
   "name": "python",
   "nbconvert_exporter": "python",
   "pygments_lexer": "ipython3",
   "version": "3.8.6"
  }
 },
 "nbformat": 4,
 "nbformat_minor": 5
}
