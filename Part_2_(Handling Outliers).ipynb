{
 "cells": [
  {
   "cell_type": "markdown",
   "id": "advisory-sperm",
   "metadata": {},
   "source": [
    "# Feature Engineering - Handling Outliers"
   ]
  },
  {
   "cell_type": "markdown",
   "id": "endangered-telephone",
   "metadata": {},
   "source": [
    "### Which Machine Learning Models Are Sensitive To Outliers?\n",
    "\n",
    "\n",
    "1)  Linear Regression------------------Sensitive To Outliers\n",
    "\n",
    "2)  Polynomial Regression--------------Sensitive To Outliers\n",
    "\n",
    "3)  Ridge and Lasso Regression---------Sensitive To Outliers\n",
    "\n",
    "4)  Decision Tree Regressor------------Not Sensitive\n",
    "\n",
    "5)  Logistic Regression----------------Sensitive To Outliers\n",
    "\n",
    "6)  KNN--------------------------------Sensitive To Outliers\n",
    "\n",
    "7)  Naivye Bayes Classifier------------Not Sensitive \n",
    "\n",
    "8)  SVM--------------------------------Not Sensitive  \n",
    "\n",
    "9)  Decision Tree Classifier-----------Not Sensitive\n",
    "\n",
    "10) Ensemble(RF,AB,GB,XgBoost)---------Not Sensitive\n",
    "\n",
    "11) Kmeans-----------------------------Sensitive\n",
    "\n",
    "12) Hierarichal------------------------Sensitive \n",
    "\n",
    "13) PCA--------------------------------Sensitive\n",
    "\n",
    "14) Neural Networks--------------------Sensitive\n"
   ]
  },
  {
   "cell_type": "markdown",
   "id": "hourly-automation",
   "metadata": {},
   "source": [
    "## If Data or column is Guassian distributed"
   ]
  },
  {
   "cell_type": "markdown",
   "id": "metallic-installation",
   "metadata": {},
   "source": [
    "##### If column follows A Gaussian Distribution we will calculate the boundaries which differentiates the outliers using below code\n",
    "\n",
    "uppper_boundary = df['col_name'].mean() + 3* df['col_name'].std()\n",
    "\n",
    "lower_boundary = df['col_name'].mean() - 3 * df['col_name'].std() \n",
    "\n",
    "print(lower_boundary)\n",
    "\n",
    "print(uppper_boundary)"
   ]
  },
  {
   "cell_type": "markdown",
   "id": "informational-royalty",
   "metadata": {},
   "source": [
    "### Removing the ouliers values and replacing that with upper and lower boundaries"
   ]
  },
  {
   "cell_type": "markdown",
   "id": "polished-internet",
   "metadata": {},
   "source": [
    "data = df.copy()\n",
    "\n",
    "data.loc[ data['col_name'] >= uppper_boundary, 'col_name'] = uppper_boundary\n",
    "\n",
    "data.loc[ data['col_name'] <= lower_boundary, 'col_name'] = lower_boundary"
   ]
  },
  {
   "cell_type": "code",
   "execution_count": null,
   "id": "identical-james",
   "metadata": {},
   "outputs": [],
   "source": []
  },
  {
   "cell_type": "markdown",
   "id": "vanilla-behalf",
   "metadata": {},
   "source": [
    "## If Data or column is Left or Right Skewed"
   ]
  },
  {
   "cell_type": "markdown",
   "id": "empirical-rescue",
   "metadata": {},
   "source": [
    "#### If column is left or right skewed  we will calculate the boundaries which differentiates the outliers using below code\n",
    "\n",
    "###### Here you can \n",
    "\n",
    "* IQR * 1.5 ---to remove Normal outliers  \n",
    "* IQR * 3   ---to remove Extreme outliers\n",
    "\n",
    "lower_bridge = df['col_name'].quantile(0.25) - (IQR * 3)\n",
    "\n",
    "upper_bridge = df['col_name'].quantile(0.75) + (IQR * 3)\n",
    "\n",
    "print(lower_bridge)\n",
    "\n",
    "print(upper_bridge)"
   ]
  },
  {
   "cell_type": "markdown",
   "id": "behind-mexico",
   "metadata": {},
   "source": [
    "### Removing the ouliers values and replacing that with upper and lower boundaries"
   ]
  },
  {
   "cell_type": "markdown",
   "id": "experienced-potential",
   "metadata": {},
   "source": [
    "data = df.copy()\n",
    "\n",
    "data.loc[ data['col_name'] >= upper_bridge, 'col_name'] = upper_bridge\n",
    "\n",
    "data.loc[ data['col_name'] <= lower_bridge, 'col_name'] = lower_bridge"
   ]
  },
  {
   "cell_type": "code",
   "execution_count": null,
   "id": "civilian-huntington",
   "metadata": {},
   "outputs": [],
   "source": []
  },
  {
   "cell_type": "markdown",
   "id": "associate-vacuum",
   "metadata": {},
   "source": [
    "# To check how data is distributed"
   ]
  },
  {
   "cell_type": "code",
   "execution_count": 1,
   "id": "removed-sociology",
   "metadata": {},
   "outputs": [],
   "source": [
    "import pandas as pd\n",
    "import numpy as np\n",
    "import seaborn as sns\n",
    "import matplotlib.pyplot as plt\n",
    "%matplotlib inline"
   ]
  },
  {
   "cell_type": "code",
   "execution_count": 2,
   "id": "second-korea",
   "metadata": {},
   "outputs": [],
   "source": [
    "df = pd.read_csv('titanic.csv')"
   ]
  },
  {
   "cell_type": "code",
   "execution_count": 3,
   "id": "diverse-feelings",
   "metadata": {},
   "outputs": [
    {
     "data": {
      "text/html": [
       "<div>\n",
       "<style scoped>\n",
       "    .dataframe tbody tr th:only-of-type {\n",
       "        vertical-align: middle;\n",
       "    }\n",
       "\n",
       "    .dataframe tbody tr th {\n",
       "        vertical-align: top;\n",
       "    }\n",
       "\n",
       "    .dataframe thead th {\n",
       "        text-align: right;\n",
       "    }\n",
       "</style>\n",
       "<table border=\"1\" class=\"dataframe\">\n",
       "  <thead>\n",
       "    <tr style=\"text-align: right;\">\n",
       "      <th></th>\n",
       "      <th>PassengerId</th>\n",
       "      <th>Survived</th>\n",
       "      <th>Pclass</th>\n",
       "      <th>Name</th>\n",
       "      <th>Sex</th>\n",
       "      <th>Age</th>\n",
       "      <th>SibSp</th>\n",
       "      <th>Parch</th>\n",
       "      <th>Ticket</th>\n",
       "      <th>Fare</th>\n",
       "      <th>Cabin</th>\n",
       "      <th>Embarked</th>\n",
       "    </tr>\n",
       "  </thead>\n",
       "  <tbody>\n",
       "    <tr>\n",
       "      <th>0</th>\n",
       "      <td>1</td>\n",
       "      <td>0</td>\n",
       "      <td>3</td>\n",
       "      <td>Braund, Mr. Owen Harris</td>\n",
       "      <td>male</td>\n",
       "      <td>22.0</td>\n",
       "      <td>1</td>\n",
       "      <td>0</td>\n",
       "      <td>A/5 21171</td>\n",
       "      <td>7.2500</td>\n",
       "      <td>NaN</td>\n",
       "      <td>S</td>\n",
       "    </tr>\n",
       "    <tr>\n",
       "      <th>1</th>\n",
       "      <td>2</td>\n",
       "      <td>1</td>\n",
       "      <td>1</td>\n",
       "      <td>Cumings, Mrs. John Bradley (Florence Briggs Th...</td>\n",
       "      <td>female</td>\n",
       "      <td>38.0</td>\n",
       "      <td>1</td>\n",
       "      <td>0</td>\n",
       "      <td>PC 17599</td>\n",
       "      <td>71.2833</td>\n",
       "      <td>C85</td>\n",
       "      <td>C</td>\n",
       "    </tr>\n",
       "    <tr>\n",
       "      <th>2</th>\n",
       "      <td>3</td>\n",
       "      <td>1</td>\n",
       "      <td>3</td>\n",
       "      <td>Heikkinen, Miss. Laina</td>\n",
       "      <td>female</td>\n",
       "      <td>26.0</td>\n",
       "      <td>0</td>\n",
       "      <td>0</td>\n",
       "      <td>STON/O2. 3101282</td>\n",
       "      <td>7.9250</td>\n",
       "      <td>NaN</td>\n",
       "      <td>S</td>\n",
       "    </tr>\n",
       "    <tr>\n",
       "      <th>3</th>\n",
       "      <td>4</td>\n",
       "      <td>1</td>\n",
       "      <td>1</td>\n",
       "      <td>Futrelle, Mrs. Jacques Heath (Lily May Peel)</td>\n",
       "      <td>female</td>\n",
       "      <td>35.0</td>\n",
       "      <td>1</td>\n",
       "      <td>0</td>\n",
       "      <td>113803</td>\n",
       "      <td>53.1000</td>\n",
       "      <td>C123</td>\n",
       "      <td>S</td>\n",
       "    </tr>\n",
       "    <tr>\n",
       "      <th>4</th>\n",
       "      <td>5</td>\n",
       "      <td>0</td>\n",
       "      <td>3</td>\n",
       "      <td>Allen, Mr. William Henry</td>\n",
       "      <td>male</td>\n",
       "      <td>35.0</td>\n",
       "      <td>0</td>\n",
       "      <td>0</td>\n",
       "      <td>373450</td>\n",
       "      <td>8.0500</td>\n",
       "      <td>NaN</td>\n",
       "      <td>S</td>\n",
       "    </tr>\n",
       "  </tbody>\n",
       "</table>\n",
       "</div>"
      ],
      "text/plain": [
       "   PassengerId  Survived  Pclass  \\\n",
       "0            1         0       3   \n",
       "1            2         1       1   \n",
       "2            3         1       3   \n",
       "3            4         1       1   \n",
       "4            5         0       3   \n",
       "\n",
       "                                                Name     Sex   Age  SibSp  \\\n",
       "0                            Braund, Mr. Owen Harris    male  22.0      1   \n",
       "1  Cumings, Mrs. John Bradley (Florence Briggs Th...  female  38.0      1   \n",
       "2                             Heikkinen, Miss. Laina  female  26.0      0   \n",
       "3       Futrelle, Mrs. Jacques Heath (Lily May Peel)  female  35.0      1   \n",
       "4                           Allen, Mr. William Henry    male  35.0      0   \n",
       "\n",
       "   Parch            Ticket     Fare Cabin Embarked  \n",
       "0      0         A/5 21171   7.2500   NaN        S  \n",
       "1      0          PC 17599  71.2833   C85        C  \n",
       "2      0  STON/O2. 3101282   7.9250   NaN        S  \n",
       "3      0            113803  53.1000  C123        S  \n",
       "4      0            373450   8.0500   NaN        S  "
      ]
     },
     "execution_count": 3,
     "metadata": {},
     "output_type": "execute_result"
    }
   ],
   "source": [
    "df.head()"
   ]
  },
  {
   "cell_type": "code",
   "execution_count": 4,
   "id": "operational-router",
   "metadata": {},
   "outputs": [],
   "source": [
    "df.rename(columns = {'Age':'col_name'}, inplace = True)"
   ]
  },
  {
   "cell_type": "code",
   "execution_count": 5,
   "id": "productive-myanmar",
   "metadata": {},
   "outputs": [
    {
     "name": "stderr",
     "output_type": "stream",
     "text": [
      "c:\\users\\manoj\\appdata\\local\\programs\\python\\python38\\lib\\site-packages\\seaborn\\distributions.py:2557: FutureWarning: `distplot` is a deprecated function and will be removed in a future version. Please adapt your code to use either `displot` (a figure-level function with similar flexibility) or `histplot` (an axes-level function for histograms).\n",
      "  warnings.warn(msg, FutureWarning)\n"
     ]
    },
    {
     "data": {
      "text/plain": [
       "<AxesSubplot:xlabel='col_name', ylabel='Density'>"
      ]
     },
     "execution_count": 5,
     "metadata": {},
     "output_type": "execute_result"
    },
    {
     "data": {
      "image/png": "[encoded data removed]",
      "text/plain": [
       "<Figure size 432x288 with 1 Axes>"
      ]
     },
     "metadata": {
      "needs_background": "light"
     },
     "output_type": "display_data"
    }
   ],
   "source": [
    "sns.distplot(df['col_name'])"
   ]
  },
  {
   "cell_type": "code",
   "execution_count": 6,
   "id": "studied-lucas",
   "metadata": {},
   "outputs": [
    {
     "data": {
      "text/plain": [
       "Text(0, 0.5, 'ylabel')"
      ]
     },
     "execution_count": 6,
     "metadata": {},
     "output_type": "execute_result"
    },
    {
     "data": {
      "image/png": "[encoded data removed]",
      "text/plain": [
       "<Figure size 432x288 with 1 Axes>"
      ]
     },
     "metadata": {
      "needs_background": "light"
     },
     "output_type": "display_data"
    }
   ],
   "source": [
    "figure = df['col_name'].hist(bins=50)\n",
    "\n",
    "figure.set_title('col_name')\n",
    "figure.set_xlabel('xlabel')\n",
    "figure.set_ylabel('ylabel')"
   ]
  },
  {
   "cell_type": "markdown",
   "id": "velvet-ivory",
   "metadata": {},
   "source": [
    "# To check column has outlier or not"
   ]
  },
  {
   "cell_type": "code",
   "execution_count": 7,
   "id": "immediate-price",
   "metadata": {},
   "outputs": [
    {
     "data": {
      "text/plain": [
       "<AxesSubplot:>"
      ]
     },
     "execution_count": 7,
     "metadata": {},
     "output_type": "execute_result"
    },
    {
     "data": {
      "image/png": "[encoded data removed]",
      "text/plain": [
       "<Figure size 432x288 with 1 Axes>"
      ]
     },
     "metadata": {
      "needs_background": "light"
     },
     "output_type": "display_data"
    }
   ],
   "source": [
    "df.boxplot(column='col_name')"
   ]
  },
  {
   "cell_type": "code",
   "execution_count": 8,
   "id": "driving-boutique",
   "metadata": {},
   "outputs": [
    {
     "name": "stderr",
     "output_type": "stream",
     "text": [
      "c:\\users\\manoj\\appdata\\local\\programs\\python\\python38\\lib\\site-packages\\seaborn\\_decorators.py:36: FutureWarning: Pass the following variable as a keyword arg: x. From version 0.12, the only valid positional argument will be `data`, and passing other arguments without an explicit keyword will result in an error or misinterpretation.\n",
      "  warnings.warn(\n"
     ]
    },
    {
     "data": {
      "text/plain": [
       "<AxesSubplot:xlabel='col_name'>"
      ]
     },
     "execution_count": 8,
     "metadata": {},
     "output_type": "execute_result"
    },
    {
     "data": {
      "image/png": "[encoded data removed]",
      "text/plain": [
       "<Figure size 432x288 with 1 Axes>"
      ]
     },
     "metadata": {
      "needs_background": "light"
     },
     "output_type": "display_data"
    }
   ],
   "source": [
    "# or\n",
    "sns.boxplot(df['col_name'])"
   ]
  },
  {
   "cell_type": "code",
   "execution_count": 9,
   "id": "representative-nelson",
   "metadata": {},
   "outputs": [
    {
     "data": {
      "image/png": "[encoded data removed]",
      "text/plain": [
       "<Figure size 432x288 with 1 Axes>"
      ]
     },
     "metadata": {
      "needs_background": "light"
     },
     "output_type": "display_data"
    }
   ],
   "source": [
    "# or\n",
    "# To use plt you need to first drop or replace nan values\n",
    "plt.boxplot(df['col_name'].dropna())\n",
    "plt.show()"
   ]
  },
  {
   "cell_type": "markdown",
   "id": "artificial-cologne",
   "metadata": {},
   "source": [
    "## Dynamic way"
   ]
  },
  {
   "cell_type": "code",
   "execution_count": 10,
   "id": "executed-operator",
   "metadata": {},
   "outputs": [
    {
     "data": {
      "text/html": [
       "<div>\n",
       "<style scoped>\n",
       "    .dataframe tbody tr th:only-of-type {\n",
       "        vertical-align: middle;\n",
       "    }\n",
       "\n",
       "    .dataframe tbody tr th {\n",
       "        vertical-align: top;\n",
       "    }\n",
       "\n",
       "    .dataframe thead th {\n",
       "        text-align: right;\n",
       "    }\n",
       "</style>\n",
       "<table border=\"1\" class=\"dataframe\">\n",
       "  <thead>\n",
       "    <tr style=\"text-align: right;\">\n",
       "      <th></th>\n",
       "      <th>CRIM</th>\n",
       "      <th>ZN</th>\n",
       "      <th>INDUS</th>\n",
       "      <th>CHAS</th>\n",
       "      <th>NOX</th>\n",
       "      <th>RM</th>\n",
       "      <th>AGE</th>\n",
       "      <th>DIS</th>\n",
       "      <th>RAD</th>\n",
       "      <th>TAX</th>\n",
       "      <th>PTRATIO</th>\n",
       "      <th>B</th>\n",
       "      <th>LSTAT</th>\n",
       "    </tr>\n",
       "  </thead>\n",
       "  <tbody>\n",
       "    <tr>\n",
       "      <th>0</th>\n",
       "      <td>0.00632</td>\n",
       "      <td>18.0</td>\n",
       "      <td>2.31</td>\n",
       "      <td>0.0</td>\n",
       "      <td>0.538</td>\n",
       "      <td>6.575</td>\n",
       "      <td>65.2</td>\n",
       "      <td>4.0900</td>\n",
       "      <td>1.0</td>\n",
       "      <td>296.0</td>\n",
       "      <td>15.3</td>\n",
       "      <td>396.90</td>\n",
       "      <td>4.98</td>\n",
       "    </tr>\n",
       "    <tr>\n",
       "      <th>1</th>\n",
       "      <td>0.02731</td>\n",
       "      <td>0.0</td>\n",
       "      <td>7.07</td>\n",
       "      <td>0.0</td>\n",
       "      <td>0.469</td>\n",
       "      <td>6.421</td>\n",
       "      <td>78.9</td>\n",
       "      <td>4.9671</td>\n",
       "      <td>2.0</td>\n",
       "      <td>242.0</td>\n",
       "      <td>17.8</td>\n",
       "      <td>396.90</td>\n",
       "      <td>9.14</td>\n",
       "    </tr>\n",
       "    <tr>\n",
       "      <th>2</th>\n",
       "      <td>0.02729</td>\n",
       "      <td>0.0</td>\n",
       "      <td>7.07</td>\n",
       "      <td>0.0</td>\n",
       "      <td>0.469</td>\n",
       "      <td>7.185</td>\n",
       "      <td>61.1</td>\n",
       "      <td>4.9671</td>\n",
       "      <td>2.0</td>\n",
       "      <td>242.0</td>\n",
       "      <td>17.8</td>\n",
       "      <td>392.83</td>\n",
       "      <td>4.03</td>\n",
       "    </tr>\n",
       "    <tr>\n",
       "      <th>3</th>\n",
       "      <td>0.03237</td>\n",
       "      <td>0.0</td>\n",
       "      <td>2.18</td>\n",
       "      <td>0.0</td>\n",
       "      <td>0.458</td>\n",
       "      <td>6.998</td>\n",
       "      <td>45.8</td>\n",
       "      <td>6.0622</td>\n",
       "      <td>3.0</td>\n",
       "      <td>222.0</td>\n",
       "      <td>18.7</td>\n",
       "      <td>394.63</td>\n",
       "      <td>2.94</td>\n",
       "    </tr>\n",
       "    <tr>\n",
       "      <th>4</th>\n",
       "      <td>0.06905</td>\n",
       "      <td>0.0</td>\n",
       "      <td>2.18</td>\n",
       "      <td>0.0</td>\n",
       "      <td>0.458</td>\n",
       "      <td>7.147</td>\n",
       "      <td>54.2</td>\n",
       "      <td>6.0622</td>\n",
       "      <td>3.0</td>\n",
       "      <td>222.0</td>\n",
       "      <td>18.7</td>\n",
       "      <td>396.90</td>\n",
       "      <td>5.33</td>\n",
       "    </tr>\n",
       "  </tbody>\n",
       "</table>\n",
       "</div>"
      ],
      "text/plain": [
       "      CRIM    ZN  INDUS  CHAS    NOX     RM   AGE     DIS  RAD    TAX  \\\n",
       "0  0.00632  18.0   2.31   0.0  0.538  6.575  65.2  4.0900  1.0  296.0   \n",
       "1  0.02731   0.0   7.07   0.0  0.469  6.421  78.9  4.9671  2.0  242.0   \n",
       "2  0.02729   0.0   7.07   0.0  0.469  7.185  61.1  4.9671  2.0  242.0   \n",
       "3  0.03237   0.0   2.18   0.0  0.458  6.998  45.8  6.0622  3.0  222.0   \n",
       "4  0.06905   0.0   2.18   0.0  0.458  7.147  54.2  6.0622  3.0  222.0   \n",
       "\n",
       "   PTRATIO       B  LSTAT  \n",
       "0     15.3  396.90   4.98  \n",
       "1     17.8  396.90   9.14  \n",
       "2     17.8  392.83   4.03  \n",
       "3     18.7  394.63   2.94  \n",
       "4     18.7  396.90   5.33  "
      ]
     },
     "execution_count": 10,
     "metadata": {},
     "output_type": "execute_result"
    }
   ],
   "source": [
    "from sklearn.datasets import load_boston\n",
    "boston = load_boston()\n",
    "X = pd.DataFrame(boston.data, columns = boston.feature_names)\n",
    "X.head()"
   ]
  },
  {
   "cell_type": "code",
   "execution_count": 11,
   "id": "impressed-toddler",
   "metadata": {},
   "outputs": [
    {
     "data": {
      "text/plain": [
       "Index(['CRIM', 'ZN', 'INDUS', 'CHAS', 'NOX', 'RM', 'AGE', 'DIS', 'RAD', 'TAX',\n",
       "       'PTRATIO', 'B', 'LSTAT'],\n",
       "      dtype='object')"
      ]
     },
     "execution_count": 11,
     "metadata": {},
     "output_type": "execute_result"
    }
   ],
   "source": [
    "X.columns"
   ]
  },
  {
   "cell_type": "code",
   "execution_count": 12,
   "id": "tamil-processing",
   "metadata": {},
   "outputs": [
    {
     "data": {
      "image/png": "[encoded data removed]",
      "text/plain": [
       "<Figure size 864x864 with 16 Axes>"
      ]
     },
     "metadata": {
      "needs_background": "light"
     },
     "output_type": "display_data"
    }
   ],
   "source": [
    "fig, ax = plt.subplots(4,4, figsize = (12,12))\n",
    "plt.tight_layout() # this is just to ge \n",
    "columns = X.columns\n",
    "col = 0\n",
    "\n",
    "for i in range(0, 4):\n",
    "    for j in range(0, 4):\n",
    "        if col < len(columns):\n",
    "            ax[i, j].boxplot(X[columns[col]])\n",
    "#             ax[i, j].hist(X[columns[col]])\n",
    "            ax[i, j].set_xlabel(columns[col])\n",
    "            col = col +1 "
   ]
  },
  {
   "cell_type": "code",
   "execution_count": null,
   "id": "rough-hardware",
   "metadata": {},
   "outputs": [],
   "source": []
  },
  {
   "cell_type": "markdown",
   "id": "moderate-palmer",
   "metadata": {},
   "source": [
    "### We can use feature_engine module also to remove the outliers\n",
    "\n",
    "* same as we seen in handling nan values\n",
    "\n",
    "* To know more details : https://feature-engine.readthedocs.io/en/latest/outliers/index.html\n"
   ]
  },
  {
   "cell_type": "markdown",
   "id": "adjacent-parish",
   "metadata": {},
   "source": [
    "## 1) Winsorizer method\n",
    "\n",
    "* It works only with numerical variables."
   ]
  },
  {
   "cell_type": "markdown",
   "id": "successful-words",
   "metadata": {},
   "source": [
    "from feature_engine.outliers import Winsorizer\n",
    "\n",
    "\n",
    "capper = Winsorizer(capping_method='gaussian', tail='right', fold=3, variables=['col_name', 'col_name'], missing_values = 'raise')\n",
    "\n",
    "###### if you wanto to directly fit to the data\n",
    "\n",
    "capper.fit(df)\n",
    "\n",
    "###### if you want to fit the data to both tainning and testing\n",
    "\n",
    "capper.fit(X_train)\n",
    "\n",
    "###### transform the data\n",
    "\n",
    "train_t= capper.transform(X_train)\n",
    "\n",
    "test_t= capper.transform(X_test)\n",
    "\n",
    "capper.right_tail_caps_"
   ]
  },
  {
   "cell_type": "markdown",
   "id": "whole-philip",
   "metadata": {},
   "source": [
    "#### Info:\n",
    "\n",
    "1) capping_method can be 'gaussian', 'iqr', 'quantiles'\n",
    "\n",
    "    a) Gaussian limits: \n",
    "          * right tail: mean + 3* std\n",
    "          * left tail: mean - 3* std\n",
    "    b) IQR limits:\n",
    "          *  right tail: 75th quantile + 3* IQR\n",
    "          * left tail: 25th quantile - 3* IQR\n",
    "    c) percentiles or quantiles:\n",
    "          * right tail: 95th percentile\n",
    "          * left tail: 5th percentile\n",
    "          \n",
    "2) tail : Whether to cap outliers on the right, left or both tails of the distribution (‘left’, ‘right’ or ‘both’.)\n",
    "\n",
    "3) Fold : How far out to to place the capping values.\n",
    "\n",
    "      * 2 or 3 for the gaussian approximation\n",
    "      * 1.5 or 3 for the IQR proximity rule\n",
    "      * If capping_method=’quantile’, then ‘fold’ indicates the percentile. So if fold=0.05, the limits will be the 95th and 5th percentiles\n",
    "      \n",
    "4) missing_values: (default=’raise’) Indicates if missing values should be ignored or raised. (’raise’, 'ignore')"
   ]
  },
  {
   "cell_type": "code",
   "execution_count": null,
   "id": "interested-settle",
   "metadata": {},
   "outputs": [],
   "source": []
  },
  {
   "cell_type": "markdown",
   "id": "passive-holly",
   "metadata": {},
   "source": [
    "## 2) OutlierTrimmer\n",
    "\n",
    "* Works same like Winsorizer method, nothing change\n",
    "\n",
    "* It works only with numerical variables.\n",
    "\n",
    "* from feature_engine.outliers import OutlierTrimmer\n",
    "\n",
    "* capper = OutlierTrimmer(capping_method='gaussian', tail='right', fold=3, variables=None, missing_values='raise'"
   ]
  },
  {
   "cell_type": "code",
   "execution_count": null,
   "id": "abandoned-algebra",
   "metadata": {},
   "outputs": [],
   "source": []
  },
  {
   "cell_type": "markdown",
   "id": "specialized-binding",
   "metadata": {},
   "source": [
    "## 3) ArbitraryOutlierCapper\n",
    "\n",
    "* The ArbitraryOutlierCapper() caps the maximum or minimum values of a variable at an arbitrary value indicated by the user."
   ]
  },
  {
   "cell_type": "markdown",
   "id": "sublime-payday",
   "metadata": {},
   "source": [
    "from feature_engine.outliers import ArbitraryOutlierCapper\n",
    "\n",
    "\n",
    "capper = ArbitraryOutlierCapper(max_capping_dict={'age': 50, 'fare': 200}, min_capping_dict=None)\n",
    "\n",
    "###### if you wanto to directly fit to the data\n",
    "\n",
    "capper.fit(df)\n",
    "\n",
    "###### if you want to fit the data to both tainning and testing\n",
    "\n",
    "capper.fit(X_train)\n",
    "\n",
    "###### transform the data\n",
    "\n",
    "train_t= capper.transform(X_train)\n",
    "\n",
    "test_t= capper.transform(X_test)\n",
    "\n",
    "capper.right_tail_caps_"
   ]
  },
  {
   "cell_type": "markdown",
   "id": "apparent-compression",
   "metadata": {},
   "source": [
    "#### Info:\n",
    "\n",
    "1) max_capping_dict: dictionary, default=None\n",
    "\n",
    "      * Dictionary containing the user specified capping values for the right tail of the distribution of each variable (maximum values).\n",
    "          \n",
    "2) min_capping_dict: dictionary, default=None\n",
    "\n",
    "      * Dictionary containing user specified capping values for the eft tail of the distribution of each variable (minimum values). \n",
    "\n",
    "3) missing_valuesstring, default=’raise’\n",
    "\n",
    "     * Indicates if missing values should be ignored or raised. If missing_values='raise' the transformer will return an error if the training or  the datasets to transform contain missing values."
   ]
  }
 ],
 "metadata": {
  "kernelspec": {
   "display_name": "Python 3",
   "language": "python",
   "name": "python3"
  },
  "language_info": {
   "codemirror_mode": {
    "name": "ipython",
    "version": 3
   },
   "file_extension": ".py",
   "mimetype": "text/x-python",
   "name": "python",
   "nbconvert_exporter": "python",
   "pygments_lexer": "ipython3",
   "version": "3.8.6"
  }
 },
 "nbformat": 4,
 "nbformat_minor": 5
}
