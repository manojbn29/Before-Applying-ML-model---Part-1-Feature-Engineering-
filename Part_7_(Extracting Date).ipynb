{
 "cells": [
  {
   "cell_type": "markdown",
   "id": "average-calculator",
   "metadata": {},
   "source": [
    "# Feature Engineering - Extracting Date\n",
    "\n",
    "* Though date columns usually provide valuable information about the model target, they are neglected as an input or used nonsensically for the machine learning algorithms."
   ]
  },
  {
   "cell_type": "markdown",
   "id": "another-darwin",
   "metadata": {},
   "source": [
    "### Here we will discuss 3 trpes of extracting the date\n",
    "\n",
    "* Extracting the parts of the date into different columns: Year, month, day, etc.\n",
    "* Extracting the time period between the current date and columns in terms of years, months, days, etc.\n",
    "* Extracting some specific features from the date: Name of the weekday, Weekend or not, holiday or not, etc."
   ]
  },
  {
   "cell_type": "code",
   "execution_count": 1,
   "id": "textile-export",
   "metadata": {},
   "outputs": [],
   "source": [
    "import pandas as pd\n",
    "import numpy as np\n",
    "import seaborn as sns\n",
    "import matplotlib.pyplot as plt\n",
    "%matplotlib inline"
   ]
  },
  {
   "cell_type": "code",
   "execution_count": 2,
   "id": "following-commander",
   "metadata": {},
   "outputs": [],
   "source": [
    "from datetime import date\n",
    "\n",
    "data = pd.DataFrame({'date':\n",
    "['01-01-2017',\n",
    "'04-12-2008',\n",
    "'23-06-1988',\n",
    "'25-08-1999',\n",
    "'20-02-1993',\n",
    "]})"
   ]
  },
  {
   "cell_type": "code",
   "execution_count": 3,
   "id": "every-kenya",
   "metadata": {},
   "outputs": [
    {
     "data": {
      "text/html": [
       "<div>\n",
       "<style scoped>\n",
       "    .dataframe tbody tr th:only-of-type {\n",
       "        vertical-align: middle;\n",
       "    }\n",
       "\n",
       "    .dataframe tbody tr th {\n",
       "        vertical-align: top;\n",
       "    }\n",
       "\n",
       "    .dataframe thead th {\n",
       "        text-align: right;\n",
       "    }\n",
       "</style>\n",
       "<table border=\"1\" class=\"dataframe\">\n",
       "  <thead>\n",
       "    <tr style=\"text-align: right;\">\n",
       "      <th></th>\n",
       "      <th>date</th>\n",
       "    </tr>\n",
       "  </thead>\n",
       "  <tbody>\n",
       "    <tr>\n",
       "      <th>0</th>\n",
       "      <td>01-01-2017</td>\n",
       "    </tr>\n",
       "    <tr>\n",
       "      <th>1</th>\n",
       "      <td>04-12-2008</td>\n",
       "    </tr>\n",
       "    <tr>\n",
       "      <th>2</th>\n",
       "      <td>23-06-1988</td>\n",
       "    </tr>\n",
       "    <tr>\n",
       "      <th>3</th>\n",
       "      <td>25-08-1999</td>\n",
       "    </tr>\n",
       "    <tr>\n",
       "      <th>4</th>\n",
       "      <td>20-02-1993</td>\n",
       "    </tr>\n",
       "  </tbody>\n",
       "</table>\n",
       "</div>"
      ],
      "text/plain": [
       "         date\n",
       "0  01-01-2017\n",
       "1  04-12-2008\n",
       "2  23-06-1988\n",
       "3  25-08-1999\n",
       "4  20-02-1993"
      ]
     },
     "execution_count": 3,
     "metadata": {},
     "output_type": "execute_result"
    }
   ],
   "source": [
    "data"
   ]
  },
  {
   "cell_type": "code",
   "execution_count": 4,
   "id": "structured-bosnia",
   "metadata": {},
   "outputs": [],
   "source": [
    "## First we need to check the data type of the date column, if it not the in datetime format we need to conver that into datetime"
   ]
  },
  {
   "cell_type": "code",
   "execution_count": 5,
   "id": "christian-retailer",
   "metadata": {},
   "outputs": [
    {
     "name": "stdout",
     "output_type": "stream",
     "text": [
      "<class 'pandas.core.frame.DataFrame'>\n",
      "RangeIndex: 5 entries, 0 to 4\n",
      "Data columns (total 1 columns):\n",
      " #   Column  Non-Null Count  Dtype \n",
      "---  ------  --------------  ----- \n",
      " 0   date    5 non-null      object\n",
      "dtypes: object(1)\n",
      "memory usage: 168.0+ bytes\n"
     ]
    }
   ],
   "source": [
    "data.info()"
   ]
  },
  {
   "cell_type": "markdown",
   "id": "brilliant-macro",
   "metadata": {},
   "source": [
    "Here date column is in object type so we need to convert that into datetime"
   ]
  },
  {
   "cell_type": "code",
   "execution_count": 6,
   "id": "hairy-moderator",
   "metadata": {},
   "outputs": [],
   "source": [
    "#Transform string to date\n",
    "data['date'] = pd.to_datetime(data.date, format=\"%d-%m-%Y\")"
   ]
  },
  {
   "cell_type": "code",
   "execution_count": 7,
   "id": "productive-filling",
   "metadata": {},
   "outputs": [
    {
     "data": {
      "text/plain": [
       "dtype('<M8[ns]')"
      ]
     },
     "execution_count": 7,
     "metadata": {},
     "output_type": "execute_result"
    }
   ],
   "source": [
    "data['date'].dtype"
   ]
  },
  {
   "cell_type": "markdown",
   "id": "minimal-advisory",
   "metadata": {},
   "source": [
    "### Extracting Year"
   ]
  },
  {
   "cell_type": "code",
   "execution_count": 8,
   "id": "worse-absolute",
   "metadata": {},
   "outputs": [],
   "source": [
    "data['year'] = data['date'].dt.year"
   ]
  },
  {
   "cell_type": "markdown",
   "id": "protective-swedish",
   "metadata": {},
   "source": [
    "### #Extracting Month"
   ]
  },
  {
   "cell_type": "code",
   "execution_count": 9,
   "id": "historical-discretion",
   "metadata": {},
   "outputs": [],
   "source": [
    "data['month'] = data['date'].dt.month"
   ]
  },
  {
   "cell_type": "markdown",
   "id": "sapphire-halloween",
   "metadata": {},
   "source": [
    "### Extracting Month"
   ]
  },
  {
   "cell_type": "code",
   "execution_count": 10,
   "id": "female-flexibility",
   "metadata": {},
   "outputs": [],
   "source": [
    "data['month'] = data['date'].dt.month"
   ]
  },
  {
   "cell_type": "markdown",
   "id": "underlying-oxford",
   "metadata": {},
   "source": [
    "### Extracting passed years since the date (i.e current year - year in the column)"
   ]
  },
  {
   "cell_type": "code",
   "execution_count": 11,
   "id": "scheduled-bunny",
   "metadata": {},
   "outputs": [],
   "source": [
    "data['passed_years'] = date.today().year - data['date'].dt.year"
   ]
  },
  {
   "cell_type": "markdown",
   "id": "northern-airline",
   "metadata": {},
   "source": [
    "### Extracting passed months since the date (i.e current month - month in the column)"
   ]
  },
  {
   "cell_type": "code",
   "execution_count": 12,
   "id": "announced-dance",
   "metadata": {},
   "outputs": [],
   "source": [
    "data['passed_months'] = (date.today().year - data['date'].dt.year) * 12 + date.today().month - data['date'].dt.month"
   ]
  },
  {
   "cell_type": "markdown",
   "id": "veterinary-digit",
   "metadata": {},
   "source": [
    "### Extracting passed days since the date (i.e current date - date in the column)"
   ]
  },
  {
   "cell_type": "code",
   "execution_count": 13,
   "id": "criminal-arlington",
   "metadata": {},
   "outputs": [],
   "source": [
    "#creating a new column today_date\n",
    "data['today_date'] = date.today()\n",
    "# or\n",
    "# data['today_date'] = pd.to_datetime('today').date()"
   ]
  },
  {
   "cell_type": "code",
   "execution_count": 14,
   "id": "stopped-chicken",
   "metadata": {},
   "outputs": [],
   "source": [
    "# converting that today_date column to datetime\n",
    "data['today_date'] = pd.to_datetime(data.today_date)"
   ]
  },
  {
   "cell_type": "code",
   "execution_count": 15,
   "id": "rapid-physiology",
   "metadata": {},
   "outputs": [],
   "source": [
    "data['passed_days'] = data['today_date'] - data['date']\n",
    "\n",
    "# other approach\n",
    "\n",
    "data['no_of_days_passed'] = (data['today_date'] - data['date']).dt.days"
   ]
  },
  {
   "cell_type": "code",
   "execution_count": 16,
   "id": "excess-republic",
   "metadata": {},
   "outputs": [],
   "source": [
    "# dropping that today date column\n",
    "data.drop('today_date', axis = 1, inplace = True)"
   ]
  },
  {
   "cell_type": "markdown",
   "id": "norwegian-selling",
   "metadata": {},
   "source": [
    "### Extracting the weekday name of the date"
   ]
  },
  {
   "cell_type": "code",
   "execution_count": 17,
   "id": "understanding-bridal",
   "metadata": {},
   "outputs": [],
   "source": [
    "data['day_name'] = data['date'].dt.day_name()"
   ]
  },
  {
   "cell_type": "code",
   "execution_count": 18,
   "id": "rational-plenty",
   "metadata": {},
   "outputs": [
    {
     "data": {
      "text/html": [
       "<div>\n",
       "<style scoped>\n",
       "    .dataframe tbody tr th:only-of-type {\n",
       "        vertical-align: middle;\n",
       "    }\n",
       "\n",
       "    .dataframe tbody tr th {\n",
       "        vertical-align: top;\n",
       "    }\n",
       "\n",
       "    .dataframe thead th {\n",
       "        text-align: right;\n",
       "    }\n",
       "</style>\n",
       "<table border=\"1\" class=\"dataframe\">\n",
       "  <thead>\n",
       "    <tr style=\"text-align: right;\">\n",
       "      <th></th>\n",
       "      <th>date</th>\n",
       "      <th>year</th>\n",
       "      <th>month</th>\n",
       "      <th>passed_years</th>\n",
       "      <th>passed_months</th>\n",
       "      <th>passed_days</th>\n",
       "      <th>no_of_days_passed</th>\n",
       "      <th>day_name</th>\n",
       "    </tr>\n",
       "  </thead>\n",
       "  <tbody>\n",
       "    <tr>\n",
       "      <th>0</th>\n",
       "      <td>2017-01-01</td>\n",
       "      <td>2017</td>\n",
       "      <td>1</td>\n",
       "      <td>4</td>\n",
       "      <td>53</td>\n",
       "      <td>1635 days</td>\n",
       "      <td>1635</td>\n",
       "      <td>Sunday</td>\n",
       "    </tr>\n",
       "    <tr>\n",
       "      <th>1</th>\n",
       "      <td>2008-12-04</td>\n",
       "      <td>2008</td>\n",
       "      <td>12</td>\n",
       "      <td>13</td>\n",
       "      <td>150</td>\n",
       "      <td>4585 days</td>\n",
       "      <td>4585</td>\n",
       "      <td>Thursday</td>\n",
       "    </tr>\n",
       "    <tr>\n",
       "      <th>2</th>\n",
       "      <td>1988-06-23</td>\n",
       "      <td>1988</td>\n",
       "      <td>6</td>\n",
       "      <td>33</td>\n",
       "      <td>396</td>\n",
       "      <td>12054 days</td>\n",
       "      <td>12054</td>\n",
       "      <td>Thursday</td>\n",
       "    </tr>\n",
       "    <tr>\n",
       "      <th>3</th>\n",
       "      <td>1999-08-25</td>\n",
       "      <td>1999</td>\n",
       "      <td>8</td>\n",
       "      <td>22</td>\n",
       "      <td>262</td>\n",
       "      <td>7974 days</td>\n",
       "      <td>7974</td>\n",
       "      <td>Wednesday</td>\n",
       "    </tr>\n",
       "    <tr>\n",
       "      <th>4</th>\n",
       "      <td>1993-02-20</td>\n",
       "      <td>1993</td>\n",
       "      <td>2</td>\n",
       "      <td>28</td>\n",
       "      <td>340</td>\n",
       "      <td>10351 days</td>\n",
       "      <td>10351</td>\n",
       "      <td>Saturday</td>\n",
       "    </tr>\n",
       "  </tbody>\n",
       "</table>\n",
       "</div>"
      ],
      "text/plain": [
       "        date  year  month  passed_years  passed_months passed_days  \\\n",
       "0 2017-01-01  2017      1             4             53   1635 days   \n",
       "1 2008-12-04  2008     12            13            150   4585 days   \n",
       "2 1988-06-23  1988      6            33            396  12054 days   \n",
       "3 1999-08-25  1999      8            22            262   7974 days   \n",
       "4 1993-02-20  1993      2            28            340  10351 days   \n",
       "\n",
       "   no_of_days_passed   day_name  \n",
       "0               1635     Sunday  \n",
       "1               4585   Thursday  \n",
       "2              12054   Thursday  \n",
       "3               7974  Wednesday  \n",
       "4              10351   Saturday  "
      ]
     },
     "execution_count": 18,
     "metadata": {},
     "output_type": "execute_result"
    }
   ],
   "source": [
    "data"
   ]
  }
 ],
 "metadata": {
  "kernelspec": {
   "display_name": "Python 3",
   "language": "python",
   "name": "python3"
  },
  "language_info": {
   "codemirror_mode": {
    "name": "ipython",
    "version": 3
   },
   "file_extension": ".py",
   "mimetype": "text/x-python",
   "name": "python",
   "nbconvert_exporter": "python",
   "pygments_lexer": "ipython3",
   "version": "3.8.6"
  }
 },
 "nbformat": 4,
 "nbformat_minor": 5
}
