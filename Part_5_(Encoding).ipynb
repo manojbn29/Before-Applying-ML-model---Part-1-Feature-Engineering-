{
 "cells": [
  {
   "cell_type": "markdown",
   "id": "reduced-wedding",
   "metadata": {},
   "source": [
    "# Feature Engineering - Encoding\n",
    "\n",
    "As we can't pass the categorical data to any ml model we will use some encoding techniques to convert categorical data to numric data"
   ]
  },
  {
   "cell_type": "markdown",
   "id": "compressed-mobile",
   "metadata": {},
   "source": [
    "### There are many types of encoding techniques\n",
    "\n",
    "Here I am discussing important techniques\n",
    "\n",
    "1) One hot encoding \n",
    "2) One hot encoding with many unique values\n",
    "3) Target guided ordinal encoding\n",
    "4) Mean encoding\n",
    "5) Count or Frequency encoding\n",
    "6) Label encoding\n",
    "7) Probability ratio encoding"
   ]
  },
  {
   "cell_type": "markdown",
   "id": "herbal-graphic",
   "metadata": {},
   "source": [
    "To get more info on encoders use this link : https://contrib.scikit-learn.org/category_encoders/\n",
    "\n",
    "To get more info on encoders use this link : https://feature-engine.readthedocs.io/en/latest/encoding/index.html"
   ]
  },
  {
   "cell_type": "code",
   "execution_count": 1,
   "id": "stopped-syracuse",
   "metadata": {},
   "outputs": [],
   "source": [
    "import pandas as pd\n",
    "import numpy as np\n",
    "import seaborn as sns\n",
    "import matplotlib.pyplot as plt\n",
    "%matplotlib inline"
   ]
  },
  {
   "cell_type": "code",
   "execution_count": 2,
   "id": "inappropriate-conflict",
   "metadata": {},
   "outputs": [],
   "source": [
    "df = pd.read_csv('titanic.csv', usecols = ['Sex', 'Embarked','Survived'])"
   ]
  },
  {
   "cell_type": "code",
   "execution_count": 3,
   "id": "informational-lightning",
   "metadata": {},
   "outputs": [
    {
     "data": {
      "text/html": [
       "<div>\n",
       "<style scoped>\n",
       "    .dataframe tbody tr th:only-of-type {\n",
       "        vertical-align: middle;\n",
       "    }\n",
       "\n",
       "    .dataframe tbody tr th {\n",
       "        vertical-align: top;\n",
       "    }\n",
       "\n",
       "    .dataframe thead th {\n",
       "        text-align: right;\n",
       "    }\n",
       "</style>\n",
       "<table border=\"1\" class=\"dataframe\">\n",
       "  <thead>\n",
       "    <tr style=\"text-align: right;\">\n",
       "      <th></th>\n",
       "      <th>Survived</th>\n",
       "      <th>Sex</th>\n",
       "      <th>Embarked</th>\n",
       "    </tr>\n",
       "  </thead>\n",
       "  <tbody>\n",
       "    <tr>\n",
       "      <th>0</th>\n",
       "      <td>0</td>\n",
       "      <td>male</td>\n",
       "      <td>S</td>\n",
       "    </tr>\n",
       "    <tr>\n",
       "      <th>1</th>\n",
       "      <td>1</td>\n",
       "      <td>female</td>\n",
       "      <td>C</td>\n",
       "    </tr>\n",
       "    <tr>\n",
       "      <th>2</th>\n",
       "      <td>1</td>\n",
       "      <td>female</td>\n",
       "      <td>S</td>\n",
       "    </tr>\n",
       "    <tr>\n",
       "      <th>3</th>\n",
       "      <td>1</td>\n",
       "      <td>female</td>\n",
       "      <td>S</td>\n",
       "    </tr>\n",
       "    <tr>\n",
       "      <th>4</th>\n",
       "      <td>0</td>\n",
       "      <td>male</td>\n",
       "      <td>S</td>\n",
       "    </tr>\n",
       "  </tbody>\n",
       "</table>\n",
       "</div>"
      ],
      "text/plain": [
       "   Survived     Sex Embarked\n",
       "0         0    male        S\n",
       "1         1  female        C\n",
       "2         1  female        S\n",
       "3         1  female        S\n",
       "4         0    male        S"
      ]
     },
     "execution_count": 3,
     "metadata": {},
     "output_type": "execute_result"
    }
   ],
   "source": [
    "df.head()"
   ]
  },
  {
   "cell_type": "markdown",
   "id": "becoming-madison",
   "metadata": {},
   "source": [
    "# 1) One hot encoding\n",
    "\n",
    "* One-hot encoding is one of the most common encoding methods in machine learning. \n",
    "* This method spreads the values in a column to multiple flag columns and assigns 0 or 1 to them."
   ]
  },
  {
   "cell_type": "markdown",
   "id": "parallel-trinity",
   "metadata": {},
   "source": [
    "<img src=\"one hot encoding image.png\">"
   ]
  },
  {
   "cell_type": "code",
   "execution_count": 4,
   "id": "helpful-passage",
   "metadata": {},
   "outputs": [
    {
     "data": {
      "text/plain": [
       "array(['S', 'C', 'Q', nan], dtype=object)"
      ]
     },
     "execution_count": 4,
     "metadata": {},
     "output_type": "execute_result"
    }
   ],
   "source": [
    "df['Embarked'].unique()"
   ]
  },
  {
   "cell_type": "code",
   "execution_count": 5,
   "id": "private-institution",
   "metadata": {},
   "outputs": [
    {
     "data": {
      "text/plain": [
       "array(['male', 'female'], dtype=object)"
      ]
     },
     "execution_count": 5,
     "metadata": {},
     "output_type": "execute_result"
    }
   ],
   "source": [
    "df['Sex'].unique()"
   ]
  },
  {
   "cell_type": "code",
   "execution_count": 6,
   "id": "third-childhood",
   "metadata": {
    "tags": []
   },
   "outputs": [
    {
     "data": {
      "text/html": [
       "<div>\n",
       "<style scoped>\n",
       "    .dataframe tbody tr th:only-of-type {\n",
       "        vertical-align: middle;\n",
       "    }\n",
       "\n",
       "    .dataframe tbody tr th {\n",
       "        vertical-align: top;\n",
       "    }\n",
       "\n",
       "    .dataframe thead th {\n",
       "        text-align: right;\n",
       "    }\n",
       "</style>\n",
       "<table border=\"1\" class=\"dataframe\">\n",
       "  <thead>\n",
       "    <tr style=\"text-align: right;\">\n",
       "      <th></th>\n",
       "      <th>Survived</th>\n",
       "      <th>Sex_female</th>\n",
       "      <th>Sex_male</th>\n",
       "      <th>Embarked_C</th>\n",
       "      <th>Embarked_Q</th>\n",
       "      <th>Embarked_S</th>\n",
       "    </tr>\n",
       "  </thead>\n",
       "  <tbody>\n",
       "    <tr>\n",
       "      <th>0</th>\n",
       "      <td>0</td>\n",
       "      <td>0</td>\n",
       "      <td>1</td>\n",
       "      <td>0</td>\n",
       "      <td>0</td>\n",
       "      <td>1</td>\n",
       "    </tr>\n",
       "    <tr>\n",
       "      <th>1</th>\n",
       "      <td>1</td>\n",
       "      <td>1</td>\n",
       "      <td>0</td>\n",
       "      <td>1</td>\n",
       "      <td>0</td>\n",
       "      <td>0</td>\n",
       "    </tr>\n",
       "    <tr>\n",
       "      <th>2</th>\n",
       "      <td>1</td>\n",
       "      <td>1</td>\n",
       "      <td>0</td>\n",
       "      <td>0</td>\n",
       "      <td>0</td>\n",
       "      <td>1</td>\n",
       "    </tr>\n",
       "    <tr>\n",
       "      <th>3</th>\n",
       "      <td>1</td>\n",
       "      <td>1</td>\n",
       "      <td>0</td>\n",
       "      <td>0</td>\n",
       "      <td>0</td>\n",
       "      <td>1</td>\n",
       "    </tr>\n",
       "    <tr>\n",
       "      <th>4</th>\n",
       "      <td>0</td>\n",
       "      <td>0</td>\n",
       "      <td>1</td>\n",
       "      <td>0</td>\n",
       "      <td>0</td>\n",
       "      <td>1</td>\n",
       "    </tr>\n",
       "  </tbody>\n",
       "</table>\n",
       "</div>"
      ],
      "text/plain": [
       "   Survived  Sex_female  Sex_male  Embarked_C  Embarked_Q  Embarked_S\n",
       "0         0           0         1           0           0           1\n",
       "1         1           1         0           1           0           0\n",
       "2         1           1         0           0           0           1\n",
       "3         1           1         0           0           0           1\n",
       "4         0           0         1           0           0           1"
      ]
     },
     "execution_count": 6,
     "metadata": {},
     "output_type": "execute_result"
    }
   ],
   "source": [
    "pd.get_dummies(df, drop_first = False).head()"
   ]
  },
  {
   "cell_type": "code",
   "execution_count": 7,
   "id": "controlled-usage",
   "metadata": {},
   "outputs": [
    {
     "data": {
      "text/html": [
       "<div>\n",
       "<style scoped>\n",
       "    .dataframe tbody tr th:only-of-type {\n",
       "        vertical-align: middle;\n",
       "    }\n",
       "\n",
       "    .dataframe tbody tr th {\n",
       "        vertical-align: top;\n",
       "    }\n",
       "\n",
       "    .dataframe thead th {\n",
       "        text-align: right;\n",
       "    }\n",
       "</style>\n",
       "<table border=\"1\" class=\"dataframe\">\n",
       "  <thead>\n",
       "    <tr style=\"text-align: right;\">\n",
       "      <th></th>\n",
       "      <th>Survived</th>\n",
       "      <th>Sex_male</th>\n",
       "      <th>Embarked_Q</th>\n",
       "      <th>Embarked_S</th>\n",
       "    </tr>\n",
       "  </thead>\n",
       "  <tbody>\n",
       "    <tr>\n",
       "      <th>0</th>\n",
       "      <td>0</td>\n",
       "      <td>1</td>\n",
       "      <td>0</td>\n",
       "      <td>1</td>\n",
       "    </tr>\n",
       "    <tr>\n",
       "      <th>1</th>\n",
       "      <td>1</td>\n",
       "      <td>0</td>\n",
       "      <td>0</td>\n",
       "      <td>0</td>\n",
       "    </tr>\n",
       "    <tr>\n",
       "      <th>2</th>\n",
       "      <td>1</td>\n",
       "      <td>0</td>\n",
       "      <td>0</td>\n",
       "      <td>1</td>\n",
       "    </tr>\n",
       "    <tr>\n",
       "      <th>3</th>\n",
       "      <td>1</td>\n",
       "      <td>0</td>\n",
       "      <td>0</td>\n",
       "      <td>1</td>\n",
       "    </tr>\n",
       "    <tr>\n",
       "      <th>4</th>\n",
       "      <td>0</td>\n",
       "      <td>1</td>\n",
       "      <td>0</td>\n",
       "      <td>1</td>\n",
       "    </tr>\n",
       "  </tbody>\n",
       "</table>\n",
       "</div>"
      ],
      "text/plain": [
       "   Survived  Sex_male  Embarked_Q  Embarked_S\n",
       "0         0         1           0           1\n",
       "1         1         0           0           0\n",
       "2         1         0           0           1\n",
       "3         1         0           0           1\n",
       "4         0         1           0           1"
      ]
     },
     "execution_count": 7,
     "metadata": {},
     "output_type": "execute_result"
    }
   ],
   "source": [
    "pd.get_dummies(df, drop_first = True).head()"
   ]
  },
  {
   "cell_type": "code",
   "execution_count": null,
   "id": "driving-lucas",
   "metadata": {},
   "outputs": [],
   "source": []
  },
  {
   "cell_type": "markdown",
   "id": "driven-blind",
   "metadata": {},
   "source": [
    "# 2) One hot encoding with many unique values"
   ]
  },
  {
   "cell_type": "code",
   "execution_count": 8,
   "id": "adequate-cleveland",
   "metadata": {},
   "outputs": [],
   "source": [
    "data = pd.read_csv('mercedes.csv', usecols = ['X1', 'X2'])"
   ]
  },
  {
   "cell_type": "code",
   "execution_count": 9,
   "id": "based-evaluation",
   "metadata": {},
   "outputs": [
    {
     "data": {
      "text/html": [
       "<div>\n",
       "<style scoped>\n",
       "    .dataframe tbody tr th:only-of-type {\n",
       "        vertical-align: middle;\n",
       "    }\n",
       "\n",
       "    .dataframe tbody tr th {\n",
       "        vertical-align: top;\n",
       "    }\n",
       "\n",
       "    .dataframe thead th {\n",
       "        text-align: right;\n",
       "    }\n",
       "</style>\n",
       "<table border=\"1\" class=\"dataframe\">\n",
       "  <thead>\n",
       "    <tr style=\"text-align: right;\">\n",
       "      <th></th>\n",
       "      <th>X1</th>\n",
       "      <th>X2</th>\n",
       "    </tr>\n",
       "  </thead>\n",
       "  <tbody>\n",
       "    <tr>\n",
       "      <th>0</th>\n",
       "      <td>v</td>\n",
       "      <td>at</td>\n",
       "    </tr>\n",
       "    <tr>\n",
       "      <th>1</th>\n",
       "      <td>t</td>\n",
       "      <td>av</td>\n",
       "    </tr>\n",
       "    <tr>\n",
       "      <th>2</th>\n",
       "      <td>w</td>\n",
       "      <td>n</td>\n",
       "    </tr>\n",
       "    <tr>\n",
       "      <th>3</th>\n",
       "      <td>t</td>\n",
       "      <td>n</td>\n",
       "    </tr>\n",
       "    <tr>\n",
       "      <th>4</th>\n",
       "      <td>v</td>\n",
       "      <td>n</td>\n",
       "    </tr>\n",
       "  </tbody>\n",
       "</table>\n",
       "</div>"
      ],
      "text/plain": [
       "  X1  X2\n",
       "0  v  at\n",
       "1  t  av\n",
       "2  w   n\n",
       "3  t   n\n",
       "4  v   n"
      ]
     },
     "execution_count": 9,
     "metadata": {},
     "output_type": "execute_result"
    }
   ],
   "source": [
    "data.head()"
   ]
  },
  {
   "cell_type": "code",
   "execution_count": 10,
   "id": "bacterial-blocking",
   "metadata": {},
   "outputs": [
    {
     "data": {
      "text/plain": [
       "(4209, 2)"
      ]
     },
     "execution_count": 10,
     "metadata": {},
     "output_type": "execute_result"
    }
   ],
   "source": [
    "data.shape"
   ]
  },
  {
   "cell_type": "code",
   "execution_count": 11,
   "id": "attractive-mongolia",
   "metadata": {},
   "outputs": [
    {
     "data": {
      "text/plain": [
       "array(['v', 't', 'w', 'b', 'r', 'l', 's', 'aa', 'c', 'a', 'e', 'h', 'z',\n",
       "       'j', 'o', 'u', 'p', 'n', 'i', 'y', 'd', 'f', 'm', 'k', 'g', 'q',\n",
       "       'ab'], dtype=object)"
      ]
     },
     "execution_count": 11,
     "metadata": {},
     "output_type": "execute_result"
    }
   ],
   "source": [
    "data.X1.unique()"
   ]
  },
  {
   "cell_type": "code",
   "execution_count": 12,
   "id": "recent-hearts",
   "metadata": {},
   "outputs": [
    {
     "data": {
      "text/plain": [
       "array(['at', 'av', 'n', 'e', 'as', 'aq', 'r', 'ai', 'ak', 'm', 'a', 'k',\n",
       "       'ae', 's', 'f', 'd', 'ag', 'ay', 'ac', 'ap', 'g', 'i', 'aw', 'y',\n",
       "       'b', 'ao', 'al', 'h', 'x', 'au', 't', 'an', 'z', 'ah', 'p', 'am',\n",
       "       'j', 'q', 'af', 'l', 'aa', 'c', 'o', 'ar'], dtype=object)"
      ]
     },
     "execution_count": 12,
     "metadata": {},
     "output_type": "execute_result"
    }
   ],
   "source": [
    "data.X2.unique()"
   ]
  },
  {
   "cell_type": "code",
   "execution_count": 13,
   "id": "exact-equation",
   "metadata": {},
   "outputs": [
    {
     "name": "stdout",
     "output_type": "stream",
     "text": [
      "X1 :  27 unique counts\n",
      "X2 :  44 unique counts\n"
     ]
    }
   ],
   "source": [
    "for col in data.columns:\n",
    "    print(col, ': ', len(data[col].unique()), 'unique counts')"
   ]
  },
  {
   "cell_type": "markdown",
   "id": "occupied-cambridge",
   "metadata": {},
   "source": [
    "##### Here if we perform one hot encoding then we will get more columns which trigers the curse of dimensionality"
   ]
  },
  {
   "cell_type": "markdown",
   "id": "adult-poverty",
   "metadata": {},
   "source": [
    "### KDD Cup Orange Challenge\n",
    "What can we do instead?\n",
    "\n",
    "http://proceedings.mlr.press/v7/niculescu09/niculescu09.pdf \n",
    "In the winning solution of the KDD 2009 cup: \"Winning the KDD Cup Orange Challenge with Ensemble\n",
    "\n",
    "The Team suggested using 10 most frequent labels convert them into dummy variables using onehotencoding\n",
    "\n",
    "How can we do that in python?"
   ]
  },
  {
   "cell_type": "code",
   "execution_count": 14,
   "id": "stuck-amsterdam",
   "metadata": {},
   "outputs": [
    {
     "data": {
      "text/plain": [
       "as    1659\n",
       "ae     496\n",
       "ai     415\n",
       "m      367\n",
       "ak     265\n",
       "r      153\n",
       "n      137\n",
       "s       94\n",
       "f       87\n",
       "e       81\n",
       "aq      63\n",
       "ay      54\n",
       "a       47\n",
       "t       29\n",
       "i       25\n",
       "k       25\n",
       "b       21\n",
       "ao      20\n",
       "ag      19\n",
       "z       19\n",
       "Name: X2, dtype: int64"
      ]
     },
     "execution_count": 14,
     "metadata": {},
     "output_type": "execute_result"
    }
   ],
   "source": [
    "# let's find the top 10 most frequent categories for the variable X2\n",
    "data.X2.value_counts().sort_values(ascending=False).head(20)"
   ]
  },
  {
   "cell_type": "code",
   "execution_count": 15,
   "id": "boolean-disaster",
   "metadata": {},
   "outputs": [
    {
     "data": {
      "text/plain": [
       "['as', 'ae', 'ai', 'm', 'ak', 'r', 'n', 's', 'f', 'e']"
      ]
     },
     "execution_count": 15,
     "metadata": {},
     "output_type": "execute_result"
    }
   ],
   "source": [
    "# let's make a list with the most frequent categories of the variable\n",
    "top_10_labels = [y for y in data.X2.value_counts().sort_values(ascending=False).head(10).index]\n",
    "top_10_labels"
   ]
  },
  {
   "cell_type": "code",
   "execution_count": 16,
   "id": "brief-julian",
   "metadata": {},
   "outputs": [],
   "source": [
    "# get whole set of dummy variables, for all the categorical variables\n",
    "\n",
    "def one_hot_encoding_top_x(df, variable, top_x_labels):\n",
    "    # function to create the dummy variables for the most frequent labels\n",
    "    # we can vary the number of most frequent labels that we encode\n",
    "    \n",
    "    for label in top_x_labels:\n",
    "        df[variable + '_' + label] = np.where(df[variable] == label, 1, 0)"
   ]
  },
  {
   "cell_type": "code",
   "execution_count": 17,
   "id": "legal-theme",
   "metadata": {},
   "outputs": [],
   "source": [
    "one_hot_encoding_top_x(data, 'X2', top_10_labels)"
   ]
  },
  {
   "cell_type": "code",
   "execution_count": 18,
   "id": "swiss-nebraska",
   "metadata": {},
   "outputs": [
    {
     "data": {
      "text/html": [
       "<div>\n",
       "<style scoped>\n",
       "    .dataframe tbody tr th:only-of-type {\n",
       "        vertical-align: middle;\n",
       "    }\n",
       "\n",
       "    .dataframe tbody tr th {\n",
       "        vertical-align: top;\n",
       "    }\n",
       "\n",
       "    .dataframe thead th {\n",
       "        text-align: right;\n",
       "    }\n",
       "</style>\n",
       "<table border=\"1\" class=\"dataframe\">\n",
       "  <thead>\n",
       "    <tr style=\"text-align: right;\">\n",
       "      <th></th>\n",
       "      <th>X1</th>\n",
       "      <th>X2</th>\n",
       "      <th>X2_as</th>\n",
       "      <th>X2_ae</th>\n",
       "      <th>X2_ai</th>\n",
       "      <th>X2_m</th>\n",
       "      <th>X2_ak</th>\n",
       "      <th>X2_r</th>\n",
       "      <th>X2_n</th>\n",
       "      <th>X2_s</th>\n",
       "      <th>X2_f</th>\n",
       "      <th>X2_e</th>\n",
       "    </tr>\n",
       "  </thead>\n",
       "  <tbody>\n",
       "    <tr>\n",
       "      <th>0</th>\n",
       "      <td>v</td>\n",
       "      <td>at</td>\n",
       "      <td>0</td>\n",
       "      <td>0</td>\n",
       "      <td>0</td>\n",
       "      <td>0</td>\n",
       "      <td>0</td>\n",
       "      <td>0</td>\n",
       "      <td>0</td>\n",
       "      <td>0</td>\n",
       "      <td>0</td>\n",
       "      <td>0</td>\n",
       "    </tr>\n",
       "    <tr>\n",
       "      <th>1</th>\n",
       "      <td>t</td>\n",
       "      <td>av</td>\n",
       "      <td>0</td>\n",
       "      <td>0</td>\n",
       "      <td>0</td>\n",
       "      <td>0</td>\n",
       "      <td>0</td>\n",
       "      <td>0</td>\n",
       "      <td>0</td>\n",
       "      <td>0</td>\n",
       "      <td>0</td>\n",
       "      <td>0</td>\n",
       "    </tr>\n",
       "    <tr>\n",
       "      <th>2</th>\n",
       "      <td>w</td>\n",
       "      <td>n</td>\n",
       "      <td>0</td>\n",
       "      <td>0</td>\n",
       "      <td>0</td>\n",
       "      <td>0</td>\n",
       "      <td>0</td>\n",
       "      <td>0</td>\n",
       "      <td>1</td>\n",
       "      <td>0</td>\n",
       "      <td>0</td>\n",
       "      <td>0</td>\n",
       "    </tr>\n",
       "    <tr>\n",
       "      <th>3</th>\n",
       "      <td>t</td>\n",
       "      <td>n</td>\n",
       "      <td>0</td>\n",
       "      <td>0</td>\n",
       "      <td>0</td>\n",
       "      <td>0</td>\n",
       "      <td>0</td>\n",
       "      <td>0</td>\n",
       "      <td>1</td>\n",
       "      <td>0</td>\n",
       "      <td>0</td>\n",
       "      <td>0</td>\n",
       "    </tr>\n",
       "    <tr>\n",
       "      <th>4</th>\n",
       "      <td>v</td>\n",
       "      <td>n</td>\n",
       "      <td>0</td>\n",
       "      <td>0</td>\n",
       "      <td>0</td>\n",
       "      <td>0</td>\n",
       "      <td>0</td>\n",
       "      <td>0</td>\n",
       "      <td>1</td>\n",
       "      <td>0</td>\n",
       "      <td>0</td>\n",
       "      <td>0</td>\n",
       "    </tr>\n",
       "  </tbody>\n",
       "</table>\n",
       "</div>"
      ],
      "text/plain": [
       "  X1  X2  X2_as  X2_ae  X2_ai  X2_m  X2_ak  X2_r  X2_n  X2_s  X2_f  X2_e\n",
       "0  v  at      0      0      0     0      0     0     0     0     0     0\n",
       "1  t  av      0      0      0     0      0     0     0     0     0     0\n",
       "2  w   n      0      0      0     0      0     0     1     0     0     0\n",
       "3  t   n      0      0      0     0      0     0     1     0     0     0\n",
       "4  v   n      0      0      0     0      0     0     1     0     0     0"
      ]
     },
     "execution_count": 18,
     "metadata": {},
     "output_type": "execute_result"
    }
   ],
   "source": [
    "data.head()"
   ]
  },
  {
   "cell_type": "code",
   "execution_count": null,
   "id": "chemical-england",
   "metadata": {},
   "outputs": [],
   "source": []
  },
  {
   "cell_type": "markdown",
   "id": "enormous-probability",
   "metadata": {},
   "source": [
    "# 3) Target guided ordinal encoding"
   ]
  },
  {
   "cell_type": "code",
   "execution_count": 19,
   "id": "surrounded-commons",
   "metadata": {},
   "outputs": [],
   "source": [
    "df = pd.read_csv('titanic.csv', usecols = ['Sex', 'Embarked','Survived','Cabin'])"
   ]
  },
  {
   "cell_type": "code",
   "execution_count": 20,
   "id": "outside-cologne",
   "metadata": {},
   "outputs": [],
   "source": [
    "# replacing with 'Missing' for nan values\n",
    "df['Cabin'].fillna('Missing', inplace = True)"
   ]
  },
  {
   "cell_type": "code",
   "execution_count": 21,
   "id": "warming-politics",
   "metadata": {},
   "outputs": [],
   "source": [
    "# converting the values in cabin column to list and taking the first letter in each value\n",
    "df['First_letter_in_Cabin'] = df['Cabin'].astype(str).str[0]"
   ]
  },
  {
   "cell_type": "code",
   "execution_count": 22,
   "id": "fossil-bandwidth",
   "metadata": {},
   "outputs": [
    {
     "data": {
      "text/html": [
       "<div>\n",
       "<style scoped>\n",
       "    .dataframe tbody tr th:only-of-type {\n",
       "        vertical-align: middle;\n",
       "    }\n",
       "\n",
       "    .dataframe tbody tr th {\n",
       "        vertical-align: top;\n",
       "    }\n",
       "\n",
       "    .dataframe thead th {\n",
       "        text-align: right;\n",
       "    }\n",
       "</style>\n",
       "<table border=\"1\" class=\"dataframe\">\n",
       "  <thead>\n",
       "    <tr style=\"text-align: right;\">\n",
       "      <th></th>\n",
       "      <th>Survived</th>\n",
       "      <th>Sex</th>\n",
       "      <th>Cabin</th>\n",
       "      <th>Embarked</th>\n",
       "      <th>First_letter_in_Cabin</th>\n",
       "    </tr>\n",
       "  </thead>\n",
       "  <tbody>\n",
       "    <tr>\n",
       "      <th>0</th>\n",
       "      <td>0</td>\n",
       "      <td>male</td>\n",
       "      <td>Missing</td>\n",
       "      <td>S</td>\n",
       "      <td>M</td>\n",
       "    </tr>\n",
       "    <tr>\n",
       "      <th>1</th>\n",
       "      <td>1</td>\n",
       "      <td>female</td>\n",
       "      <td>C85</td>\n",
       "      <td>C</td>\n",
       "      <td>C</td>\n",
       "    </tr>\n",
       "    <tr>\n",
       "      <th>2</th>\n",
       "      <td>1</td>\n",
       "      <td>female</td>\n",
       "      <td>Missing</td>\n",
       "      <td>S</td>\n",
       "      <td>M</td>\n",
       "    </tr>\n",
       "    <tr>\n",
       "      <th>3</th>\n",
       "      <td>1</td>\n",
       "      <td>female</td>\n",
       "      <td>C123</td>\n",
       "      <td>S</td>\n",
       "      <td>C</td>\n",
       "    </tr>\n",
       "    <tr>\n",
       "      <th>4</th>\n",
       "      <td>0</td>\n",
       "      <td>male</td>\n",
       "      <td>Missing</td>\n",
       "      <td>S</td>\n",
       "      <td>M</td>\n",
       "    </tr>\n",
       "  </tbody>\n",
       "</table>\n",
       "</div>"
      ],
      "text/plain": [
       "   Survived     Sex    Cabin Embarked First_letter_in_Cabin\n",
       "0         0    male  Missing        S                     M\n",
       "1         1  female      C85        C                     C\n",
       "2         1  female  Missing        S                     M\n",
       "3         1  female     C123        S                     C\n",
       "4         0    male  Missing        S                     M"
      ]
     },
     "execution_count": 22,
     "metadata": {},
     "output_type": "execute_result"
    }
   ],
   "source": [
    "df.head()"
   ]
  },
  {
   "cell_type": "code",
   "execution_count": 23,
   "id": "removable-french",
   "metadata": {},
   "outputs": [
    {
     "data": {
      "text/plain": [
       "First_letter_in_Cabin\n",
       "A    0.466667\n",
       "B    0.744681\n",
       "C    0.593220\n",
       "D    0.757576\n",
       "E    0.750000\n",
       "F    0.615385\n",
       "G    0.500000\n",
       "M    0.299854\n",
       "T    0.000000\n",
       "Name: Survived, dtype: float64"
      ]
     },
     "execution_count": 23,
     "metadata": {},
     "output_type": "execute_result"
    }
   ],
   "source": [
    "# we are doing groupby to cabin column based on survived \n",
    "\n",
    "#  means probability of A being survived is 0.466667\n",
    "#  means probability of B being survived is 0.744681\n",
    "#  means probability of C being survived is 0.593220\n",
    "# ..\n",
    "\n",
    "df.groupby(['First_letter_in_Cabin'])['Survived'].mean()"
   ]
  },
  {
   "cell_type": "code",
   "execution_count": 24,
   "id": "literary-symphony",
   "metadata": {},
   "outputs": [
    {
     "data": {
      "text/plain": [
       "First_letter_in_Cabin\n",
       "T    0.000000\n",
       "M    0.299854\n",
       "A    0.466667\n",
       "G    0.500000\n",
       "C    0.593220\n",
       "F    0.615385\n",
       "B    0.744681\n",
       "E    0.750000\n",
       "D    0.757576\n",
       "Name: Survived, dtype: float64"
      ]
     },
     "execution_count": 24,
     "metadata": {},
     "output_type": "execute_result"
    }
   ],
   "source": [
    "df.groupby(['First_letter_in_Cabin'])['Survived'].mean().sort_values()\n",
    "\n",
    "# we can sort A,B,C like that also  by using the below code\n",
    "\n",
    "# df.groupby(['First_letter_in_Cabin'])['Survived'].mean().sort_index()"
   ]
  },
  {
   "cell_type": "code",
   "execution_count": 25,
   "id": "coral-steel",
   "metadata": {},
   "outputs": [
    {
     "data": {
      "text/plain": [
       "Index(['T', 'M', 'A', 'G', 'C', 'F', 'B', 'E', 'D'], dtype='object', name='First_letter_in_Cabin')"
      ]
     },
     "execution_count": 25,
     "metadata": {},
     "output_type": "execute_result"
    }
   ],
   "source": [
    "# getting the index of that\n",
    "ordinal_labels = df.groupby(['First_letter_in_Cabin'])['Survived'].mean().sort_values().index\n",
    "ordinal_labels"
   ]
  },
  {
   "cell_type": "code",
   "execution_count": 26,
   "id": "compact-relative",
   "metadata": {},
   "outputs": [
    {
     "data": {
      "text/plain": [
       "{'T': 0, 'M': 1, 'A': 2, 'G': 3, 'C': 4, 'F': 5, 'B': 6, 'E': 7, 'D': 8}"
      ]
     },
     "execution_count": 26,
     "metadata": {},
     "output_type": "execute_result"
    }
   ],
   "source": [
    "#  creating a dictonnary\n",
    "odinal_dict = {k:i for i,k in enumerate(ordinal_labels,0)}\n",
    "odinal_dict"
   ]
  },
  {
   "cell_type": "code",
   "execution_count": 27,
   "id": "behavioral-council",
   "metadata": {},
   "outputs": [
    {
     "data": {
      "text/html": [
       "<div>\n",
       "<style scoped>\n",
       "    .dataframe tbody tr th:only-of-type {\n",
       "        vertical-align: middle;\n",
       "    }\n",
       "\n",
       "    .dataframe tbody tr th {\n",
       "        vertical-align: top;\n",
       "    }\n",
       "\n",
       "    .dataframe thead th {\n",
       "        text-align: right;\n",
       "    }\n",
       "</style>\n",
       "<table border=\"1\" class=\"dataframe\">\n",
       "  <thead>\n",
       "    <tr style=\"text-align: right;\">\n",
       "      <th></th>\n",
       "      <th>Survived</th>\n",
       "      <th>Sex</th>\n",
       "      <th>Cabin</th>\n",
       "      <th>Embarked</th>\n",
       "      <th>First_letter_in_Cabin</th>\n",
       "      <th>Cabin_ordinal_labels</th>\n",
       "    </tr>\n",
       "  </thead>\n",
       "  <tbody>\n",
       "    <tr>\n",
       "      <th>0</th>\n",
       "      <td>0</td>\n",
       "      <td>male</td>\n",
       "      <td>Missing</td>\n",
       "      <td>S</td>\n",
       "      <td>M</td>\n",
       "      <td>1</td>\n",
       "    </tr>\n",
       "    <tr>\n",
       "      <th>1</th>\n",
       "      <td>1</td>\n",
       "      <td>female</td>\n",
       "      <td>C85</td>\n",
       "      <td>C</td>\n",
       "      <td>C</td>\n",
       "      <td>4</td>\n",
       "    </tr>\n",
       "    <tr>\n",
       "      <th>2</th>\n",
       "      <td>1</td>\n",
       "      <td>female</td>\n",
       "      <td>Missing</td>\n",
       "      <td>S</td>\n",
       "      <td>M</td>\n",
       "      <td>1</td>\n",
       "    </tr>\n",
       "    <tr>\n",
       "      <th>3</th>\n",
       "      <td>1</td>\n",
       "      <td>female</td>\n",
       "      <td>C123</td>\n",
       "      <td>S</td>\n",
       "      <td>C</td>\n",
       "      <td>4</td>\n",
       "    </tr>\n",
       "    <tr>\n",
       "      <th>4</th>\n",
       "      <td>0</td>\n",
       "      <td>male</td>\n",
       "      <td>Missing</td>\n",
       "      <td>S</td>\n",
       "      <td>M</td>\n",
       "      <td>1</td>\n",
       "    </tr>\n",
       "  </tbody>\n",
       "</table>\n",
       "</div>"
      ],
      "text/plain": [
       "   Survived     Sex    Cabin Embarked First_letter_in_Cabin  \\\n",
       "0         0    male  Missing        S                     M   \n",
       "1         1  female      C85        C                     C   \n",
       "2         1  female  Missing        S                     M   \n",
       "3         1  female     C123        S                     C   \n",
       "4         0    male  Missing        S                     M   \n",
       "\n",
       "   Cabin_ordinal_labels  \n",
       "0                     1  \n",
       "1                     4  \n",
       "2                     1  \n",
       "3                     4  \n",
       "4                     1  "
      ]
     },
     "execution_count": 27,
     "metadata": {},
     "output_type": "execute_result"
    }
   ],
   "source": [
    "# creating new column and mapping the dictonary to the Cabin column\n",
    "df['Cabin_ordinal_labels']=df['First_letter_in_Cabin'].map(odinal_dict)\n",
    "df.head()"
   ]
  },
  {
   "cell_type": "code",
   "execution_count": null,
   "id": "industrial-release",
   "metadata": {},
   "outputs": [],
   "source": []
  },
  {
   "cell_type": "markdown",
   "id": "signed-chamber",
   "metadata": {},
   "source": [
    "# 3) Mean encoding\n",
    "\n",
    "* The MeanEncoder() replaces categories by the mean value of the target for each category.\n",
    "* For example in the variable colour, if the mean of the target for blue, red and grey is 0.5, 0.8 and 0.1 respectively, blue is replaced by 0.5, red by 0.8 and grey by 0.1."
   ]
  },
  {
   "cell_type": "code",
   "execution_count": 28,
   "id": "opponent-barrel",
   "metadata": {},
   "outputs": [
    {
     "data": {
      "text/plain": [
       "array(['S', 'C', 'Q', nan], dtype=object)"
      ]
     },
     "execution_count": 28,
     "metadata": {},
     "output_type": "execute_result"
    }
   ],
   "source": [
    "df['Embarked'].unique()"
   ]
  },
  {
   "cell_type": "code",
   "execution_count": 29,
   "id": "rising-deadline",
   "metadata": {},
   "outputs": [
    {
     "data": {
      "text/plain": [
       "Embarked\n",
       "C    0.553571\n",
       "Q    0.389610\n",
       "S    0.336957\n",
       "Name: Survived, dtype: float64"
      ]
     },
     "execution_count": 29,
     "metadata": {},
     "output_type": "execute_result"
    }
   ],
   "source": [
    "df.groupby(['Embarked'])['Survived'].mean()"
   ]
  },
  {
   "cell_type": "code",
   "execution_count": 30,
   "id": "earlier-headquarters",
   "metadata": {},
   "outputs": [
    {
     "data": {
      "text/plain": [
       "{'C': 0.5535714285714286, 'Q': 0.38961038961038963, 'S': 0.33695652173913043}"
      ]
     },
     "execution_count": 30,
     "metadata": {},
     "output_type": "execute_result"
    }
   ],
   "source": [
    "# converting to dictionary (helps us to map)\n",
    "\n",
    "mean_ordinal = df.groupby(['Embarked'])['Survived'].mean().to_dict()\n",
    "mean_ordinal"
   ]
  },
  {
   "cell_type": "code",
   "execution_count": 31,
   "id": "wired-execution",
   "metadata": {},
   "outputs": [
    {
     "data": {
      "text/html": [
       "<div>\n",
       "<style scoped>\n",
       "    .dataframe tbody tr th:only-of-type {\n",
       "        vertical-align: middle;\n",
       "    }\n",
       "\n",
       "    .dataframe tbody tr th {\n",
       "        vertical-align: top;\n",
       "    }\n",
       "\n",
       "    .dataframe thead th {\n",
       "        text-align: right;\n",
       "    }\n",
       "</style>\n",
       "<table border=\"1\" class=\"dataframe\">\n",
       "  <thead>\n",
       "    <tr style=\"text-align: right;\">\n",
       "      <th></th>\n",
       "      <th>Survived</th>\n",
       "      <th>Sex</th>\n",
       "      <th>Cabin</th>\n",
       "      <th>Embarked</th>\n",
       "      <th>First_letter_in_Cabin</th>\n",
       "      <th>Cabin_ordinal_labels</th>\n",
       "      <th>mean_ordinal_encode</th>\n",
       "    </tr>\n",
       "  </thead>\n",
       "  <tbody>\n",
       "    <tr>\n",
       "      <th>0</th>\n",
       "      <td>0</td>\n",
       "      <td>male</td>\n",
       "      <td>Missing</td>\n",
       "      <td>S</td>\n",
       "      <td>M</td>\n",
       "      <td>1</td>\n",
       "      <td>0.336957</td>\n",
       "    </tr>\n",
       "    <tr>\n",
       "      <th>1</th>\n",
       "      <td>1</td>\n",
       "      <td>female</td>\n",
       "      <td>C85</td>\n",
       "      <td>C</td>\n",
       "      <td>C</td>\n",
       "      <td>4</td>\n",
       "      <td>0.553571</td>\n",
       "    </tr>\n",
       "    <tr>\n",
       "      <th>2</th>\n",
       "      <td>1</td>\n",
       "      <td>female</td>\n",
       "      <td>Missing</td>\n",
       "      <td>S</td>\n",
       "      <td>M</td>\n",
       "      <td>1</td>\n",
       "      <td>0.336957</td>\n",
       "    </tr>\n",
       "    <tr>\n",
       "      <th>3</th>\n",
       "      <td>1</td>\n",
       "      <td>female</td>\n",
       "      <td>C123</td>\n",
       "      <td>S</td>\n",
       "      <td>C</td>\n",
       "      <td>4</td>\n",
       "      <td>0.336957</td>\n",
       "    </tr>\n",
       "    <tr>\n",
       "      <th>4</th>\n",
       "      <td>0</td>\n",
       "      <td>male</td>\n",
       "      <td>Missing</td>\n",
       "      <td>S</td>\n",
       "      <td>M</td>\n",
       "      <td>1</td>\n",
       "      <td>0.336957</td>\n",
       "    </tr>\n",
       "  </tbody>\n",
       "</table>\n",
       "</div>"
      ],
      "text/plain": [
       "   Survived     Sex    Cabin Embarked First_letter_in_Cabin  \\\n",
       "0         0    male  Missing        S                     M   \n",
       "1         1  female      C85        C                     C   \n",
       "2         1  female  Missing        S                     M   \n",
       "3         1  female     C123        S                     C   \n",
       "4         0    male  Missing        S                     M   \n",
       "\n",
       "   Cabin_ordinal_labels  mean_ordinal_encode  \n",
       "0                     1             0.336957  \n",
       "1                     4             0.553571  \n",
       "2                     1             0.336957  \n",
       "3                     4             0.336957  \n",
       "4                     1             0.336957  "
      ]
     },
     "execution_count": 31,
     "metadata": {},
     "output_type": "execute_result"
    }
   ],
   "source": [
    "# creating new column and mapping the dictonary to the embarked column\n",
    "df['mean_ordinal_encode'] = df['Embarked'].map(mean_ordinal)\n",
    "df.head()"
   ]
  },
  {
   "cell_type": "code",
   "execution_count": null,
   "id": "copyrighted-weight",
   "metadata": {},
   "outputs": [],
   "source": []
  },
  {
   "cell_type": "markdown",
   "id": "fundamental-integration",
   "metadata": {},
   "source": [
    "# 4) Count or Frequency encoding\n",
    "\n",
    "* same like mean encoding but instead of mean we will use value counts"
   ]
  },
  {
   "cell_type": "code",
   "execution_count": 32,
   "id": "intermediate-algorithm",
   "metadata": {},
   "outputs": [
    {
     "data": {
      "text/plain": [
       "array(['S', 'C', 'Q', nan], dtype=object)"
      ]
     },
     "execution_count": 32,
     "metadata": {},
     "output_type": "execute_result"
    }
   ],
   "source": [
    "df['Embarked'].unique()"
   ]
  },
  {
   "cell_type": "code",
   "execution_count": 33,
   "id": "proper-apollo",
   "metadata": {},
   "outputs": [
    {
     "data": {
      "text/plain": [
       "S    644\n",
       "C    168\n",
       "Q     77\n",
       "Name: Embarked, dtype: int64"
      ]
     },
     "execution_count": 33,
     "metadata": {},
     "output_type": "execute_result"
    }
   ],
   "source": [
    "df['Embarked'].value_counts()"
   ]
  },
  {
   "cell_type": "code",
   "execution_count": 34,
   "id": "worldwide-taste",
   "metadata": {},
   "outputs": [
    {
     "data": {
      "text/plain": [
       "{'S': 644, 'C': 168, 'Q': 77}"
      ]
     },
     "execution_count": 34,
     "metadata": {},
     "output_type": "execute_result"
    }
   ],
   "source": [
    "count_dict = df['Embarked'].value_counts().to_dict()\n",
    "count_dict"
   ]
  },
  {
   "cell_type": "code",
   "execution_count": 35,
   "id": "supported-mistress",
   "metadata": {},
   "outputs": [
    {
     "data": {
      "text/html": [
       "<div>\n",
       "<style scoped>\n",
       "    .dataframe tbody tr th:only-of-type {\n",
       "        vertical-align: middle;\n",
       "    }\n",
       "\n",
       "    .dataframe tbody tr th {\n",
       "        vertical-align: top;\n",
       "    }\n",
       "\n",
       "    .dataframe thead th {\n",
       "        text-align: right;\n",
       "    }\n",
       "</style>\n",
       "<table border=\"1\" class=\"dataframe\">\n",
       "  <thead>\n",
       "    <tr style=\"text-align: right;\">\n",
       "      <th></th>\n",
       "      <th>Survived</th>\n",
       "      <th>Sex</th>\n",
       "      <th>Cabin</th>\n",
       "      <th>Embarked</th>\n",
       "      <th>First_letter_in_Cabin</th>\n",
       "      <th>Cabin_ordinal_labels</th>\n",
       "      <th>mean_ordinal_encode</th>\n",
       "      <th>count_encoding</th>\n",
       "    </tr>\n",
       "  </thead>\n",
       "  <tbody>\n",
       "    <tr>\n",
       "      <th>0</th>\n",
       "      <td>0</td>\n",
       "      <td>male</td>\n",
       "      <td>Missing</td>\n",
       "      <td>S</td>\n",
       "      <td>M</td>\n",
       "      <td>1</td>\n",
       "      <td>0.336957</td>\n",
       "      <td>644.0</td>\n",
       "    </tr>\n",
       "    <tr>\n",
       "      <th>1</th>\n",
       "      <td>1</td>\n",
       "      <td>female</td>\n",
       "      <td>C85</td>\n",
       "      <td>C</td>\n",
       "      <td>C</td>\n",
       "      <td>4</td>\n",
       "      <td>0.553571</td>\n",
       "      <td>168.0</td>\n",
       "    </tr>\n",
       "    <tr>\n",
       "      <th>2</th>\n",
       "      <td>1</td>\n",
       "      <td>female</td>\n",
       "      <td>Missing</td>\n",
       "      <td>S</td>\n",
       "      <td>M</td>\n",
       "      <td>1</td>\n",
       "      <td>0.336957</td>\n",
       "      <td>644.0</td>\n",
       "    </tr>\n",
       "    <tr>\n",
       "      <th>3</th>\n",
       "      <td>1</td>\n",
       "      <td>female</td>\n",
       "      <td>C123</td>\n",
       "      <td>S</td>\n",
       "      <td>C</td>\n",
       "      <td>4</td>\n",
       "      <td>0.336957</td>\n",
       "      <td>644.0</td>\n",
       "    </tr>\n",
       "    <tr>\n",
       "      <th>4</th>\n",
       "      <td>0</td>\n",
       "      <td>male</td>\n",
       "      <td>Missing</td>\n",
       "      <td>S</td>\n",
       "      <td>M</td>\n",
       "      <td>1</td>\n",
       "      <td>0.336957</td>\n",
       "      <td>644.0</td>\n",
       "    </tr>\n",
       "  </tbody>\n",
       "</table>\n",
       "</div>"
      ],
      "text/plain": [
       "   Survived     Sex    Cabin Embarked First_letter_in_Cabin  \\\n",
       "0         0    male  Missing        S                     M   \n",
       "1         1  female      C85        C                     C   \n",
       "2         1  female  Missing        S                     M   \n",
       "3         1  female     C123        S                     C   \n",
       "4         0    male  Missing        S                     M   \n",
       "\n",
       "   Cabin_ordinal_labels  mean_ordinal_encode  count_encoding  \n",
       "0                     1             0.336957           644.0  \n",
       "1                     4             0.553571           168.0  \n",
       "2                     1             0.336957           644.0  \n",
       "3                     4             0.336957           644.0  \n",
       "4                     1             0.336957           644.0  "
      ]
     },
     "execution_count": 35,
     "metadata": {},
     "output_type": "execute_result"
    }
   ],
   "source": [
    "# creating new column and mapping the dictonary to the embarked column\n",
    "df['count_encoding'] = df['Embarked'].map(count_dict)\n",
    "df.head()"
   ]
  },
  {
   "cell_type": "code",
   "execution_count": null,
   "id": "fundamental-company",
   "metadata": {},
   "outputs": [],
   "source": []
  },
  {
   "cell_type": "markdown",
   "id": "public-darkness",
   "metadata": {},
   "source": [
    "# 5) Label Encoding\n",
    "\n",
    "* Same like mean encoding but we will give our own dictonary and we will map that dictonary to the column\n",
    "* mainly used if we have ordinal data, eg: good, better, best (good-1, better-2, best-3)"
   ]
  },
  {
   "cell_type": "code",
   "execution_count": 36,
   "id": "measured-bulletin",
   "metadata": {},
   "outputs": [
    {
     "data": {
      "text/plain": [
       "array(['S', 'C', 'Q', nan], dtype=object)"
      ]
     },
     "execution_count": 36,
     "metadata": {},
     "output_type": "execute_result"
    }
   ],
   "source": [
    "df['Embarked'].unique()"
   ]
  },
  {
   "cell_type": "code",
   "execution_count": 37,
   "id": "bibliographic-friendship",
   "metadata": {},
   "outputs": [],
   "source": [
    "# manually creating dictonary\n",
    "label_dict = {'C':1, 'S':2, 'Q':3}"
   ]
  },
  {
   "cell_type": "code",
   "execution_count": 38,
   "id": "forward-accommodation",
   "metadata": {},
   "outputs": [
    {
     "name": "stdout",
     "output_type": "stream",
     "text": [
      "{'S': 0, 'C': 1, 'Q': 2}\n"
     ]
    }
   ],
   "source": [
    "#creating dictonary by code\n",
    "\n",
    "keys = list(df['Embarked'].unique())\n",
    "values = range(df['Embarked'].nunique())\n",
    "\n",
    "label_dict = dict(zip(keys, values))\n",
    "print(label_dict)"
   ]
  },
  {
   "cell_type": "code",
   "execution_count": 39,
   "id": "hundred-brooklyn",
   "metadata": {},
   "outputs": [
    {
     "data": {
      "text/plain": [
       "{'S': 0, 'C': 1, 'Q': 2, nan: 3}"
      ]
     },
     "execution_count": 39,
     "metadata": {},
     "output_type": "execute_result"
    }
   ],
   "source": [
    "# another method to create dictonary\n",
    "ordinal_labels2 = {k:i for i, k in enumerate(df['Embarked'].unique(),0)}\n",
    "ordinal_labels2"
   ]
  },
  {
   "cell_type": "code",
   "execution_count": 40,
   "id": "southwest-cutting",
   "metadata": {
    "tags": []
   },
   "outputs": [
    {
     "data": {
      "text/html": [
       "<div>\n",
       "<style scoped>\n",
       "    .dataframe tbody tr th:only-of-type {\n",
       "        vertical-align: middle;\n",
       "    }\n",
       "\n",
       "    .dataframe tbody tr th {\n",
       "        vertical-align: top;\n",
       "    }\n",
       "\n",
       "    .dataframe thead th {\n",
       "        text-align: right;\n",
       "    }\n",
       "</style>\n",
       "<table border=\"1\" class=\"dataframe\">\n",
       "  <thead>\n",
       "    <tr style=\"text-align: right;\">\n",
       "      <th></th>\n",
       "      <th>Survived</th>\n",
       "      <th>Sex</th>\n",
       "      <th>Cabin</th>\n",
       "      <th>Embarked</th>\n",
       "      <th>First_letter_in_Cabin</th>\n",
       "      <th>Cabin_ordinal_labels</th>\n",
       "      <th>mean_ordinal_encode</th>\n",
       "      <th>count_encoding</th>\n",
       "      <th>label_encoding</th>\n",
       "    </tr>\n",
       "  </thead>\n",
       "  <tbody>\n",
       "    <tr>\n",
       "      <th>0</th>\n",
       "      <td>0</td>\n",
       "      <td>male</td>\n",
       "      <td>Missing</td>\n",
       "      <td>S</td>\n",
       "      <td>M</td>\n",
       "      <td>1</td>\n",
       "      <td>0.336957</td>\n",
       "      <td>644.0</td>\n",
       "      <td>0.0</td>\n",
       "    </tr>\n",
       "    <tr>\n",
       "      <th>1</th>\n",
       "      <td>1</td>\n",
       "      <td>female</td>\n",
       "      <td>C85</td>\n",
       "      <td>C</td>\n",
       "      <td>C</td>\n",
       "      <td>4</td>\n",
       "      <td>0.553571</td>\n",
       "      <td>168.0</td>\n",
       "      <td>1.0</td>\n",
       "    </tr>\n",
       "    <tr>\n",
       "      <th>2</th>\n",
       "      <td>1</td>\n",
       "      <td>female</td>\n",
       "      <td>Missing</td>\n",
       "      <td>S</td>\n",
       "      <td>M</td>\n",
       "      <td>1</td>\n",
       "      <td>0.336957</td>\n",
       "      <td>644.0</td>\n",
       "      <td>0.0</td>\n",
       "    </tr>\n",
       "    <tr>\n",
       "      <th>3</th>\n",
       "      <td>1</td>\n",
       "      <td>female</td>\n",
       "      <td>C123</td>\n",
       "      <td>S</td>\n",
       "      <td>C</td>\n",
       "      <td>4</td>\n",
       "      <td>0.336957</td>\n",
       "      <td>644.0</td>\n",
       "      <td>0.0</td>\n",
       "    </tr>\n",
       "    <tr>\n",
       "      <th>4</th>\n",
       "      <td>0</td>\n",
       "      <td>male</td>\n",
       "      <td>Missing</td>\n",
       "      <td>S</td>\n",
       "      <td>M</td>\n",
       "      <td>1</td>\n",
       "      <td>0.336957</td>\n",
       "      <td>644.0</td>\n",
       "      <td>0.0</td>\n",
       "    </tr>\n",
       "  </tbody>\n",
       "</table>\n",
       "</div>"
      ],
      "text/plain": [
       "   Survived     Sex    Cabin Embarked First_letter_in_Cabin  \\\n",
       "0         0    male  Missing        S                     M   \n",
       "1         1  female      C85        C                     C   \n",
       "2         1  female  Missing        S                     M   \n",
       "3         1  female     C123        S                     C   \n",
       "4         0    male  Missing        S                     M   \n",
       "\n",
       "   Cabin_ordinal_labels  mean_ordinal_encode  count_encoding  label_encoding  \n",
       "0                     1             0.336957           644.0             0.0  \n",
       "1                     4             0.553571           168.0             1.0  \n",
       "2                     1             0.336957           644.0             0.0  \n",
       "3                     4             0.336957           644.0             0.0  \n",
       "4                     1             0.336957           644.0             0.0  "
      ]
     },
     "execution_count": 40,
     "metadata": {},
     "output_type": "execute_result"
    }
   ],
   "source": [
    "df['label_encoding'] = df['Embarked'].map(label_dict)\n",
    "df.head()"
   ]
  },
  {
   "cell_type": "code",
   "execution_count": null,
   "id": "chronic-manchester",
   "metadata": {},
   "outputs": [],
   "source": []
  },
  {
   "cell_type": "markdown",
   "id": "rising-laugh",
   "metadata": {},
   "source": [
    "# 6) Probability ratio encoding\n",
    "\n",
    "* The PRatioEncoder() replaces categories by the ratio of the probability of the target = 1 and the probability of the target = 0.\n",
    "* This categorical encoding is exclusive for binary classification."
   ]
  },
  {
   "cell_type": "markdown",
   "id": "standard-growth",
   "metadata": {},
   "source": [
    "1. Probability of Survived based on Cabin--- Categorical Feature\n",
    "2. Probability of Not Survived---1-pr(Survived)\n",
    "3. pr(Survived)/pr(Not Survived)\n",
    "4. Dictonary to map cabin with probability\n",
    "5. replace with the categorical feature"
   ]
  },
  {
   "cell_type": "code",
   "execution_count": 41,
   "id": "japanese-abraham",
   "metadata": {},
   "outputs": [],
   "source": [
    "prob_df = df.groupby(['Embarked'])['Survived'].mean()\n",
    "# converting to data frame\n",
    "prob_df = pd.DataFrame(prob_df)"
   ]
  },
  {
   "cell_type": "code",
   "execution_count": 42,
   "id": "strong-howard",
   "metadata": {},
   "outputs": [
    {
     "data": {
      "text/html": [
       "<div>\n",
       "<style scoped>\n",
       "    .dataframe tbody tr th:only-of-type {\n",
       "        vertical-align: middle;\n",
       "    }\n",
       "\n",
       "    .dataframe tbody tr th {\n",
       "        vertical-align: top;\n",
       "    }\n",
       "\n",
       "    .dataframe thead th {\n",
       "        text-align: right;\n",
       "    }\n",
       "</style>\n",
       "<table border=\"1\" class=\"dataframe\">\n",
       "  <thead>\n",
       "    <tr style=\"text-align: right;\">\n",
       "      <th></th>\n",
       "      <th>Survived</th>\n",
       "    </tr>\n",
       "    <tr>\n",
       "      <th>Embarked</th>\n",
       "      <th></th>\n",
       "    </tr>\n",
       "  </thead>\n",
       "  <tbody>\n",
       "    <tr>\n",
       "      <th>C</th>\n",
       "      <td>0.553571</td>\n",
       "    </tr>\n",
       "    <tr>\n",
       "      <th>Q</th>\n",
       "      <td>0.389610</td>\n",
       "    </tr>\n",
       "    <tr>\n",
       "      <th>S</th>\n",
       "      <td>0.336957</td>\n",
       "    </tr>\n",
       "  </tbody>\n",
       "</table>\n",
       "</div>"
      ],
      "text/plain": [
       "          Survived\n",
       "Embarked          \n",
       "C         0.553571\n",
       "Q         0.389610\n",
       "S         0.336957"
      ]
     },
     "execution_count": 42,
     "metadata": {},
     "output_type": "execute_result"
    }
   ],
   "source": [
    "prob_df"
   ]
  },
  {
   "cell_type": "code",
   "execution_count": 43,
   "id": "expensive-seven",
   "metadata": {},
   "outputs": [],
   "source": [
    "# creating new column died (i.e. 1 - survived)\n",
    "prob_df['Died'] = 1 - prob_df['Survived']"
   ]
  },
  {
   "cell_type": "code",
   "execution_count": 44,
   "id": "controversial-spank",
   "metadata": {},
   "outputs": [
    {
     "data": {
      "text/html": [
       "<div>\n",
       "<style scoped>\n",
       "    .dataframe tbody tr th:only-of-type {\n",
       "        vertical-align: middle;\n",
       "    }\n",
       "\n",
       "    .dataframe tbody tr th {\n",
       "        vertical-align: top;\n",
       "    }\n",
       "\n",
       "    .dataframe thead th {\n",
       "        text-align: right;\n",
       "    }\n",
       "</style>\n",
       "<table border=\"1\" class=\"dataframe\">\n",
       "  <thead>\n",
       "    <tr style=\"text-align: right;\">\n",
       "      <th></th>\n",
       "      <th>Survived</th>\n",
       "      <th>Died</th>\n",
       "    </tr>\n",
       "    <tr>\n",
       "      <th>Embarked</th>\n",
       "      <th></th>\n",
       "      <th></th>\n",
       "    </tr>\n",
       "  </thead>\n",
       "  <tbody>\n",
       "    <tr>\n",
       "      <th>C</th>\n",
       "      <td>0.553571</td>\n",
       "      <td>0.446429</td>\n",
       "    </tr>\n",
       "    <tr>\n",
       "      <th>Q</th>\n",
       "      <td>0.389610</td>\n",
       "      <td>0.610390</td>\n",
       "    </tr>\n",
       "    <tr>\n",
       "      <th>S</th>\n",
       "      <td>0.336957</td>\n",
       "      <td>0.663043</td>\n",
       "    </tr>\n",
       "  </tbody>\n",
       "</table>\n",
       "</div>"
      ],
      "text/plain": [
       "          Survived      Died\n",
       "Embarked                    \n",
       "C         0.553571  0.446429\n",
       "Q         0.389610  0.610390\n",
       "S         0.336957  0.663043"
      ]
     },
     "execution_count": 44,
     "metadata": {},
     "output_type": "execute_result"
    }
   ],
   "source": [
    "prob_df"
   ]
  },
  {
   "cell_type": "code",
   "execution_count": 45,
   "id": "promising-shopper",
   "metadata": {},
   "outputs": [],
   "source": [
    "#creating a new column and calculating the ratio\n",
    "prob_df['Probability_ratio'] = prob_df['Survived']/prob_df['Died']"
   ]
  },
  {
   "cell_type": "code",
   "execution_count": 46,
   "id": "authentic-semester",
   "metadata": {},
   "outputs": [
    {
     "data": {
      "text/html": [
       "<div>\n",
       "<style scoped>\n",
       "    .dataframe tbody tr th:only-of-type {\n",
       "        vertical-align: middle;\n",
       "    }\n",
       "\n",
       "    .dataframe tbody tr th {\n",
       "        vertical-align: top;\n",
       "    }\n",
       "\n",
       "    .dataframe thead th {\n",
       "        text-align: right;\n",
       "    }\n",
       "</style>\n",
       "<table border=\"1\" class=\"dataframe\">\n",
       "  <thead>\n",
       "    <tr style=\"text-align: right;\">\n",
       "      <th></th>\n",
       "      <th>Survived</th>\n",
       "      <th>Died</th>\n",
       "      <th>Probability_ratio</th>\n",
       "    </tr>\n",
       "    <tr>\n",
       "      <th>Embarked</th>\n",
       "      <th></th>\n",
       "      <th></th>\n",
       "      <th></th>\n",
       "    </tr>\n",
       "  </thead>\n",
       "  <tbody>\n",
       "    <tr>\n",
       "      <th>C</th>\n",
       "      <td>0.553571</td>\n",
       "      <td>0.446429</td>\n",
       "      <td>1.240000</td>\n",
       "    </tr>\n",
       "    <tr>\n",
       "      <th>Q</th>\n",
       "      <td>0.389610</td>\n",
       "      <td>0.610390</td>\n",
       "      <td>0.638298</td>\n",
       "    </tr>\n",
       "    <tr>\n",
       "      <th>S</th>\n",
       "      <td>0.336957</td>\n",
       "      <td>0.663043</td>\n",
       "      <td>0.508197</td>\n",
       "    </tr>\n",
       "  </tbody>\n",
       "</table>\n",
       "</div>"
      ],
      "text/plain": [
       "          Survived      Died  Probability_ratio\n",
       "Embarked                                       \n",
       "C         0.553571  0.446429           1.240000\n",
       "Q         0.389610  0.610390           0.638298\n",
       "S         0.336957  0.663043           0.508197"
      ]
     },
     "execution_count": 46,
     "metadata": {},
     "output_type": "execute_result"
    }
   ],
   "source": [
    "prob_df"
   ]
  },
  {
   "cell_type": "code",
   "execution_count": 47,
   "id": "adjacent-husband",
   "metadata": {},
   "outputs": [
    {
     "data": {
      "text/plain": [
       "{'C': 1.2400000000000002, 'Q': 0.6382978723404256, 'S': 0.5081967213114753}"
      ]
     },
     "execution_count": 47,
     "metadata": {},
     "output_type": "execute_result"
    }
   ],
   "source": [
    "# converting to dict\n",
    "probability_encoded = prob_df['Probability_ratio'].to_dict()\n",
    "probability_encoded"
   ]
  },
  {
   "cell_type": "code",
   "execution_count": 48,
   "id": "valuable-punch",
   "metadata": {},
   "outputs": [
    {
     "data": {
      "text/html": [
       "<div>\n",
       "<style scoped>\n",
       "    .dataframe tbody tr th:only-of-type {\n",
       "        vertical-align: middle;\n",
       "    }\n",
       "\n",
       "    .dataframe tbody tr th {\n",
       "        vertical-align: top;\n",
       "    }\n",
       "\n",
       "    .dataframe thead th {\n",
       "        text-align: right;\n",
       "    }\n",
       "</style>\n",
       "<table border=\"1\" class=\"dataframe\">\n",
       "  <thead>\n",
       "    <tr style=\"text-align: right;\">\n",
       "      <th></th>\n",
       "      <th>Survived</th>\n",
       "      <th>Sex</th>\n",
       "      <th>Cabin</th>\n",
       "      <th>Embarked</th>\n",
       "      <th>First_letter_in_Cabin</th>\n",
       "      <th>Cabin_ordinal_labels</th>\n",
       "      <th>mean_ordinal_encode</th>\n",
       "      <th>count_encoding</th>\n",
       "      <th>label_encoding</th>\n",
       "      <th>probablity_ratio_encoding</th>\n",
       "    </tr>\n",
       "  </thead>\n",
       "  <tbody>\n",
       "    <tr>\n",
       "      <th>0</th>\n",
       "      <td>0</td>\n",
       "      <td>male</td>\n",
       "      <td>Missing</td>\n",
       "      <td>S</td>\n",
       "      <td>M</td>\n",
       "      <td>1</td>\n",
       "      <td>0.336957</td>\n",
       "      <td>644.0</td>\n",
       "      <td>0.0</td>\n",
       "      <td>0.508197</td>\n",
       "    </tr>\n",
       "    <tr>\n",
       "      <th>1</th>\n",
       "      <td>1</td>\n",
       "      <td>female</td>\n",
       "      <td>C85</td>\n",
       "      <td>C</td>\n",
       "      <td>C</td>\n",
       "      <td>4</td>\n",
       "      <td>0.553571</td>\n",
       "      <td>168.0</td>\n",
       "      <td>1.0</td>\n",
       "      <td>1.240000</td>\n",
       "    </tr>\n",
       "    <tr>\n",
       "      <th>2</th>\n",
       "      <td>1</td>\n",
       "      <td>female</td>\n",
       "      <td>Missing</td>\n",
       "      <td>S</td>\n",
       "      <td>M</td>\n",
       "      <td>1</td>\n",
       "      <td>0.336957</td>\n",
       "      <td>644.0</td>\n",
       "      <td>0.0</td>\n",
       "      <td>0.508197</td>\n",
       "    </tr>\n",
       "    <tr>\n",
       "      <th>3</th>\n",
       "      <td>1</td>\n",
       "      <td>female</td>\n",
       "      <td>C123</td>\n",
       "      <td>S</td>\n",
       "      <td>C</td>\n",
       "      <td>4</td>\n",
       "      <td>0.336957</td>\n",
       "      <td>644.0</td>\n",
       "      <td>0.0</td>\n",
       "      <td>0.508197</td>\n",
       "    </tr>\n",
       "    <tr>\n",
       "      <th>4</th>\n",
       "      <td>0</td>\n",
       "      <td>male</td>\n",
       "      <td>Missing</td>\n",
       "      <td>S</td>\n",
       "      <td>M</td>\n",
       "      <td>1</td>\n",
       "      <td>0.336957</td>\n",
       "      <td>644.0</td>\n",
       "      <td>0.0</td>\n",
       "      <td>0.508197</td>\n",
       "    </tr>\n",
       "  </tbody>\n",
       "</table>\n",
       "</div>"
      ],
      "text/plain": [
       "   Survived     Sex    Cabin Embarked First_letter_in_Cabin  \\\n",
       "0         0    male  Missing        S                     M   \n",
       "1         1  female      C85        C                     C   \n",
       "2         1  female  Missing        S                     M   \n",
       "3         1  female     C123        S                     C   \n",
       "4         0    male  Missing        S                     M   \n",
       "\n",
       "   Cabin_ordinal_labels  mean_ordinal_encode  count_encoding  label_encoding  \\\n",
       "0                     1             0.336957           644.0             0.0   \n",
       "1                     4             0.553571           168.0             1.0   \n",
       "2                     1             0.336957           644.0             0.0   \n",
       "3                     4             0.336957           644.0             0.0   \n",
       "4                     1             0.336957           644.0             0.0   \n",
       "\n",
       "   probablity_ratio_encoding  \n",
       "0                   0.508197  \n",
       "1                   1.240000  \n",
       "2                   0.508197  \n",
       "3                   0.508197  \n",
       "4                   0.508197  "
      ]
     },
     "execution_count": 48,
     "metadata": {},
     "output_type": "execute_result"
    }
   ],
   "source": [
    "df['probablity_ratio_encoding'] = df['Embarked'].map(probability_encoded)\n",
    "df.head()"
   ]
  }
 ],
 "metadata": {
  "kernelspec": {
   "display_name": "Python 3",
   "language": "python",
   "name": "python3"
  },
  "language_info": {
   "codemirror_mode": {
    "name": "ipython",
    "version": 3
   },
   "file_extension": ".py",
   "mimetype": "text/x-python",
   "name": "python",
   "nbconvert_exporter": "python",
   "pygments_lexer": "ipython3",
   "version": "3.8.6"
  }
 },
 "nbformat": 4,
 "nbformat_minor": 5
}
